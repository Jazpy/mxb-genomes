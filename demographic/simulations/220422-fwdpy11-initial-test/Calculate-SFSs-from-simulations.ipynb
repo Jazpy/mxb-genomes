{
 "cells": [
  {
   "cell_type": "code",
   "execution_count": 1,
   "id": "160df7f6",
   "metadata": {
    "execution": {
     "iopub.execute_input": "2022-04-30T03:33:37.374901Z",
     "iopub.status.busy": "2022-04-30T03:33:37.374492Z",
     "iopub.status.idle": "2022-04-30T03:33:37.837605Z",
     "shell.execute_reply": "2022-04-30T03:33:37.836699Z"
    }
   },
   "outputs": [],
   "source": [
    "import numpy as np\n",
    "import tskit\n",
    "import fwdpy11\n",
    "import gzip\n",
    "import demes\n",
    "import pandas as pd"
   ]
  },
  {
   "cell_type": "markdown",
   "id": "32d34ec7",
   "metadata": {},
   "source": [
    "## Calculate the SFS from the msprime simulation\n",
    "\n",
    "I will look at the SFS for the followin pops.\n",
    "\n",
    "- AFR\n",
    "- IBS (EUR)\n",
    "- MXB (NAT)\n",
    "- MXL (Admixed)"
   ]
  },
  {
   "cell_type": "code",
   "execution_count": 2,
   "id": "5ed5a0b1",
   "metadata": {
    "execution": {
     "iopub.execute_input": "2022-04-30T03:33:37.842236Z",
     "iopub.status.busy": "2022-04-30T03:33:37.842082Z",
     "iopub.status.idle": "2022-04-30T03:33:37.885345Z",
     "shell.execute_reply": "2022-04-30T03:33:37.884504Z"
    }
   },
   "outputs": [],
   "source": [
    "ts_msprime = tskit.load('data/ts-msprime.ts')"
   ]
  },
  {
   "cell_type": "code",
   "execution_count": 3,
   "id": "ce3bef0d",
   "metadata": {
    "execution": {
     "iopub.execute_input": "2022-04-30T03:33:37.889261Z",
     "iopub.status.busy": "2022-04-30T03:33:37.889105Z",
     "iopub.status.idle": "2022-04-30T03:33:37.923225Z",
     "shell.execute_reply": "2022-04-30T03:33:37.922542Z"
    }
   },
   "outputs": [
    {
     "data": {
      "text/html": [
       "\n",
       "            <div>\n",
       "              <style>\n",
       "                .tskit-table thead tr th {text-align: left;padding: 0.5em 0.5em;}\n",
       "                .tskit-table tbody tr td {padding: 0.5em 0.5em;}\n",
       "                .tskit-table tbody tr td:first-of-type {text-align: left;}\n",
       "                .tskit-details-label {vertical-align: top; padding-right:5px;}\n",
       "                .tskit-table-set {display: inline-flex;flex-wrap: wrap;margin: -12px 0 0 -12px;width: calc(100% + 12px);}\n",
       "                .tskit-table-set-table {margin: 12px 0 0 12px;}\n",
       "                details {display: inline-block;}\n",
       "                summary {cursor: pointer; outline: 0; display: list-item;}\n",
       "              </style>\n",
       "              <div class=\"tskit-table-set\">\n",
       "                <div class=\"tskit-table-set-table\">\n",
       "                  <table class=\"tskit-table\">\n",
       "                    <thead>\n",
       "                      <tr>\n",
       "                        <th style=\"padding:0;line-height:21px;\">\n",
       "                          <img style=\"height: 32px;display: inline-block;padding: 3px 5px 3px 0;\" src=\"https://raw.githubusercontent.com/tskit-dev/administrative/main/tskit_logo.svg\"/>\n",
       "                          <a target=\"_blank\" href=\"https://tskit.dev/tskit/docs/latest/python-api.html#the-treesequence-class\"> Tree Sequence </a>\n",
       "                        </th>\n",
       "                      </tr>\n",
       "                    </thead>\n",
       "                    <tbody>\n",
       "                      <tr><td>Trees</td><td>65892</td></tr>\n",
       "                      <tr><td>Sequence Length</td><td>10000000.0</td></tr>\n",
       "                      <tr><td>Time Units</td><td>generations</td></tr>\n",
       "                      <tr><td>Sample Nodes</td><td>500</td></tr>\n",
       "                      <tr><td>Total Size</td><td>14.9 MiB</td></tr>\n",
       "                      <tr>\n",
       "                        <td>Metadata</td><td style=\"text-align: left;\">No Metadata</td></tr>\n",
       "                    </tbody>\n",
       "                  </table>\n",
       "                </div>\n",
       "                <div class=\"tskit-table-set-table\">\n",
       "                  <table class=\"tskit-table\">\n",
       "                    <thead>\n",
       "                      <tr>\n",
       "                        <th style=\"line-height:21px;\">Table</th>\n",
       "                        <th>Rows</th>\n",
       "                        <th>Size</th>\n",
       "                        <th>Has Metadata</th>\n",
       "                      </tr>\n",
       "                    </thead>\n",
       "                    <tbody>\n",
       "                    \n",
       "                  <tr>\n",
       "                    <td>Edges</td>\n",
       "                      <td>252634</td>\n",
       "                      <td>7.7 MiB</td>\n",
       "                      <td style=\"text-align: center;\">\n",
       "                        \n",
       "                      </td>\n",
       "                    </tr>\n",
       "                \n",
       "                  <tr>\n",
       "                    <td>Individuals</td>\n",
       "                      <td>250</td>\n",
       "                      <td>6.9 KiB</td>\n",
       "                      <td style=\"text-align: center;\">\n",
       "                        \n",
       "                      </td>\n",
       "                    </tr>\n",
       "                \n",
       "                  <tr>\n",
       "                    <td>Migrations</td>\n",
       "                      <td>0</td>\n",
       "                      <td>8 Bytes</td>\n",
       "                      <td style=\"text-align: center;\">\n",
       "                        \n",
       "                      </td>\n",
       "                    </tr>\n",
       "                \n",
       "                  <tr>\n",
       "                    <td>Mutations</td>\n",
       "                      <td>70476</td>\n",
       "                      <td>2.5 MiB</td>\n",
       "                      <td style=\"text-align: center;\">\n",
       "                        \n",
       "                      </td>\n",
       "                    </tr>\n",
       "                \n",
       "                  <tr>\n",
       "                    <td>Nodes</td>\n",
       "                      <td>39682</td>\n",
       "                      <td>1.1 MiB</td>\n",
       "                      <td style=\"text-align: center;\">\n",
       "                        \n",
       "                      </td>\n",
       "                    </tr>\n",
       "                \n",
       "                  <tr>\n",
       "                    <td>Populations</td>\n",
       "                      <td>8</td>\n",
       "                      <td>731 Bytes</td>\n",
       "                      <td style=\"text-align: center;\">\n",
       "                        ✅\n",
       "                      </td>\n",
       "                    </tr>\n",
       "                \n",
       "                  <tr>\n",
       "                    <td>Provenances</td>\n",
       "                      <td>2</td>\n",
       "                      <td>6.7 KiB</td>\n",
       "                      <td style=\"text-align: center;\">\n",
       "                        \n",
       "                      </td>\n",
       "                    </tr>\n",
       "                \n",
       "                  <tr>\n",
       "                    <td>Sites</td>\n",
       "                      <td>70236</td>\n",
       "                      <td>1.7 MiB</td>\n",
       "                      <td style=\"text-align: center;\">\n",
       "                        \n",
       "                      </td>\n",
       "                    </tr>\n",
       "                \n",
       "                    </tbody>\n",
       "                  </table>\n",
       "                </div>\n",
       "              </div>\n",
       "            </div>\n",
       "            "
      ],
      "text/plain": [
       "<tskit.trees.TreeSequence at 0x7f4dd03a4700>"
      ]
     },
     "execution_count": 3,
     "metadata": {},
     "output_type": "execute_result"
    }
   ],
   "source": [
    "ts_msprime"
   ]
  },
  {
   "cell_type": "code",
   "execution_count": 4,
   "id": "8f77a4d3",
   "metadata": {
    "execution": {
     "iopub.execute_input": "2022-04-30T03:33:37.928458Z",
     "iopub.status.busy": "2022-04-30T03:33:37.928305Z",
     "iopub.status.idle": "2022-04-30T03:33:37.932876Z",
     "shell.execute_reply": "2022-04-30T03:33:37.932091Z"
    }
   },
   "outputs": [
    {
     "name": "stdout",
     "output_type": "stream",
     "text": [
      "Population(id=0, metadata={'description': 'Equilibrium/root population', 'name': 'ancestral'})\n",
      "Population(id=1, metadata={'description': 'Anatomically modern humans', 'name': 'AMH'})\n",
      "Population(id=2, metadata={'description': 'Bottleneck out-of-Africa population', 'name': 'OOA'})\n",
      "Population(id=3, metadata={'description': 'Yoruba in Ibadan, Nigeria', 'name': 'YRI'})\n",
      "Population(id=4, metadata={'description': 'Iberian populations in Spain (IBS).', 'name': 'IBS'})\n",
      "Population(id=5, metadata={'description': 'Han Chinese in Beijing, China', 'name': 'CHB'})\n",
      "Population(id=6, metadata={'description': 'Native American,  Mexico.', 'name': 'MXB'})\n",
      "Population(id=7, metadata={'description': 'Admixed population in Mexico', 'name': 'MXL'})\n"
     ]
    }
   ],
   "source": [
    "# What are the populations?\n",
    "for x in ts_msprime.populations():\n",
    "    print(x)"
   ]
  },
  {
   "cell_type": "markdown",
   "id": "148839eb",
   "metadata": {},
   "source": [
    "The function `ts.samples` returns an array of the sample node IDs in this tree sequence. \n",
    "NOTE: you can pass the population to get the list of nodes in that population."
   ]
  },
  {
   "cell_type": "code",
   "execution_count": 5,
   "id": "ee36a932",
   "metadata": {
    "execution": {
     "iopub.execute_input": "2022-04-30T03:33:37.937138Z",
     "iopub.status.busy": "2022-04-30T03:33:37.936995Z",
     "iopub.status.idle": "2022-04-30T03:33:37.943703Z",
     "shell.execute_reply": "2022-04-30T03:33:37.943109Z"
    }
   },
   "outputs": [
    {
     "data": {
      "text/plain": [
       "array([400, 401, 402, 403, 404, 405, 406, 407, 408, 409, 410, 411, 412,\n",
       "       413, 414, 415, 416, 417, 418, 419, 420, 421, 422, 423, 424, 425,\n",
       "       426, 427, 428, 429, 430, 431, 432, 433, 434, 435, 436, 437, 438,\n",
       "       439, 440, 441, 442, 443, 444, 445, 446, 447, 448, 449, 450, 451,\n",
       "       452, 453, 454, 455, 456, 457, 458, 459, 460, 461, 462, 463, 464,\n",
       "       465, 466, 467, 468, 469, 470, 471, 472, 473, 474, 475, 476, 477,\n",
       "       478, 479, 480, 481, 482, 483, 484, 485, 486, 487, 488, 489, 490,\n",
       "       491, 492, 493, 494, 495, 496, 497, 498, 499], dtype=int32)"
      ]
     },
     "execution_count": 5,
     "metadata": {},
     "output_type": "execute_result"
    }
   ],
   "source": [
    "# For example to get the individuals from MXL\n",
    "ts_msprime.samples(7)"
   ]
  },
  {
   "cell_type": "code",
   "execution_count": 6,
   "id": "c1b2ad22",
   "metadata": {
    "execution": {
     "iopub.execute_input": "2022-04-30T03:33:37.947609Z",
     "iopub.status.busy": "2022-04-30T03:33:37.947467Z",
     "iopub.status.idle": "2022-04-30T03:33:38.007230Z",
     "shell.execute_reply": "2022-04-30T03:33:38.006574Z"
    }
   },
   "outputs": [
    {
     "data": {
      "text/plain": [
       "array([26905. , 10573.5,  5084.5,  3281. ,  2488. ,  1937.5,  1525. ,\n",
       "        1258. ,  1189.5,   995.5,   976. ,   815.5,   723.5,   665.5,\n",
       "         610.5,   584.5,   547.5,   570.5,   463. ,   447. ,   397. ,\n",
       "         373. ,   383.5,   410. ,   369.5,   339. ,   303. ,   337. ,\n",
       "         275.5,   252.5,   311. ,   264.5,   252. ,   278.5,   284. ,\n",
       "         263.5,   281. ,   278. ,   277.5,   261. ,   249. ,   242. ,\n",
       "         245. ,   205.5,   273.5,   226. ,   215.5,   244.5,   259.5,\n",
       "         216.5,   104.5,     0. ,     0. ,     0. ,     0. ,     0. ,\n",
       "           0. ,     0. ,     0. ,     0. ,     0. ,     0. ,     0. ,\n",
       "           0. ,     0. ,     0. ,     0. ,     0. ,     0. ,     0. ,\n",
       "           0. ,     0. ,     0. ,     0. ,     0. ,     0. ,     0. ,\n",
       "           0. ,     0. ,     0. ,     0. ,     0. ,     0. ,     0. ,\n",
       "           0. ,     0. ,     0. ,     0. ,     0. ,     0. ,     0. ,\n",
       "           0. ,     0. ,     0. ,     0. ,     0. ,     0. ,     0. ,\n",
       "           0. ,     0. ,     0. ])"
      ]
     },
     "execution_count": 6,
     "metadata": {},
     "output_type": "execute_result"
    }
   ],
   "source": [
    "# We can get the SFS with\n",
    "mxl_nodes = ts_msprime.samples(3)\n",
    "ts_msprime.allele_frequency_spectrum(sample_sets=[mxl_nodes],span_normalise=False)\n"
   ]
  },
  {
   "cell_type": "code",
   "execution_count": 7,
   "id": "ff088835",
   "metadata": {
    "execution": {
     "iopub.execute_input": "2022-04-30T03:33:38.011778Z",
     "iopub.status.busy": "2022-04-30T03:33:38.011574Z",
     "iopub.status.idle": "2022-04-30T03:33:38.016000Z",
     "shell.execute_reply": "2022-04-30T03:33:38.015402Z"
    }
   },
   "outputs": [],
   "source": [
    "def get_single_sfs(ts, pop_id):\n",
    "    # this line tells us the ids from \n",
    "    # the given populations.\n",
    "    sample_nodes = ts.samples(pop_id)\n",
    "    sf = ts.allele_frequency_spectrum(sample_sets=[sample_nodes],span_normalise=False)\n",
    "    return pd.DataFrame(\n",
    "        {'F': sf,\n",
    "         'derived_allel_freq': range(len(sf)),\n",
    "         'pop_id': pop_id\n",
    "        }\n",
    "    )\n",
    "    return sf"
   ]
  },
  {
   "cell_type": "code",
   "execution_count": 8,
   "id": "2f386b2b",
   "metadata": {
    "execution": {
     "iopub.execute_input": "2022-04-30T03:33:38.019586Z",
     "iopub.status.busy": "2022-04-30T03:33:38.019444Z",
     "iopub.status.idle": "2022-04-30T03:33:38.207291Z",
     "shell.execute_reply": "2022-04-30T03:33:38.206447Z"
    }
   },
   "outputs": [],
   "source": [
    "sfs_msprime = pd.concat([get_single_sfs(ts_msprime, i) for i in [3, 4, 6, 7]])"
   ]
  },
  {
   "cell_type": "markdown",
   "id": "bb784005",
   "metadata": {},
   "source": [
    "## Calculate the SFS from the fwdpy11 simulation\n",
    "\n",
    "\n",
    "I will use `fwdpy11` functions to compute the SFS.\n",
    "\n",
    "The other alternative is to conver the `fwdpy11-pop` to a `tskit` and simplify (remove samples) the tree\n",
    "and then use the same approach as above to compute the SFS."
   ]
  },
  {
   "cell_type": "code",
   "execution_count": 9,
   "id": "3a5fee45",
   "metadata": {
    "execution": {
     "iopub.execute_input": "2022-04-30T03:33:38.211313Z",
     "iopub.status.busy": "2022-04-30T03:33:38.211154Z",
     "iopub.status.idle": "2022-04-30T03:33:55.967661Z",
     "shell.execute_reply": "2022-04-30T03:33:55.966205Z"
    }
   },
   "outputs": [],
   "source": [
    "# load back the simuation results from fwdpy11\n",
    "with gzip.open('data/sim-pop.gz', 'rb') as f:\n",
    "    pop = fwdpy11.DiploidPopulation.load_from_pickle_file(f)"
   ]
  },
  {
   "cell_type": "code",
   "execution_count": 10,
   "id": "02565022",
   "metadata": {
    "execution": {
     "iopub.execute_input": "2022-04-30T03:33:55.973080Z",
     "iopub.status.busy": "2022-04-30T03:33:55.972813Z",
     "iopub.status.idle": "2022-04-30T03:33:55.984566Z",
     "shell.execute_reply": "2022-04-30T03:33:55.983978Z"
    }
   },
   "outputs": [],
   "source": [
    "nodes = np.array(pop.tables.nodes, copy=False)\n",
    "alive_nodes = pop.alive_nodes\n",
    "deme3_nodes = alive_nodes[np.where(nodes[\"deme\"][alive_nodes] == 3)[0]]"
   ]
  },
  {
   "cell_type": "code",
   "execution_count": 11,
   "id": "bd17f401",
   "metadata": {
    "execution": {
     "iopub.execute_input": "2022-04-30T03:33:55.988294Z",
     "iopub.status.busy": "2022-04-30T03:33:55.988146Z",
     "iopub.status.idle": "2022-04-30T03:34:08.550172Z",
     "shell.execute_reply": "2022-04-30T03:34:08.549316Z"
    }
   },
   "outputs": [
    {
     "data": {
      "text/plain": [
       "masked_array(data=[--, 10939, 5392, 3418, 2555, 1823, 1499, 1340, 1145,\n",
       "                   969, 783, 685, 670, 633, 581, 535, 508, 427, 424, 386,\n",
       "                   362, 331, 305, 304, 283, 259, 271, 232, 232, 247, 197,\n",
       "                   192, 200, 196, 216, 193, 181, 143, 174, 173, 175, 179,\n",
       "                   165, 155, 119, 116, 150, 131, 124, 131, 145, 107, 106,\n",
       "                   113, 100, 103, 110, 120, 74, 97, 98, 95, 76, 82, 99,\n",
       "                   92, 79, 74, 85, 79, 73, 55, 70, 60, 75, 68, 63, 70, 68,\n",
       "                   55, 53, 69, 69, 67, 61, 52, 63, 73, 74, 52, 56, 35, 55,\n",
       "                   55, 55, 43, 58, 58, 44, 48, --],\n",
       "             mask=[ True, False, False, False, False, False, False, False,\n",
       "                   False, False, False, False, False, False, False, False,\n",
       "                   False, False, False, False, False, False, False, False,\n",
       "                   False, False, False, False, False, False, False, False,\n",
       "                   False, False, False, False, False, False, False, False,\n",
       "                   False, False, False, False, False, False, False, False,\n",
       "                   False, False, False, False, False, False, False, False,\n",
       "                   False, False, False, False, False, False, False, False,\n",
       "                   False, False, False, False, False, False, False, False,\n",
       "                   False, False, False, False, False, False, False, False,\n",
       "                   False, False, False, False, False, False, False, False,\n",
       "                   False, False, False, False, False, False, False, False,\n",
       "                   False, False, False, False,  True],\n",
       "       fill_value=999999,\n",
       "            dtype=int32)"
      ]
     },
     "execution_count": 11,
     "metadata": {},
     "output_type": "execute_result"
    }
   ],
   "source": [
    "pop.tables.fs([deme3_nodes[:100]])"
   ]
  },
  {
   "cell_type": "code",
   "execution_count": 12,
   "id": "b9e5be6f",
   "metadata": {
    "execution": {
     "iopub.execute_input": "2022-04-30T03:34:08.554416Z",
     "iopub.status.busy": "2022-04-30T03:34:08.554260Z",
     "iopub.status.idle": "2022-04-30T03:34:08.559892Z",
     "shell.execute_reply": "2022-04-30T03:34:08.559223Z"
    }
   },
   "outputs": [],
   "source": [
    "def sfs_single(apop, pop_id, N):\n",
    "    \"\"\"\n",
    "    Args:\n",
    "        apop: DiploidPopulation\n",
    "        pop_id: the deme id\n",
    "        N: number of nodes (diploid number) to include in the computation\n",
    "    \"\"\"\n",
    "    nodes = np.array(apop.tables.nodes, copy=False)\n",
    "    alive_nodes = apop.alive_nodes\n",
    "    deme_nodes = alive_nodes[np.where(nodes[\"deme\"][alive_nodes] == pop_id)[0]]\n",
    "    sf = apop.tables.fs([deme_nodes[:N]])\n",
    "    sf = sf.data\n",
    "    return pd.DataFrame(\n",
    "        {'F': sf,\n",
    "         'derived_allel_freq': range(len(sf)),\n",
    "         'pop_id': pop_id\n",
    "        }\n",
    "    )"
   ]
  },
  {
   "cell_type": "code",
   "execution_count": 13,
   "id": "c118bf1d",
   "metadata": {
    "execution": {
     "iopub.execute_input": "2022-04-30T03:34:08.563507Z",
     "iopub.status.busy": "2022-04-30T03:34:08.563303Z",
     "iopub.status.idle": "2022-04-30T03:34:21.193580Z",
     "shell.execute_reply": "2022-04-30T03:34:21.192754Z"
    }
   },
   "outputs": [],
   "source": [
    "sf = sfs_single(pop, 4, 100)"
   ]
  },
  {
   "cell_type": "code",
   "execution_count": 14,
   "id": "768dc280",
   "metadata": {
    "execution": {
     "iopub.execute_input": "2022-04-30T03:34:21.198015Z",
     "iopub.status.busy": "2022-04-30T03:34:21.197859Z",
     "iopub.status.idle": "2022-04-30T03:35:11.706664Z",
     "shell.execute_reply": "2022-04-30T03:35:11.705790Z"
    }
   },
   "outputs": [],
   "source": [
    "sfs_fwd = pd.concat([sfs_single(pop, i, 100) for i in [3, 4, 6, 7]])"
   ]
  },
  {
   "cell_type": "code",
   "execution_count": 15,
   "id": "d2ea6390",
   "metadata": {
    "execution": {
     "iopub.execute_input": "2022-04-30T03:35:11.711292Z",
     "iopub.status.busy": "2022-04-30T03:35:11.711130Z",
     "iopub.status.idle": "2022-04-30T03:35:11.721709Z",
     "shell.execute_reply": "2022-04-30T03:35:11.721022Z"
    }
   },
   "outputs": [],
   "source": [
    "# combine the SFS and save them to a frame\n",
    "sfs_fwd['Simulator'] = 'fwdpy11'\n",
    "sfs_msprime['Simulator'] = 'msprime'\n",
    "pd.concat([sfs_fwd, sfs_msprime]).to_csv('results/simulated-sfss.csv', index=False)"
   ]
  },
  {
   "cell_type": "code",
   "execution_count": null,
   "id": "b6c0172c",
   "metadata": {},
   "outputs": [],
   "source": []
  }
 ],
 "metadata": {
  "kernelspec": {
   "display_name": "Python 3 (ipykernel)",
   "language": "python",
   "name": "python3"
  },
  "language_info": {
   "codemirror_mode": {
    "name": "ipython",
    "version": 3
   },
   "file_extension": ".py",
   "mimetype": "text/x-python",
   "name": "python",
   "nbconvert_exporter": "python",
   "pygments_lexer": "ipython3",
   "version": "3.9.12"
  }
 },
 "nbformat": 4,
 "nbformat_minor": 5
}
