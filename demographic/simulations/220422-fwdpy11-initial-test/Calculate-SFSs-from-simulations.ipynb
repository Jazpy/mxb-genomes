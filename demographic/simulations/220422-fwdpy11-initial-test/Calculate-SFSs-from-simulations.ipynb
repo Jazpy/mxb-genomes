{
 "cells": [
  {
   "cell_type": "code",
   "execution_count": 48,
   "id": "160df7f6",
   "metadata": {},
   "outputs": [],
   "source": [
    "import numpy as np\n",
    "import tskit\n",
    "import fwdpy11\n",
    "import gzip\n",
    "import demes\n",
    "import pandas as pd"
   ]
  },
  {
   "cell_type": "markdown",
   "id": "32d34ec7",
   "metadata": {},
   "source": [
    "## Calculate the SFS from the msprime simulation\n",
    "\n",
    "I will look at the SFS for the followin pops.\n",
    "\n",
    "- AFR\n",
    "- IBS (EUR)\n",
    "- MXB (NAT)\n",
    "- MXL (Admixed)"
   ]
  },
  {
   "cell_type": "code",
   "execution_count": 139,
   "id": "5ed5a0b1",
   "metadata": {},
   "outputs": [],
   "source": [
    "ts_msprime = tskit.load('data/ts-msprime.ts')"
   ]
  },
  {
   "cell_type": "code",
   "execution_count": 140,
   "id": "ce3bef0d",
   "metadata": {},
   "outputs": [
    {
     "data": {
      "text/html": [
       "\n",
       "            <div>\n",
       "              <style>\n",
       "                .tskit-table thead tr th {text-align: left;padding: 0.5em 0.5em;}\n",
       "                .tskit-table tbody tr td {padding: 0.5em 0.5em;}\n",
       "                .tskit-table tbody tr td:first-of-type {text-align: left;}\n",
       "                .tskit-details-label {vertical-align: top; padding-right:5px;}\n",
       "                .tskit-table-set {display: inline-flex;flex-wrap: wrap;margin: -12px 0 0 -12px;width: calc(100% + 12px);}\n",
       "                .tskit-table-set-table {margin: 12px 0 0 12px;}\n",
       "                details {display: inline-block;}\n",
       "                summary {cursor: pointer; outline: 0; display: list-item;}\n",
       "              </style>\n",
       "              <div class=\"tskit-table-set\">\n",
       "                <div class=\"tskit-table-set-table\">\n",
       "                  <table class=\"tskit-table\">\n",
       "                    <thead>\n",
       "                      <tr>\n",
       "                        <th style=\"padding:0;line-height:21px;\">\n",
       "                          <img style=\"height: 32px;display: inline-block;padding: 3px 5px 3px 0;\" src=\"https://raw.githubusercontent.com/tskit-dev/administrative/main/tskit_logo.svg\"/>\n",
       "                          <a target=\"_blank\" href=\"https://tskit.dev/tskit/docs/latest/python-api.html#the-treesequence-class\"> Tree Sequence </a>\n",
       "                        </th>\n",
       "                      </tr>\n",
       "                    </thead>\n",
       "                    <tbody>\n",
       "                      <tr><td>Trees</td><td>6707</td></tr>\n",
       "                      <tr><td>Sequence Length</td><td>1000000.0</td></tr>\n",
       "                      <tr><td>Time Units</td><td>generations</td></tr>\n",
       "                      <tr><td>Sample Nodes</td><td>500</td></tr>\n",
       "                      <tr><td>Total Size</td><td>1.6 MiB</td></tr>\n",
       "                      <tr>\n",
       "                        <td>Metadata</td><td style=\"text-align: left;\">No Metadata</td></tr>\n",
       "                    </tbody>\n",
       "                  </table>\n",
       "                </div>\n",
       "                <div class=\"tskit-table-set-table\">\n",
       "                  <table class=\"tskit-table\">\n",
       "                    <thead>\n",
       "                      <tr>\n",
       "                        <th style=\"line-height:21px;\">Table</th>\n",
       "                        <th>Rows</th>\n",
       "                        <th>Size</th>\n",
       "                        <th>Has Metadata</th>\n",
       "                      </tr>\n",
       "                    </thead>\n",
       "                    <tbody>\n",
       "                    \n",
       "                  <tr>\n",
       "                    <td>Edges</td>\n",
       "                      <td>26744</td>\n",
       "                      <td>835.8 KiB</td>\n",
       "                      <td style=\"text-align: center;\">\n",
       "                        \n",
       "                      </td>\n",
       "                    </tr>\n",
       "                \n",
       "                  <tr>\n",
       "                    <td>Individuals</td>\n",
       "                      <td>250</td>\n",
       "                      <td>6.9 KiB</td>\n",
       "                      <td style=\"text-align: center;\">\n",
       "                        \n",
       "                      </td>\n",
       "                    </tr>\n",
       "                \n",
       "                  <tr>\n",
       "                    <td>Migrations</td>\n",
       "                      <td>0</td>\n",
       "                      <td>8 Bytes</td>\n",
       "                      <td style=\"text-align: center;\">\n",
       "                        \n",
       "                      </td>\n",
       "                    </tr>\n",
       "                \n",
       "                  <tr>\n",
       "                    <td>Mutations</td>\n",
       "                      <td>7094</td>\n",
       "                      <td>256.3 KiB</td>\n",
       "                      <td style=\"text-align: center;\">\n",
       "                        \n",
       "                      </td>\n",
       "                    </tr>\n",
       "                \n",
       "                  <tr>\n",
       "                    <td>Nodes</td>\n",
       "                      <td>5350</td>\n",
       "                      <td>146.3 KiB</td>\n",
       "                      <td style=\"text-align: center;\">\n",
       "                        \n",
       "                      </td>\n",
       "                    </tr>\n",
       "                \n",
       "                  <tr>\n",
       "                    <td>Populations</td>\n",
       "                      <td>8</td>\n",
       "                      <td>731 Bytes</td>\n",
       "                      <td style=\"text-align: center;\">\n",
       "                        ✅\n",
       "                      </td>\n",
       "                    </tr>\n",
       "                \n",
       "                  <tr>\n",
       "                    <td>Provenances</td>\n",
       "                      <td>2</td>\n",
       "                      <td>6.7 KiB</td>\n",
       "                      <td style=\"text-align: center;\">\n",
       "                        \n",
       "                      </td>\n",
       "                    </tr>\n",
       "                \n",
       "                  <tr>\n",
       "                    <td>Sites</td>\n",
       "                      <td>7070</td>\n",
       "                      <td>172.6 KiB</td>\n",
       "                      <td style=\"text-align: center;\">\n",
       "                        \n",
       "                      </td>\n",
       "                    </tr>\n",
       "                \n",
       "                    </tbody>\n",
       "                  </table>\n",
       "                </div>\n",
       "              </div>\n",
       "            </div>\n",
       "            "
      ],
      "text/plain": [
       "<tskit.trees.TreeSequence at 0x7f046fc1eca0>"
      ]
     },
     "execution_count": 140,
     "metadata": {},
     "output_type": "execute_result"
    }
   ],
   "source": [
    "ts_msprime"
   ]
  },
  {
   "cell_type": "code",
   "execution_count": 141,
   "id": "8f77a4d3",
   "metadata": {},
   "outputs": [
    {
     "name": "stdout",
     "output_type": "stream",
     "text": [
      "Population(id=0, metadata={'description': 'Equilibrium/root population', 'name': 'ancestral'})\n",
      "Population(id=1, metadata={'description': 'Anatomically modern humans', 'name': 'AMH'})\n",
      "Population(id=2, metadata={'description': 'Bottleneck out-of-Africa population', 'name': 'OOA'})\n",
      "Population(id=3, metadata={'description': 'Yoruba in Ibadan, Nigeria', 'name': 'YRI'})\n",
      "Population(id=4, metadata={'description': 'Iberian populations in Spain (IBS).', 'name': 'IBS'})\n",
      "Population(id=5, metadata={'description': 'Han Chinese in Beijing, China', 'name': 'CHB'})\n",
      "Population(id=6, metadata={'description': 'Native American,  Mexico.', 'name': 'MXB'})\n",
      "Population(id=7, metadata={'description': 'Admixed population in Mexico', 'name': 'MXL'})\n"
     ]
    }
   ],
   "source": [
    "# What are the populations?\n",
    "for x in ts_msprime.populations():\n",
    "    print(x)"
   ]
  },
  {
   "cell_type": "markdown",
   "id": "148839eb",
   "metadata": {},
   "source": [
    "The function `ts.samples` returns an array of the sample node IDs in this tree sequence. \n",
    "NOTE: you can pass the population to get the list of nodes in that population."
   ]
  },
  {
   "cell_type": "code",
   "execution_count": 144,
   "id": "ee36a932",
   "metadata": {},
   "outputs": [
    {
     "data": {
      "text/plain": [
       "array([400, 401, 402, 403, 404, 405, 406, 407, 408, 409, 410, 411, 412,\n",
       "       413, 414, 415, 416, 417, 418, 419, 420, 421, 422, 423, 424, 425,\n",
       "       426, 427, 428, 429, 430, 431, 432, 433, 434, 435, 436, 437, 438,\n",
       "       439, 440, 441, 442, 443, 444, 445, 446, 447, 448, 449, 450, 451,\n",
       "       452, 453, 454, 455, 456, 457, 458, 459, 460, 461, 462, 463, 464,\n",
       "       465, 466, 467, 468, 469, 470, 471, 472, 473, 474, 475, 476, 477,\n",
       "       478, 479, 480, 481, 482, 483, 484, 485, 486, 487, 488, 489, 490,\n",
       "       491, 492, 493, 494, 495, 496, 497, 498, 499], dtype=int32)"
      ]
     },
     "execution_count": 144,
     "metadata": {},
     "output_type": "execute_result"
    }
   ],
   "source": [
    "# For example to get the individuals from MXL\n",
    "ts_msprime.samples(7)"
   ]
  },
  {
   "cell_type": "code",
   "execution_count": 148,
   "id": "c1b2ad22",
   "metadata": {},
   "outputs": [
    {
     "data": {
      "text/plain": [
       "array([2.7045e+03, 1.1875e+03, 5.6150e+02, 3.0900e+02, 2.8200e+02,\n",
       "       1.5650e+02, 1.7350e+02, 1.2100e+02, 1.2100e+02, 9.3500e+01,\n",
       "       7.7000e+01, 8.0500e+01, 6.9000e+01, 5.6000e+01, 8.0000e+01,\n",
       "       6.7000e+01, 5.2500e+01, 6.4000e+01, 4.2500e+01, 5.4500e+01,\n",
       "       5.0000e+01, 2.3000e+01, 3.4000e+01, 3.3000e+01, 2.7000e+01,\n",
       "       3.1000e+01, 2.4000e+01, 2.5000e+01, 2.6000e+01, 2.2500e+01,\n",
       "       1.5000e+01, 3.3000e+01, 3.2000e+01, 3.5000e+01, 2.1000e+01,\n",
       "       2.0000e+01, 2.6000e+01, 3.4000e+01, 1.8500e+01, 1.4000e+01,\n",
       "       2.3000e+01, 1.1000e+01, 3.1000e+01, 2.8000e+01, 1.9000e+01,\n",
       "       1.7000e+01, 1.3000e+01, 1.5000e+01, 1.5000e+01, 6.0000e+00,\n",
       "       2.0000e+00, 0.0000e+00, 0.0000e+00, 0.0000e+00, 0.0000e+00,\n",
       "       0.0000e+00, 0.0000e+00, 0.0000e+00, 0.0000e+00, 0.0000e+00,\n",
       "       0.0000e+00, 0.0000e+00, 0.0000e+00, 0.0000e+00, 0.0000e+00,\n",
       "       0.0000e+00, 0.0000e+00, 0.0000e+00, 0.0000e+00, 0.0000e+00,\n",
       "       0.0000e+00, 0.0000e+00, 0.0000e+00, 0.0000e+00, 0.0000e+00,\n",
       "       0.0000e+00, 0.0000e+00, 0.0000e+00, 0.0000e+00, 0.0000e+00,\n",
       "       0.0000e+00, 0.0000e+00, 0.0000e+00, 0.0000e+00, 0.0000e+00,\n",
       "       0.0000e+00, 0.0000e+00, 0.0000e+00, 0.0000e+00, 0.0000e+00,\n",
       "       0.0000e+00, 0.0000e+00, 0.0000e+00, 0.0000e+00, 0.0000e+00,\n",
       "       0.0000e+00, 0.0000e+00, 0.0000e+00, 0.0000e+00, 0.0000e+00,\n",
       "       0.0000e+00])"
      ]
     },
     "execution_count": 148,
     "metadata": {},
     "output_type": "execute_result"
    }
   ],
   "source": [
    "# We can get the SFS with\n",
    "mxl_nodes = ts_msprime.samples(3)\n",
    "ts_msprime.allele_frequency_spectrum(sample_sets=[mxl_nodes],span_normalise=False)\n"
   ]
  },
  {
   "cell_type": "code",
   "execution_count": 55,
   "id": "ff088835",
   "metadata": {},
   "outputs": [],
   "source": [
    "def get_single_sfs(ts, pop_id):\n",
    "    # this line tells us the ids from \n",
    "    # the given populations.\n",
    "    sample_nodes = ts.samples(pop_id)\n",
    "    sf = ts.allele_frequency_spectrum(sample_sets=[sample_nodes],span_normalise=False)\n",
    "    return pd.DataFrame(\n",
    "        {'F': sf,\n",
    "         'derived_allel_freq': range(len(sf)),\n",
    "         'pop_id': pop_id\n",
    "        }\n",
    "    )\n",
    "    return sf"
   ]
  },
  {
   "cell_type": "code",
   "execution_count": 60,
   "id": "2f386b2b",
   "metadata": {},
   "outputs": [],
   "source": [
    "sfs_msprime = pd.concat([get_single_sfs(ts_msprime, i) for i in [3, 4, 6, 7]])"
   ]
  },
  {
   "cell_type": "markdown",
   "id": "bb784005",
   "metadata": {},
   "source": [
    "## Calculate the SFS from the fwdpy11 simulation\n",
    "\n",
    "\n",
    "I will use `fwdpy11` functions to compute the SFS.\n",
    "\n",
    "The other alternative is to conver the `fwdpy11-pop` to a `tskit` and simplify (remove samples) the tree\n",
    "and then use the same approach as above to compute the SFS."
   ]
  },
  {
   "cell_type": "code",
   "execution_count": 149,
   "id": "3a5fee45",
   "metadata": {},
   "outputs": [],
   "source": [
    "# load back the simuation results from fwdpy11\n",
    "with gzip.open('data/sim-pop.gz', 'rb') as f:\n",
    "    pop = fwdpy11.DiploidPopulation.load_from_pickle_file(f)"
   ]
  },
  {
   "cell_type": "code",
   "execution_count": 110,
   "id": "02565022",
   "metadata": {},
   "outputs": [],
   "source": [
    "nodes = np.array(pop.tables.nodes, copy=False)\n",
    "alive_nodes = pop.alive_nodes\n",
    "deme3_nodes = alive_nodes[np.where(nodes[\"deme\"][alive_nodes] == 3)[0]]"
   ]
  },
  {
   "cell_type": "code",
   "execution_count": 119,
   "id": "bd17f401",
   "metadata": {},
   "outputs": [
    {
     "data": {
      "text/plain": [
       "masked_array(data=[--, 116, 57, 34, 22, 25, 18, 11, 9, 14, 9, 3, 8, 8, 9,\n",
       "                   4, 7, 9, 8, 9, 2, 6, 2, 5, 3, 2, 1, 3, 4, 2, 4, 2, 3,\n",
       "                   4, 1, 1, 1, 5, 0, 2, 1, 2, 0, 1, 3, 2, 2, 1, 1, 1, 0,\n",
       "                   0, 2, 1, 0, 0, 1, 0, 2, 0, 2, 0, 0, 3, 2, 2, 3, 0, 2,\n",
       "                   1, 0, 0, 0, 0, 0, 1, 1, 2, 2, 1, 2, 1, 0, 0, 0, 0, 0,\n",
       "                   1, 1, 0, 0, 0, 0, 1, 0, 0, 2, 0, 0, 0, --],\n",
       "             mask=[ True, False, False, False, False, False, False, False,\n",
       "                   False, False, False, False, False, False, False, False,\n",
       "                   False, False, False, False, False, False, False, False,\n",
       "                   False, False, False, False, False, False, False, False,\n",
       "                   False, False, False, False, False, False, False, False,\n",
       "                   False, False, False, False, False, False, False, False,\n",
       "                   False, False, False, False, False, False, False, False,\n",
       "                   False, False, False, False, False, False, False, False,\n",
       "                   False, False, False, False, False, False, False, False,\n",
       "                   False, False, False, False, False, False, False, False,\n",
       "                   False, False, False, False, False, False, False, False,\n",
       "                   False, False, False, False, False, False, False, False,\n",
       "                   False, False, False, False,  True],\n",
       "       fill_value=999999,\n",
       "            dtype=int32)"
      ]
     },
     "execution_count": 119,
     "metadata": {},
     "output_type": "execute_result"
    }
   ],
   "source": [
    "pop.tables.fs([deme3_nodes[:100]])"
   ]
  },
  {
   "cell_type": "code",
   "execution_count": 133,
   "id": "b9e5be6f",
   "metadata": {},
   "outputs": [],
   "source": [
    "def sfs_single(apop, pop_id, N):\n",
    "    \"\"\"\n",
    "    Args:\n",
    "        apop: DiploidPopulation\n",
    "        pop_id: the deme id\n",
    "        N: number of nodes (diploid number) to include in the computation\n",
    "    \"\"\"\n",
    "    nodes = np.array(apop.tables.nodes, copy=False)\n",
    "    alive_nodes = apop.alive_nodes\n",
    "    deme_nodes = alive_nodes[np.where(nodes[\"deme\"][alive_nodes] == pop_id)[0]]\n",
    "    sf = apop.tables.fs([deme_nodes[:N]])\n",
    "    sf = sf.data\n",
    "    return pd.DataFrame(\n",
    "        {'F': sf,\n",
    "         'derived_allel_freq': range(len(sf)),\n",
    "         'pop_id': pop_id\n",
    "        }\n",
    "    )"
   ]
  },
  {
   "cell_type": "code",
   "execution_count": 134,
   "id": "c118bf1d",
   "metadata": {},
   "outputs": [],
   "source": [
    "sf = sfs_single(pop, 4, 100)"
   ]
  },
  {
   "cell_type": "code",
   "execution_count": 136,
   "id": "768dc280",
   "metadata": {},
   "outputs": [],
   "source": [
    "sfs_fwd = pd.concat([sfs_single(pop, i, 100) for i in [3, 4, 6, 7]])"
   ]
  },
  {
   "cell_type": "code",
   "execution_count": 138,
   "id": "d2ea6390",
   "metadata": {},
   "outputs": [],
   "source": [
    "# combine the SFS and save them to a frame\n",
    "sfs_fwd['Simulator'] = 'fwdpy11'\n",
    "sfs_msprime['Simulator'] = 'msprime'\n",
    "pd.concat([sfs_fwd, sfs_msprime]).to_csv('results/simulated-sfss.csv', index=False)"
   ]
  },
  {
   "cell_type": "code",
   "execution_count": null,
   "id": "b6c0172c",
   "metadata": {},
   "outputs": [],
   "source": []
  }
 ],
 "metadata": {
  "kernelspec": {
   "display_name": "Python 3 (ipykernel)",
   "language": "python",
   "name": "python3"
  },
  "language_info": {
   "codemirror_mode": {
    "name": "ipython",
    "version": 3
   },
   "file_extension": ".py",
   "mimetype": "text/x-python",
   "name": "python",
   "nbconvert_exporter": "python",
   "pygments_lexer": "ipython3",
   "version": "3.9.12"
  }
 },
 "nbformat": 4,
 "nbformat_minor": 5
}
