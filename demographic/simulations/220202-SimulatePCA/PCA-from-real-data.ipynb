{
 "cells": [
  {
   "cell_type": "markdown",
   "id": "e5cd1a0c",
   "metadata": {},
   "source": [
    "## Produce a PCA of the real data"
   ]
  },
  {
   "cell_type": "code",
   "execution_count": 1,
   "id": "d3ac8991",
   "metadata": {
    "execution": {
     "iopub.execute_input": "2022-03-31T17:16:58.002435Z",
     "iopub.status.busy": "2022-03-31T17:16:58.001501Z",
     "iopub.status.idle": "2022-03-31T17:17:08.926014Z",
     "shell.execute_reply": "2022-03-31T17:17:08.926813Z"
    }
   },
   "outputs": [],
   "source": [
    "import numpy as np\n",
    "import allel\n",
    "import seaborn as sns\n",
    "import pandas as pd\n",
    "import sys\n",
    "sys.path.append('../../../')\n",
    "from mxbgenomes.utils import load_populations_info"
   ]
  },
  {
   "cell_type": "code",
   "execution_count": 2,
   "id": "1de90339",
   "metadata": {
    "execution": {
     "iopub.execute_input": "2022-03-31T17:17:08.936873Z",
     "iopub.status.busy": "2022-03-31T17:17:08.936147Z",
     "iopub.status.idle": "2022-03-31T17:17:09.039320Z",
     "shell.execute_reply": "2022-03-31T17:17:09.040108Z"
    }
   },
   "outputs": [],
   "source": [
    "# Samples to use for PCA analysis\n",
    "popinfo = load_populations_info('../../../')\n",
    "popinfo = popinfo[popinfo.Subpopulation.isin(['MXL', 'MXB', 'CHB', 'YRI', 'IBS', 'PEL', 'CLM', 'PUR'])]\n",
    "samples = popinfo.Samplename.tolist()"
   ]
  },
  {
   "cell_type": "code",
   "execution_count": 3,
   "id": "e4469913",
   "metadata": {
    "execution": {
     "iopub.execute_input": "2022-03-31T17:17:09.044878Z",
     "iopub.status.busy": "2022-03-31T17:17:09.043141Z",
     "iopub.status.idle": "2022-03-31T17:17:51.242842Z",
     "shell.execute_reply": "2022-03-31T17:17:51.242103Z"
    }
   },
   "outputs": [],
   "source": [
    "# read the vcf faile for chr1\n",
    "vcf = allel.read_vcf('../../../results/data/210713-HardyW-filters/1TGP_and_50MXB-chr22-snps-vep-mask-HW-GRCh38.vcf.gz')\n"
   ]
  },
  {
   "cell_type": "code",
   "execution_count": 4,
   "id": "fc1b5964",
   "metadata": {
    "execution": {
     "iopub.execute_input": "2022-03-31T17:17:51.257073Z",
     "iopub.status.busy": "2022-03-31T17:17:51.250728Z",
     "iopub.status.idle": "2022-03-31T17:17:51.259779Z",
     "shell.execute_reply": "2022-03-31T17:17:51.259002Z"
    }
   },
   "outputs": [],
   "source": [
    "# subset the samples in the VCF\n",
    "samples_vcf = [x for x in vcf['samples'] if x in samples]\n",
    "samples_vcf_indicator = [x in samples for x in vcf['samples']]\n",
    "del samples"
   ]
  },
  {
   "cell_type": "code",
   "execution_count": 5,
   "id": "0c763d8d",
   "metadata": {
    "execution": {
     "iopub.execute_input": "2022-03-31T17:17:51.264255Z",
     "iopub.status.busy": "2022-03-31T17:17:51.263494Z",
     "iopub.status.idle": "2022-03-31T17:18:04.220719Z",
     "shell.execute_reply": "2022-03-31T17:18:04.221438Z"
    }
   },
   "outputs": [],
   "source": [
    "g = vcf['calldata/GT'][:, samples_vcf_indicator, :]\n",
    "g = allel.GenotypeArray(g)"
   ]
  },
  {
   "cell_type": "code",
   "execution_count": 6,
   "id": "1f783197",
   "metadata": {
    "execution": {
     "iopub.execute_input": "2022-03-31T17:18:04.226731Z",
     "iopub.status.busy": "2022-03-31T17:18:04.225917Z",
     "iopub.status.idle": "2022-03-31T17:18:06.777062Z",
     "shell.execute_reply": "2022-03-31T17:18:06.776578Z"
    }
   },
   "outputs": [
    {
     "data": {
      "text/html": [
       "<div class=\"allel allel-DisplayAs2D\"><span>&lt;AlleleCountsArray shape=(351866, 3) dtype=int32&gt;</span><table><thead><tr><th></th><th style=\"text-align: center\">0</th><th style=\"text-align: center\">1</th><th style=\"text-align: center\">2</th></tr></thead><tbody><tr><th style=\"text-align: center; background-color: white; border-right: 1px solid black; \">0</th><td style=\"text-align: center\">1427</td><td style=\"text-align: center\">   3</td><td style=\"text-align: center\">   0</td></tr><tr><th style=\"text-align: center; background-color: white; border-right: 1px solid black; \">1</th><td style=\"text-align: center\">1429</td><td style=\"text-align: center\">   1</td><td style=\"text-align: center\">   0</td></tr><tr><th style=\"text-align: center; background-color: white; border-right: 1px solid black; \">2</th><td style=\"text-align: center\">1428</td><td style=\"text-align: center\">   2</td><td style=\"text-align: center\">   0</td></tr><tr><th style=\"text-align: center; background-color: white; border-right: 1px solid black; \">...</th><td style=\"text-align: center\" colspan=\"4\">...</td></tr><tr><th style=\"text-align: center; background-color: white; border-right: 1px solid black; \">351863</th><td style=\"text-align: center\">1429</td><td style=\"text-align: center\">   1</td><td style=\"text-align: center\">   0</td></tr><tr><th style=\"text-align: center; background-color: white; border-right: 1px solid black; \">351864</th><td style=\"text-align: center\">1428</td><td style=\"text-align: center\">   2</td><td style=\"text-align: center\">   0</td></tr><tr><th style=\"text-align: center; background-color: white; border-right: 1px solid black; \">351865</th><td style=\"text-align: center\">1429</td><td style=\"text-align: center\">   1</td><td style=\"text-align: center\">   0</td></tr></tbody></table></div>"
      ],
      "text/plain": [
       "<AlleleCountsArray shape=(351866, 3) dtype=int32>\n",
       "1427    3    0\n",
       "1429    1    0\n",
       "1428    2    0\n",
       "...\n",
       "1429    1    0\n",
       "1428    2    0\n",
       "1429    1    0"
      ]
     },
     "execution_count": 6,
     "metadata": {},
     "output_type": "execute_result"
    }
   ],
   "source": [
    "# Count alleles at each variant. \n",
    "ac = g.count_alleles()\n",
    "ac"
   ]
  },
  {
   "cell_type": "code",
   "execution_count": 7,
   "id": "4ead3a0b",
   "metadata": {
    "execution": {
     "iopub.execute_input": "2022-03-31T17:18:06.781523Z",
     "iopub.status.busy": "2022-03-31T17:18:06.781035Z",
     "iopub.status.idle": "2022-03-31T17:18:14.385578Z",
     "shell.execute_reply": "2022-03-31T17:18:14.386354Z"
    }
   },
   "outputs": [
    {
     "data": {
      "text/html": [
       "<div class=\"allel allel-DisplayAs2D\"><span>&lt;GenotypeArray shape=(230585, 715, 2) dtype=int8&gt;</span><table><thead><tr><th></th><th style=\"text-align: center\">0</th><th style=\"text-align: center\">1</th><th style=\"text-align: center\">2</th><th style=\"text-align: center\">3</th><th style=\"text-align: center\">4</th><th style=\"text-align: center\">...</th><th style=\"text-align: center\">710</th><th style=\"text-align: center\">711</th><th style=\"text-align: center\">712</th><th style=\"text-align: center\">713</th><th style=\"text-align: center\">714</th></tr></thead><tbody><tr><th style=\"text-align: center; background-color: white; border-right: 1px solid black; \">0</th><td style=\"text-align: center\">0/0</td><td style=\"text-align: center\">0/0</td><td style=\"text-align: center\">0/0</td><td style=\"text-align: center\">0/0</td><td style=\"text-align: center\">0/0</td><td style=\"text-align: center\">...</td><td style=\"text-align: center\">0/0</td><td style=\"text-align: center\">0/0</td><td style=\"text-align: center\">0/0</td><td style=\"text-align: center\">0/0</td><td style=\"text-align: center\">0/0</td></tr><tr><th style=\"text-align: center; background-color: white; border-right: 1px solid black; \">1</th><td style=\"text-align: center\">0/0</td><td style=\"text-align: center\">0/0</td><td style=\"text-align: center\">0/0</td><td style=\"text-align: center\">0/0</td><td style=\"text-align: center\">0/0</td><td style=\"text-align: center\">...</td><td style=\"text-align: center\">0/0</td><td style=\"text-align: center\">0/0</td><td style=\"text-align: center\">0/0</td><td style=\"text-align: center\">0/0</td><td style=\"text-align: center\">0/0</td></tr><tr><th style=\"text-align: center; background-color: white; border-right: 1px solid black; \">2</th><td style=\"text-align: center\">0/0</td><td style=\"text-align: center\">1/0</td><td style=\"text-align: center\">0/0</td><td style=\"text-align: center\">0/0</td><td style=\"text-align: center\">0/0</td><td style=\"text-align: center\">...</td><td style=\"text-align: center\">0/0</td><td style=\"text-align: center\">0/0</td><td style=\"text-align: center\">0/0</td><td style=\"text-align: center\">0/0</td><td style=\"text-align: center\">0/0</td></tr><tr><th style=\"text-align: center; background-color: white; border-right: 1px solid black; \">...</th><td style=\"text-align: center\" colspan=\"12\">...</td></tr><tr><th style=\"text-align: center; background-color: white; border-right: 1px solid black; \">230582</th><td style=\"text-align: center\">0/0</td><td style=\"text-align: center\">0/0</td><td style=\"text-align: center\">0/0</td><td style=\"text-align: center\">0/0</td><td style=\"text-align: center\">0/0</td><td style=\"text-align: center\">...</td><td style=\"text-align: center\">0/0</td><td style=\"text-align: center\">0/0</td><td style=\"text-align: center\">0/0</td><td style=\"text-align: center\">0/0</td><td style=\"text-align: center\">0/0</td></tr><tr><th style=\"text-align: center; background-color: white; border-right: 1px solid black; \">230583</th><td style=\"text-align: center\">0/0</td><td style=\"text-align: center\">0/0</td><td style=\"text-align: center\">0/0</td><td style=\"text-align: center\">0/0</td><td style=\"text-align: center\">0/0</td><td style=\"text-align: center\">...</td><td style=\"text-align: center\">0/0</td><td style=\"text-align: center\">0/0</td><td style=\"text-align: center\">0/0</td><td style=\"text-align: center\">0/0</td><td style=\"text-align: center\">0/0</td></tr><tr><th style=\"text-align: center; background-color: white; border-right: 1px solid black; \">230584</th><td style=\"text-align: center\">0/0</td><td style=\"text-align: center\">0/0</td><td style=\"text-align: center\">0/0</td><td style=\"text-align: center\">0/0</td><td style=\"text-align: center\">0/0</td><td style=\"text-align: center\">...</td><td style=\"text-align: center\">0/0</td><td style=\"text-align: center\">0/0</td><td style=\"text-align: center\">0/0</td><td style=\"text-align: center\">0/0</td><td style=\"text-align: center\">0/0</td></tr></tbody></table></div>"
      ],
      "text/plain": [
       "<GenotypeArray shape=(230585, 715, 2) dtype=int8>\n",
       "0/0 0/0 0/0 0/0 0/0 ... 0/0 0/0 0/0 0/0 0/0\n",
       "0/0 0/0 0/0 0/0 0/0 ... 0/0 0/0 0/0 0/0 0/0\n",
       "0/0 1/0 0/0 0/0 0/0 ... 0/0 0/0 0/0 0/0 0/0\n",
       "...\n",
       "0/0 0/0 0/0 0/0 0/0 ... 0/0 0/0 0/0 0/0 0/0\n",
       "0/0 0/0 0/0 0/0 0/0 ... 0/0 0/0 0/0 0/0 0/0\n",
       "0/0 0/0 0/0 0/0 0/0 ... 0/0 0/0 0/0 0/0 0/0"
      ]
     },
     "execution_count": 7,
     "metadata": {},
     "output_type": "execute_result"
    }
   ],
   "source": [
    "# filter multiallelic snps and singletons\n",
    "flt = (ac.max_allele() == 1) & (ac[:, :2].min(axis=1) > 1)\n",
    "gf = g.compress(flt, axis=0)\n",
    "gf"
   ]
  },
  {
   "cell_type": "code",
   "execution_count": 8,
   "id": "2a9ebc22",
   "metadata": {
    "execution": {
     "iopub.execute_input": "2022-03-31T17:18:14.390966Z",
     "iopub.status.busy": "2022-03-31T17:18:14.390180Z",
     "iopub.status.idle": "2022-03-31T17:18:21.635759Z",
     "shell.execute_reply": "2022-03-31T17:18:21.636442Z"
    }
   },
   "outputs": [
    {
     "data": {
      "text/plain": [
       "array([[0, 0, 0, ..., 0, 0, 0],\n",
       "       [0, 0, 0, ..., 0, 0, 0],\n",
       "       [0, 1, 0, ..., 0, 0, 0],\n",
       "       ...,\n",
       "       [0, 0, 0, ..., 0, 0, 0],\n",
       "       [0, 0, 0, ..., 0, 0, 0],\n",
       "       [0, 0, 0, ..., 0, 0, 0]], dtype=int8)"
      ]
     },
     "execution_count": 8,
     "metadata": {},
     "output_type": "execute_result"
    }
   ],
   "source": [
    "# transform the genotype data into a 2-dimensional matrix where \n",
    "# each cell has the number of non-reference alleles\n",
    "# per call. This is what we’ll use as the input to PCA.\n",
    "\n",
    "gn = gf.to_n_alt()\n",
    "gn"
   ]
  },
  {
   "cell_type": "code",
   "execution_count": 9,
   "id": "a17b3a49",
   "metadata": {
    "execution": {
     "iopub.execute_input": "2022-03-31T17:18:21.697747Z",
     "iopub.status.busy": "2022-03-31T17:18:21.641942Z",
     "iopub.status.idle": "2022-03-31T17:19:06.105406Z",
     "shell.execute_reply": "2022-03-31T17:19:06.104819Z"
    }
   },
   "outputs": [
    {
     "name": "stdout",
     "output_type": "stream",
     "text": [
      "iteration 1 retaining 52947 removing 177638 variants\n"
     ]
    }
   ],
   "source": [
    "# Removing correlated features (LD pruning)\n",
    "def ld_prune(gn, size, step, threshold=.1, n_iter=1):\n",
    "    for i in range(n_iter):\n",
    "        loc_unlinked = allel.locate_unlinked(gn, size=size, step=step, threshold=threshold)\n",
    "        n = np.count_nonzero(loc_unlinked)\n",
    "        n_remove = gn.shape[0] - n\n",
    "        print('iteration', i+1, 'retaining', n, 'removing', n_remove, 'variants')\n",
    "        gn = gn.compress(loc_unlinked, axis=0)\n",
    "    return gn\n",
    "\n",
    "gnu = ld_prune(gn, size=500, step=200, threshold=.1, n_iter=1)\n"
   ]
  },
  {
   "cell_type": "code",
   "execution_count": 10,
   "id": "5096a9f7",
   "metadata": {
    "execution": {
     "iopub.execute_input": "2022-03-31T17:19:06.110088Z",
     "iopub.status.busy": "2022-03-31T17:19:06.109593Z",
     "iopub.status.idle": "2022-03-31T17:20:45.064404Z",
     "shell.execute_reply": "2022-03-31T17:20:45.065072Z"
    }
   },
   "outputs": [],
   "source": [
    "coords1, model1 = allel.pca(gnu, n_components=10, scaler='patterson')"
   ]
  },
  {
   "cell_type": "code",
   "execution_count": 11,
   "id": "d17fc527",
   "metadata": {
    "execution": {
     "iopub.execute_input": "2022-03-31T17:20:45.072052Z",
     "iopub.status.busy": "2022-03-31T17:20:45.071315Z",
     "iopub.status.idle": "2022-03-31T17:20:45.076812Z",
     "shell.execute_reply": "2022-03-31T17:20:45.077434Z"
    }
   },
   "outputs": [
    {
     "data": {
      "text/plain": [
       "1.508464477956295"
      ]
     },
     "execution_count": 11,
     "metadata": {},
     "output_type": "execute_result"
    }
   ],
   "source": [
    "model1.explained_variance_ratio_[0]*100"
   ]
  },
  {
   "cell_type": "code",
   "execution_count": 12,
   "id": "c4d1a4bc",
   "metadata": {
    "execution": {
     "iopub.execute_input": "2022-03-31T17:20:45.082404Z",
     "iopub.status.busy": "2022-03-31T17:20:45.081667Z",
     "iopub.status.idle": "2022-03-31T17:20:45.085738Z",
     "shell.execute_reply": "2022-03-31T17:20:45.085063Z"
    }
   },
   "outputs": [
    {
     "data": {
      "text/plain": [
       "0.870104692876339"
      ]
     },
     "execution_count": 12,
     "metadata": {},
     "output_type": "execute_result"
    }
   ],
   "source": [
    "model1.explained_variance_ratio_[1]*100"
   ]
  },
  {
   "cell_type": "code",
   "execution_count": 13,
   "id": "732586ab",
   "metadata": {
    "execution": {
     "iopub.execute_input": "2022-03-31T17:20:45.090585Z",
     "iopub.status.busy": "2022-03-31T17:20:45.089859Z",
     "iopub.status.idle": "2022-03-31T17:20:45.093893Z",
     "shell.execute_reply": "2022-03-31T17:20:45.093249Z"
    }
   },
   "outputs": [
    {
     "data": {
      "text/plain": [
       "0.654530618339777"
      ]
     },
     "execution_count": 13,
     "metadata": {},
     "output_type": "execute_result"
    }
   ],
   "source": [
    "model1.explained_variance_ratio_[2]*100"
   ]
  },
  {
   "cell_type": "code",
   "execution_count": 14,
   "id": "987010aa",
   "metadata": {
    "execution": {
     "iopub.execute_input": "2022-03-31T17:20:45.100181Z",
     "iopub.status.busy": "2022-03-31T17:20:45.099457Z",
     "iopub.status.idle": "2022-03-31T17:20:45.106164Z",
     "shell.execute_reply": "2022-03-31T17:20:45.105522Z"
    }
   },
   "outputs": [],
   "source": [
    "colnames = ['PC_' + str(x) for x in range(1, 11)]\n",
    "coord_pca = pd.DataFrame(coords1, columns=colnames)\n",
    "coord_pca['Samplename'] = samples_vcf"
   ]
  },
  {
   "cell_type": "code",
   "execution_count": 15,
   "id": "33295260",
   "metadata": {
    "execution": {
     "iopub.execute_input": "2022-03-31T17:20:45.111672Z",
     "iopub.status.busy": "2022-03-31T17:20:45.110956Z",
     "iopub.status.idle": "2022-03-31T17:20:45.204952Z",
     "shell.execute_reply": "2022-03-31T17:20:45.205475Z"
    }
   },
   "outputs": [],
   "source": [
    "coord_pca.merge(popinfo).to_csv('results/PCA-real-data.csv', index=False)"
   ]
  },
  {
   "cell_type": "markdown",
   "id": "f65e8bbc",
   "metadata": {},
   "source": [
    "# PCA from simulated data"
   ]
  },
  {
   "cell_type": "code",
   "execution_count": 16,
   "id": "6b23356d",
   "metadata": {
    "execution": {
     "iopub.execute_input": "2022-03-31T17:20:45.209622Z",
     "iopub.status.busy": "2022-03-31T17:20:45.209067Z",
     "iopub.status.idle": "2022-03-31T17:21:22.153679Z",
     "shell.execute_reply": "2022-03-31T17:21:22.154229Z"
    }
   },
   "outputs": [],
   "source": [
    "vcf = allel.read_vcf('data/simulated-genomes-chr22.vcf')"
   ]
  },
  {
   "cell_type": "code",
   "execution_count": 17,
   "id": "d9256092",
   "metadata": {
    "execution": {
     "iopub.execute_input": "2022-03-31T17:21:22.227562Z",
     "iopub.status.busy": "2022-03-31T17:21:22.162372Z",
     "iopub.status.idle": "2022-03-31T17:24:57.260503Z",
     "shell.execute_reply": "2022-03-31T17:24:57.260934Z"
    }
   },
   "outputs": [
    {
     "name": "stdout",
     "output_type": "stream",
     "text": [
      "iteration 1 retaining 86981 removing 250515 variants\n"
     ]
    }
   ],
   "source": [
    "# SAME PROCEDURE AS ABOVE\n",
    "g = vcf['calldata/GT']\n",
    "g = allel.GenotypeArray(g)\n",
    "ac = g.count_alleles()\n",
    "\n",
    "flt = (ac.max_allele() == 1) & (ac[:, :2].min(axis=1) > 1)\n",
    "gf = g.compress(flt, axis=0)\n",
    "\n",
    "gn = gf.to_n_alt()\n",
    "gnu = ld_prune(gn, size=500, step=200, threshold=.1, n_iter=1)\n",
    "coords1, model1 = allel.pca(gnu, n_components=10, scaler='patterson')\n",
    "\n",
    "\n",
    "colnames = ['PC_' + str(x) for x in range(1, 11)]\n",
    "coord_pca = pd.DataFrame(coords1, columns=colnames)\n",
    "\n",
    "\n",
    "coord_pca['Samplename'] = vcf['samples']\n"
   ]
  },
  {
   "cell_type": "code",
   "execution_count": 18,
   "id": "53ed41c4",
   "metadata": {
    "execution": {
     "iopub.execute_input": "2022-03-31T17:24:57.267298Z",
     "iopub.status.busy": "2022-03-31T17:24:57.266364Z",
     "iopub.status.idle": "2022-03-31T17:24:57.277740Z",
     "shell.execute_reply": "2022-03-31T17:24:57.278173Z"
    }
   },
   "outputs": [],
   "source": [
    "coord_pca.to_csv('results/PCA-simulated-data.csv', index=False)"
   ]
  },
  {
   "cell_type": "code",
   "execution_count": 19,
   "id": "80cfc0dc",
   "metadata": {
    "execution": {
     "iopub.execute_input": "2022-03-31T17:24:57.283213Z",
     "iopub.status.busy": "2022-03-31T17:24:57.282714Z",
     "iopub.status.idle": "2022-03-31T17:24:57.286043Z",
     "shell.execute_reply": "2022-03-31T17:24:57.285534Z"
    }
   },
   "outputs": [
    {
     "data": {
      "text/plain": [
       "1.325659453868866"
      ]
     },
     "execution_count": 19,
     "metadata": {},
     "output_type": "execute_result"
    }
   ],
   "source": [
    "model1.explained_variance_ratio_[0]*100"
   ]
  },
  {
   "cell_type": "code",
   "execution_count": 20,
   "id": "e28945e1",
   "metadata": {
    "execution": {
     "iopub.execute_input": "2022-03-31T17:24:57.289936Z",
     "iopub.status.busy": "2022-03-31T17:24:57.289419Z",
     "iopub.status.idle": "2022-03-31T17:24:57.292766Z",
     "shell.execute_reply": "2022-03-31T17:24:57.292316Z"
    }
   },
   "outputs": [
    {
     "data": {
      "text/plain": [
       "0.7790993433445692"
      ]
     },
     "execution_count": 20,
     "metadata": {},
     "output_type": "execute_result"
    }
   ],
   "source": [
    "\n",
    "\n",
    "model1.explained_variance_ratio_[1]*100\n"
   ]
  },
  {
   "cell_type": "code",
   "execution_count": 21,
   "id": "5348788c",
   "metadata": {
    "execution": {
     "iopub.execute_input": "2022-03-31T17:24:57.296671Z",
     "iopub.status.busy": "2022-03-31T17:24:57.296161Z",
     "iopub.status.idle": "2022-03-31T17:24:57.299376Z",
     "shell.execute_reply": "2022-03-31T17:24:57.298959Z"
    }
   },
   "outputs": [
    {
     "data": {
      "text/plain": [
       "0.6411112844944"
      ]
     },
     "execution_count": 21,
     "metadata": {},
     "output_type": "execute_result"
    }
   ],
   "source": [
    "model1.explained_variance_ratio_[2]*100"
   ]
  }
 ],
 "metadata": {
  "kernelspec": {
   "display_name": "Python 3 (ipykernel)",
   "language": "python",
   "name": "python3"
  },
  "language_info": {
   "codemirror_mode": {
    "name": "ipython",
    "version": 3
   },
   "file_extension": ".py",
   "mimetype": "text/x-python",
   "name": "python",
   "nbconvert_exporter": "python",
   "pygments_lexer": "ipython3",
   "version": "3.10.2"
  }
 },
 "nbformat": 4,
 "nbformat_minor": 5
}
