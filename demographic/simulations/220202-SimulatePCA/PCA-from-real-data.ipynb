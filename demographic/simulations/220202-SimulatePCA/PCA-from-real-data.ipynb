{
 "cells": [
  {
   "cell_type": "markdown",
   "id": "37fa48aa",
   "metadata": {},
   "source": [
    "## Produce a PCA of the real data"
   ]
  },
  {
   "cell_type": "code",
   "execution_count": 1,
   "id": "d3ac8991",
   "metadata": {},
   "outputs": [],
   "source": [
    "import numpy as np\n",
    "import allel\n",
    "import seaborn as sns\n",
    "import pandas as pd\n",
    "import sys\n",
    "sys.path.append('../../../')\n",
    "from mxbgenomes.utils import load_populations_info"
   ]
  },
  {
   "cell_type": "code",
   "execution_count": 2,
   "id": "1de90339",
   "metadata": {},
   "outputs": [],
   "source": [
    "# Samples to use for PCA analysis\n",
    "popinfo = load_populations_info('../../../')\n",
    "popinfo = popinfo[popinfo.Subpopulation.isin(['MXL', 'MXB', 'CHB', 'YRI', 'IBS'])]\n",
    "samples = popinfo.Samplename.tolist()"
   ]
  },
  {
   "cell_type": "code",
   "execution_count": 3,
   "id": "e4469913",
   "metadata": {},
   "outputs": [],
   "source": [
    "# read the vcf file for chr22\n",
    "vcf = allel.read_vcf('../../../results/data/210713-HardyW-filters/1TGP_and_50MXB-chr22-snps-vep-mask-HW-GRCh38.vcf.gz')\n"
   ]
  },
  {
   "cell_type": "code",
   "execution_count": 4,
   "id": "fc1b5964",
   "metadata": {},
   "outputs": [],
   "source": [
    "# subset the samples in the VCF\n",
    "samples_vcf = [x for x in vcf['samples'] if x in samples]\n",
    "samples_vcf_indicator = [x in samples for x in vcf['samples']]\n",
    "del samples"
   ]
  },
  {
   "cell_type": "code",
   "execution_count": 5,
   "id": "0c763d8d",
   "metadata": {},
   "outputs": [],
   "source": [
    "g = vcf['calldata/GT'][:, samples_vcf_indicator, :]\n",
    "g = allel.GenotypeArray(g)"
   ]
  },
  {
   "cell_type": "code",
   "execution_count": 6,
   "id": "1f783197",
   "metadata": {},
   "outputs": [
    {
     "data": {
      "text/html": [
       "<div class=\"allel allel-DisplayAs2D\"><span>&lt;AlleleCountsArray shape=(351866, 3) dtype=int32&gt;</span><table><thead><tr><th></th><th style=\"text-align: center\">0</th><th style=\"text-align: center\">1</th><th style=\"text-align: center\">2</th></tr></thead><tbody><tr><th style=\"text-align: center; background-color: white; border-right: 1px solid black; \">0</th><td style=\"text-align: center\">861</td><td style=\"text-align: center\">  3</td><td style=\"text-align: center\">  0</td></tr><tr><th style=\"text-align: center; background-color: white; border-right: 1px solid black; \">1</th><td style=\"text-align: center\">864</td><td style=\"text-align: center\">  0</td><td style=\"text-align: center\">  0</td></tr><tr><th style=\"text-align: center; background-color: white; border-right: 1px solid black; \">2</th><td style=\"text-align: center\">862</td><td style=\"text-align: center\">  2</td><td style=\"text-align: center\">  0</td></tr><tr><th style=\"text-align: center; background-color: white; border-right: 1px solid black; \">...</th><td style=\"text-align: center\" colspan=\"4\">...</td></tr><tr><th style=\"text-align: center; background-color: white; border-right: 1px solid black; \">351863</th><td style=\"text-align: center\">863</td><td style=\"text-align: center\">  1</td><td style=\"text-align: center\">  0</td></tr><tr><th style=\"text-align: center; background-color: white; border-right: 1px solid black; \">351864</th><td style=\"text-align: center\">862</td><td style=\"text-align: center\">  2</td><td style=\"text-align: center\">  0</td></tr><tr><th style=\"text-align: center; background-color: white; border-right: 1px solid black; \">351865</th><td style=\"text-align: center\">864</td><td style=\"text-align: center\">  0</td><td style=\"text-align: center\">  0</td></tr></tbody></table></div>"
      ],
      "text/plain": [
       "<AlleleCountsArray shape=(351866, 3) dtype=int32>\n",
       "861   3   0\n",
       "864   0   0\n",
       "862   2   0\n",
       "...\n",
       "863   1   0\n",
       "862   2   0\n",
       "864   0   0"
      ]
     },
     "execution_count": 6,
     "metadata": {},
     "output_type": "execute_result"
    }
   ],
   "source": [
    "# Count alleles at each variant. \n",
    "ac = g.count_alleles()\n",
    "ac"
   ]
  },
  {
   "cell_type": "code",
   "execution_count": 7,
   "id": "4ead3a0b",
   "metadata": {},
   "outputs": [
    {
     "data": {
      "text/html": [
       "<div class=\"allel allel-DisplayAs2D\"><span>&lt;GenotypeArray shape=(199506, 432, 2) dtype=int8&gt;</span><table><thead><tr><th></th><th style=\"text-align: center\">0</th><th style=\"text-align: center\">1</th><th style=\"text-align: center\">2</th><th style=\"text-align: center\">3</th><th style=\"text-align: center\">4</th><th style=\"text-align: center\">...</th><th style=\"text-align: center\">427</th><th style=\"text-align: center\">428</th><th style=\"text-align: center\">429</th><th style=\"text-align: center\">430</th><th style=\"text-align: center\">431</th></tr></thead><tbody><tr><th style=\"text-align: center; background-color: white; border-right: 1px solid black; \">0</th><td style=\"text-align: center\">0/0</td><td style=\"text-align: center\">0/0</td><td style=\"text-align: center\">0/0</td><td style=\"text-align: center\">0/0</td><td style=\"text-align: center\">0/0</td><td style=\"text-align: center\">...</td><td style=\"text-align: center\">0/0</td><td style=\"text-align: center\">0/0</td><td style=\"text-align: center\">0/0</td><td style=\"text-align: center\">0/0</td><td style=\"text-align: center\">0/0</td></tr><tr><th style=\"text-align: center; background-color: white; border-right: 1px solid black; \">1</th><td style=\"text-align: center\">0/0</td><td style=\"text-align: center\">0/0</td><td style=\"text-align: center\">0/0</td><td style=\"text-align: center\">0/0</td><td style=\"text-align: center\">0/0</td><td style=\"text-align: center\">...</td><td style=\"text-align: center\">0/0</td><td style=\"text-align: center\">0/0</td><td style=\"text-align: center\">0/0</td><td style=\"text-align: center\">0/0</td><td style=\"text-align: center\">0/0</td></tr><tr><th style=\"text-align: center; background-color: white; border-right: 1px solid black; \">2</th><td style=\"text-align: center\">0/0</td><td style=\"text-align: center\">0/0</td><td style=\"text-align: center\">0/0</td><td style=\"text-align: center\">0/0</td><td style=\"text-align: center\">0/0</td><td style=\"text-align: center\">...</td><td style=\"text-align: center\">0/0</td><td style=\"text-align: center\">0/0</td><td style=\"text-align: center\">0/0</td><td style=\"text-align: center\">0/0</td><td style=\"text-align: center\">0/0</td></tr><tr><th style=\"text-align: center; background-color: white; border-right: 1px solid black; \">...</th><td style=\"text-align: center\" colspan=\"12\">...</td></tr><tr><th style=\"text-align: center; background-color: white; border-right: 1px solid black; \">199503</th><td style=\"text-align: center\">0/0</td><td style=\"text-align: center\">0/0</td><td style=\"text-align: center\">0/0</td><td style=\"text-align: center\">0/0</td><td style=\"text-align: center\">0/0</td><td style=\"text-align: center\">...</td><td style=\"text-align: center\">0/0</td><td style=\"text-align: center\">0/0</td><td style=\"text-align: center\">0/0</td><td style=\"text-align: center\">0/0</td><td style=\"text-align: center\">0/0</td></tr><tr><th style=\"text-align: center; background-color: white; border-right: 1px solid black; \">199504</th><td style=\"text-align: center\">0/0</td><td style=\"text-align: center\">0/0</td><td style=\"text-align: center\">0/0</td><td style=\"text-align: center\">0/0</td><td style=\"text-align: center\">0/0</td><td style=\"text-align: center\">...</td><td style=\"text-align: center\">0/0</td><td style=\"text-align: center\">0/0</td><td style=\"text-align: center\">0/0</td><td style=\"text-align: center\">0/0</td><td style=\"text-align: center\">0/0</td></tr><tr><th style=\"text-align: center; background-color: white; border-right: 1px solid black; \">199505</th><td style=\"text-align: center\">0/0</td><td style=\"text-align: center\">0/0</td><td style=\"text-align: center\">0/0</td><td style=\"text-align: center\">0/0</td><td style=\"text-align: center\">0/0</td><td style=\"text-align: center\">...</td><td style=\"text-align: center\">0/0</td><td style=\"text-align: center\">0/0</td><td style=\"text-align: center\">0/0</td><td style=\"text-align: center\">0/0</td><td style=\"text-align: center\">0/0</td></tr></tbody></table></div>"
      ],
      "text/plain": [
       "<GenotypeArray shape=(199506, 432, 2) dtype=int8>\n",
       "0/0 0/0 0/0 0/0 0/0 ... 0/0 0/0 0/0 0/0 0/0\n",
       "0/0 0/0 0/0 0/0 0/0 ... 0/0 0/0 0/0 0/0 0/0\n",
       "0/0 0/0 0/0 0/0 0/0 ... 0/0 0/0 0/0 0/0 0/0\n",
       "...\n",
       "0/0 0/0 0/0 0/0 0/0 ... 0/0 0/0 0/0 0/0 0/0\n",
       "0/0 0/0 0/0 0/0 0/0 ... 0/0 0/0 0/0 0/0 0/0\n",
       "0/0 0/0 0/0 0/0 0/0 ... 0/0 0/0 0/0 0/0 0/0"
      ]
     },
     "execution_count": 7,
     "metadata": {},
     "output_type": "execute_result"
    }
   ],
   "source": [
    "# filter multiallelic snps and singletons\n",
    "flt = (ac.max_allele() == 1) & (ac[:, :2].min(axis=1) > 1)\n",
    "gf = g.compress(flt, axis=0)\n",
    "gf"
   ]
  },
  {
   "cell_type": "code",
   "execution_count": 8,
   "id": "2a9ebc22",
   "metadata": {},
   "outputs": [
    {
     "data": {
      "text/plain": [
       "array([[0, 0, 0, ..., 0, 0, 0],\n",
       "       [0, 0, 0, ..., 0, 0, 0],\n",
       "       [0, 0, 0, ..., 0, 0, 0],\n",
       "       ...,\n",
       "       [0, 0, 0, ..., 0, 0, 0],\n",
       "       [0, 0, 0, ..., 0, 0, 0],\n",
       "       [0, 0, 0, ..., 0, 0, 0]], dtype=int8)"
      ]
     },
     "execution_count": 8,
     "metadata": {},
     "output_type": "execute_result"
    }
   ],
   "source": [
    "# transform the genotype data into a 2-dimensional matrix where \n",
    "# each cell has the number of non-reference alleles\n",
    "# per call. This is what we’ll use as the input to PCA.\n",
    "\n",
    "gn = gf.to_n_alt()\n",
    "gn"
   ]
  },
  {
   "cell_type": "code",
   "execution_count": 9,
   "id": "a17b3a49",
   "metadata": {},
   "outputs": [
    {
     "name": "stdout",
     "output_type": "stream",
     "text": [
      "iteration 1 retaining 35457 removing 164049 variants\n",
      "iteration 2 retaining 14640 removing 20817 variants\n",
      "iteration 3 retaining 9472 removing 5168 variants\n"
     ]
    }
   ],
   "source": [
    "# Removing correlated features (LD pruning)\n",
    "def ld_prune(gn, size, step, threshold=.1, n_iter=1):\n",
    "    for i in range(n_iter):\n",
    "        loc_unlinked = allel.locate_unlinked(gn, size=size, step=step, threshold=threshold)\n",
    "        n = np.count_nonzero(loc_unlinked)\n",
    "        n_remove = gn.shape[0] - n\n",
    "        print('iteration', i+1, 'retaining', n, 'removing', n_remove, 'variants')\n",
    "        gn = gn.compress(loc_unlinked, axis=0)\n",
    "    return gn\n",
    "\n",
    "gnu = ld_prune(gn, size=500, step=200, threshold=.1, n_iter=3)\n"
   ]
  },
  {
   "cell_type": "code",
   "execution_count": 10,
   "id": "5096a9f7",
   "metadata": {},
   "outputs": [],
   "source": [
    "coords1, model1 = allel.pca(gnu, n_components=10, scaler='patterson')"
   ]
  },
  {
   "cell_type": "code",
   "execution_count": 11,
   "id": "d17fc527",
   "metadata": {},
   "outputs": [
    {
     "data": {
      "text/plain": [
       "2.6630904525518417"
      ]
     },
     "execution_count": 11,
     "metadata": {},
     "output_type": "execute_result"
    }
   ],
   "source": [
    "model1.explained_variance_ratio_[0]*100"
   ]
  },
  {
   "cell_type": "code",
   "execution_count": 12,
   "id": "c4d1a4bc",
   "metadata": {},
   "outputs": [
    {
     "data": {
      "text/plain": [
       "1.987387239933014"
      ]
     },
     "execution_count": 12,
     "metadata": {},
     "output_type": "execute_result"
    }
   ],
   "source": [
    "model1.explained_variance_ratio_[1]*100"
   ]
  },
  {
   "cell_type": "code",
   "execution_count": 13,
   "id": "987010aa",
   "metadata": {},
   "outputs": [],
   "source": [
    "colnames = ['PC_' + str(x) for x in range(1, 11)]\n",
    "coord_pca = pd.DataFrame(coords1, columns=colnames)\n",
    "coord_pca['Samplename'] = samples_vcf"
   ]
  },
  {
   "cell_type": "code",
   "execution_count": 14,
   "id": "33295260",
   "metadata": {},
   "outputs": [],
   "source": [
    "coord_pca.merge(popinfo).to_csv('results/PCA-real-data.csv', index=False)"
   ]
  },
  {
   "cell_type": "markdown",
   "id": "373894ac",
   "metadata": {},
   "source": [
    "# PCA from simulated data"
   ]
  },
  {
   "cell_type": "code",
   "execution_count": 18,
   "id": "018dc263",
   "metadata": {},
   "outputs": [],
   "source": [
    "vcf = allel.read_vcf('data/simulated-genomes-chr22.vcf')"
   ]
  },
  {
   "cell_type": "code",
   "execution_count": 19,
   "id": "e8b8c022",
   "metadata": {},
   "outputs": [
    {
     "name": "stdout",
     "output_type": "stream",
     "text": [
      "iteration 1 retaining 52728 removing 210994 variants\n",
      "iteration 2 retaining 19613 removing 33115 variants\n",
      "iteration 3 retaining 10887 removing 8726 variants\n"
     ]
    }
   ],
   "source": [
    "# SAME PROCEDURE AS ABOVE\n",
    "g = vcf['calldata/GT']\n",
    "g = allel.GenotypeArray(g)\n",
    "ac = g.count_alleles()\n",
    "\n",
    "flt = (ac.max_allele() == 1) & (ac[:, :2].min(axis=1) > 1)\n",
    "gf = g.compress(flt, axis=0)\n",
    "\n",
    "gn = gf.to_n_alt()\n",
    "gnu = ld_prune(gn, size=500, step=200, threshold=.1, n_iter=3)\n",
    "coords1, model1 = allel.pca(gnu, n_components=10, scaler='patterson')\n",
    "\n",
    "\n",
    "colnames = ['PC_' + str(x) for x in range(1, 11)]\n",
    "coord_pca = pd.DataFrame(coords1, columns=colnames)\n",
    "\n",
    "\n",
    "coord_pca['Samplename'] = vcf['samples']\n"
   ]
  },
  {
   "cell_type": "code",
   "execution_count": 20,
   "id": "eb18ca03",
   "metadata": {},
   "outputs": [],
   "source": [
    "coord_pca.to_csv('results/PCA-simulated-data.csv', index=False)"
   ]
  },
  {
   "cell_type": "code",
   "execution_count": 22,
   "id": "fcb20534",
   "metadata": {},
   "outputs": [
    {
     "data": {
      "text/plain": [
       "2.6914456859230995"
      ]
     },
     "execution_count": 22,
     "metadata": {},
     "output_type": "execute_result"
    }
   ],
   "source": [
    "model1.explained_variance_ratio_[0]*100"
   ]
  },
  {
   "cell_type": "code",
   "execution_count": 21,
   "id": "d860e606",
   "metadata": {},
   "outputs": [
    {
     "data": {
      "text/plain": [
       "1.9352370873093605"
      ]
     },
     "execution_count": 21,
     "metadata": {},
     "output_type": "execute_result"
    }
   ],
   "source": [
    "\n",
    "\n",
    "model1.explained_variance_ratio_[1]*100\n"
   ]
  },
  {
   "cell_type": "code",
   "execution_count": null,
   "id": "dfed928c",
   "metadata": {},
   "outputs": [],
   "source": []
  }
 ],
 "metadata": {
  "kernelspec": {
   "display_name": "Python 3 (ipykernel)",
   "language": "python",
   "name": "python3"
  },
  "language_info": {
   "codemirror_mode": {
    "name": "ipython",
    "version": 3
   },
   "file_extension": ".py",
   "mimetype": "text/x-python",
   "name": "python",
   "nbconvert_exporter": "python",
   "pygments_lexer": "ipython3",
   "version": "3.10.2"
  }
 },
 "nbformat": 4,
 "nbformat_minor": 5
}
