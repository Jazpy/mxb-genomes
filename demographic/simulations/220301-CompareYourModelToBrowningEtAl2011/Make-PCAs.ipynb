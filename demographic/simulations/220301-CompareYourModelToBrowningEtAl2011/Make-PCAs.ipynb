{
 "cells": [
  {
   "cell_type": "code",
   "execution_count": 1,
   "id": "1eb29f0a",
   "metadata": {},
   "outputs": [],
   "source": [
    "import numpy as np\n",
    "import allel\n",
    "import seaborn as sns\n",
    "import pandas as pd\n",
    "import sys\n",
    "sys.path.append('../../../')\n",
    "from mxbgenomes.utils import load_populations_info"
   ]
  },
  {
   "cell_type": "code",
   "execution_count": 2,
   "id": "2b4b8ef1",
   "metadata": {},
   "outputs": [],
   "source": [
    "# Removing correlated features (LD pruning)\n",
    "def ld_prune(gn, size, step, threshold=.1, n_iter=1):\n",
    "    for i in range(n_iter):\n",
    "        loc_unlinked = allel.locate_unlinked(gn, size=size, step=step, threshold=threshold)\n",
    "        n = np.count_nonzero(loc_unlinked)\n",
    "        n_remove = gn.shape[0] - n\n",
    "        print('iteration', i+1, 'retaining', n, 'removing', n_remove, 'variants')\n",
    "        gn = gn.compress(loc_unlinked, axis=0)\n",
    "    return gn\n",
    "\n",
    "\n",
    "def pca_projection(g, sample_names):\n",
    "    \"\"\"\n",
    "    Args:\n",
    "        g: Genotype array\n",
    "        sample_naames: list of samples names\n",
    "    \"\"\"\n",
    "    ac = g.count_alleles()\n",
    "    # filter multiallelic snps and singletons\n",
    "    flt = (ac.max_allele() == 1) & (ac[:, :2].min(axis=1) > 1)\n",
    "    gf = g.compress(flt, axis=0)\n",
    "    \n",
    "    # transform the genotype data into a 2-dimensional matrix where \n",
    "    # each cell has the number of non-reference alleles\n",
    "    # per call. This is what we’ll use as the input to PCA.\n",
    "    gn = gf.to_n_alt()\n",
    "    gnu = ld_prune(gn, size=500, step=200, threshold=.1, n_iter=1)\n",
    "    \n",
    "    # pca decomposition\n",
    "    coords1, model1 = allel.pca(gnu, n_components=10, scaler='patterson')\n",
    "    colnames = ['PC_' + str(x) for x in range(1, 11)]\n",
    "    coord_pca = pd.DataFrame(coords1, columns=colnames)\n",
    "    coord_pca['Samplename'] = sample_names\n",
    "    \n",
    "    print(model1.explained_variance_ratio_[0]*100)\n",
    "    print(model1.explained_variance_ratio_[1]*100)\n",
    "    print(model1.explained_variance_ratio_[2]*100)\n",
    "    return coord_pca\n"
   ]
  },
  {
   "cell_type": "code",
   "execution_count": 24,
   "id": "15c8804b",
   "metadata": {},
   "outputs": [],
   "source": [
    "## Real data\n",
    "# Samples to use for PCA analysis\n",
    "popinfo = load_populations_info('../../../')\n",
    "popinfo = popinfo[popinfo.Subpopulation.isin(['MXL', 'CHB', 'YRI', 'IBS'])]\n",
    "samples = popinfo.Samplename.tolist()\n",
    "\n",
    "# read the vcf faile for chr1\n",
    "vcf = allel.read_vcf('../../../results/data/210713-HardyW-filters/1TGP_and_50MXB-chr22-snps-vep-mask-HW-GRCh38.vcf.gz')\n",
    "\n",
    "\n",
    "# subset the samples in the VCF\n",
    "samples_vcf = [x for x in vcf['samples'] if x in samples]\n",
    "samples_vcf_indicator = [x in samples for x in vcf['samples']]\n",
    "samples\n",
    "vcf_real = vcf['calldata/GT'][:, samples_vcf_indicator, :]\n"
   ]
  },
  {
   "cell_type": "code",
   "execution_count": 28,
   "id": "8a9b3c0f",
   "metadata": {},
   "outputs": [
    {
     "name": "stdout",
     "output_type": "stream",
     "text": [
      "iteration 1 retaining 33594 removing 163153 variants\n",
      "2.3930231109261513\n",
      "1.440543495118618\n",
      "0.6787079386413097\n"
     ]
    }
   ],
   "source": [
    "g = allel.GenotypeArray(vcf_real)\n",
    "pca = pca_projection(g, samples)"
   ]
  },
  {
   "cell_type": "code",
   "execution_count": 32,
   "id": "be64cf4f",
   "metadata": {},
   "outputs": [],
   "source": [
    "pca.merge(popinfo).to_csv('./results/pca-real.csv', index=False)"
   ]
  },
  {
   "cell_type": "code",
   "execution_count": 33,
   "id": "2c309800",
   "metadata": {},
   "outputs": [
    {
     "name": "stdout",
     "output_type": "stream",
     "text": [
      "iteration 1 retaining 26487 removing 131386 variants\n",
      "1.6682503744959831\n",
      "1.0838383808732033\n",
      "0.5033210851252079\n"
     ]
    }
   ],
   "source": [
    "## Browning\n",
    "vcf = allel.read_vcf('data/BrowningEtAl2011.vcf')\n",
    "g = allel.GenotypeArray(vcf['calldata/GT'])\n",
    "pca = pca_projection(g, vcf['samples'])\n",
    "pca.to_csv('./results/pca-BrowningEtAl2011.csv', index=False)"
   ]
  },
  {
   "cell_type": "code",
   "execution_count": 4,
   "id": "66c7e419",
   "metadata": {},
   "outputs": [],
   "source": [
    "## Medina 2022\n",
    "def is_from_pop(x):\n",
    "    return x.split('_')[0] in ['YRI', 'IBS', 'CHB', 'MXL']\n",
    "\n",
    "vcf = allel.read_vcf('../220202-SimulatePCA/data/simulated-genomes-chr22.vcf')\n",
    "samples_vcf = [x for x in vcf['samples'] if is_from_pop(x)]\n",
    "samples_vcf_indicator = [x in samples_vcf for x in vcf['samples']]\n",
    "\n",
    "g = allel.GenotypeArray(vcf['calldata/GT'][:, samples_vcf_indicator, :])"
   ]
  },
  {
   "cell_type": "code",
   "execution_count": null,
   "id": "5710542e",
   "metadata": {},
   "outputs": [],
   "source": [
    "pca = pca_projection(g, samples_vcf)\n",
    "pca.to_csv('./results/pca-Medina2022.csv', index=False)"
   ]
  },
  {
   "cell_type": "code",
   "execution_count": null,
   "id": "44fdebea",
   "metadata": {},
   "outputs": [],
   "source": []
  }
 ],
 "metadata": {
  "kernelspec": {
   "display_name": "Python 3 (ipykernel)",
   "language": "python",
   "name": "python3"
  },
  "language_info": {
   "codemirror_mode": {
    "name": "ipython",
    "version": 3
   },
   "file_extension": ".py",
   "mimetype": "text/x-python",
   "name": "python",
   "nbconvert_exporter": "python",
   "pygments_lexer": "ipython3",
   "version": "3.10.10"
  }
 },
 "nbformat": 4,
 "nbformat_minor": 5
}
