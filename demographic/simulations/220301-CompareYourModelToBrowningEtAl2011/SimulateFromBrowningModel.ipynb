{
 "cells": [
  {
   "cell_type": "markdown",
   "id": "e254a128",
   "metadata": {},
   "source": [
    "## Compare simulated individuals between our model and the Browning model"
   ]
  },
  {
   "cell_type": "code",
   "execution_count": 1,
   "id": "7969414a",
   "metadata": {},
   "outputs": [],
   "source": [
    "import stdpopsim\n",
    "import json\n",
    "species = stdpopsim.get_species(\"HomSap\")\n",
    "contig = species.get_contig(\"chr22\") # default is a flat genetic map"
   ]
  },
  {
   "cell_type": "code",
   "execution_count": 2,
   "id": "6ba7da34",
   "metadata": {},
   "outputs": [
    {
     "name": "stdout",
     "output_type": "stream",
     "text": [
      "4\n",
      "4\n",
      "['AFR', 'EUR', 'ASIA', 'ADMIX']\n"
     ]
    }
   ],
   "source": [
    "model = species.get_demographic_model('AmericanAdmixture_4B11')\n",
    "print(model.num_populations)\n",
    "# 3\n",
    "print(model.num_sampling_populations)\n",
    "# 3\n",
    "print([pop.id for pop in model.populations])\n",
    "# ['YRI', 'CEU', 'CHB']"
   ]
  },
  {
   "cell_type": "code",
   "execution_count": 3,
   "id": "39ec6d9c",
   "metadata": {},
   "outputs": [
    {
     "name": "stdout",
     "output_type": "stream",
     "text": [
      "247360\n"
     ]
    }
   ],
   "source": [
    "N_AFR = 108\n",
    "N_EUR = 107\n",
    "N_ASIA = 103\n",
    "N_ADMIX = 64\n",
    "samples = model.get_samples(N_AFR, N_EUR, N_ASIA, N_ADMIX)\n",
    "engine = stdpopsim.get_engine('msprime')\n",
    "ts = engine.simulate(model, contig, samples)\n",
    "print(ts.num_sites)"
   ]
  },
  {
   "cell_type": "code",
   "execution_count": 4,
   "id": "f5a61f1c",
   "metadata": {},
   "outputs": [
    {
     "name": "stdout",
     "output_type": "stream",
     "text": [
      "The tree sequence has 108 samples from population 0, which is AFR.\n",
      "The tree sequence has 107 samples from population 1, which is EUR.\n",
      "The tree sequence has 103 samples from population 2, which is ASIA.\n",
      "The tree sequence has 64 samples from population 3, which is ADMIX.\n"
     ]
    }
   ],
   "source": [
    "ts.num_samples\n",
    "# 20\n",
    "for k, pop in enumerate(ts.populations()):\n",
    "   popdata = json.loads(pop.metadata)\n",
    "   print(f\"The tree sequence has {len(ts.samples(k))} samples from \"\n",
    "         f\"population {k}, which is {popdata['id']}.\")"
   ]
  },
  {
   "cell_type": "code",
   "execution_count": 5,
   "id": "131bb65a",
   "metadata": {},
   "outputs": [],
   "source": [
    "pops = ['YRI']*N_AFR + ['IBS']*N_EUR + ['CHB']*N_ASIA + ['MXL']*N_ADMIX\n",
    "n_dip_indv = int(ts.num_samples / 2)"
   ]
  },
  {
   "cell_type": "code",
   "execution_count": 6,
   "id": "da4c8170",
   "metadata": {},
   "outputs": [],
   "source": [
    "n_dip_indv = int(ts.num_samples)\n",
    "indv_names = [f\"{pops[i]}_{str(i)}indv\" for i in range(n_dip_indv)]"
   ]
  },
  {
   "cell_type": "code",
   "execution_count": 7,
   "id": "4f317be0",
   "metadata": {},
   "outputs": [],
   "source": [
    "with open(\"data/BrowningEtAl2011.vcf\", \"w\") as vcf_file:\n",
    "   ts.write_vcf(vcf_file, contig_id='22', individual_names=indv_names)"
   ]
  },
  {
   "cell_type": "code",
   "execution_count": null,
   "id": "06a8c48e",
   "metadata": {},
   "outputs": [],
   "source": []
  }
 ],
 "metadata": {
  "kernelspec": {
   "display_name": "Python 3 (ipykernel)",
   "language": "python",
   "name": "python3"
  },
  "language_info": {
   "codemirror_mode": {
    "name": "ipython",
    "version": 3
   },
   "file_extension": ".py",
   "mimetype": "text/x-python",
   "name": "python",
   "nbconvert_exporter": "python",
   "pygments_lexer": "ipython3",
   "version": "3.10.2"
  }
 },
 "nbformat": 4,
 "nbformat_minor": 5
}
