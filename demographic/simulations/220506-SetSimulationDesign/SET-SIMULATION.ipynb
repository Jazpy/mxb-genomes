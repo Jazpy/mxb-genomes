{
 "cells": [
  {
   "cell_type": "markdown",
   "id": "38ca7046",
   "metadata": {},
   "source": [
    "## Setting the simulation\n",
    "\n",
    "All the data needed to run this notebook is here [test-data](test-data/)"
   ]
  },
  {
   "cell_type": "code",
   "execution_count": 1,
   "id": "2af583f9",
   "metadata": {},
   "outputs": [
    {
     "data": {
      "text/plain": [
       "'0.17.2.dev14+g560c1da'"
      ]
     },
     "execution_count": 1,
     "metadata": {},
     "output_type": "execute_result"
    }
   ],
   "source": [
    "import pandas as pd\n",
    "import numpy as np\n",
    "import fwdpy11\n",
    "import msprime\n",
    "fwdpy11.__version__"
   ]
  },
  {
   "cell_type": "markdown",
   "id": "a5ee4e77",
   "metadata": {},
   "source": [
    "## Loading the data\n",
    "\n",
    "I have generated 200 random samples of 1Mb length from the genome. Here, I take one of those samples, as an example, to set the simulation.\n",
    "**NOTE:**\n",
    "\n",
    "- I subtract the start position of the region from the intervals and the recombination map. So, the start position is zero. (Not sure If I need to do this)."
   ]
  },
  {
   "cell_type": "code",
   "execution_count": 2,
   "id": "98eed2e9",
   "metadata": {},
   "outputs": [
    {
     "name": "stdout",
     "output_type": "stream",
     "text": [
      "position chr22, 48000000, 49000000\n"
     ]
    }
   ],
   "source": [
    "# The 1Mb sampled region\n",
    "\n",
    "chromosome, start, end = np.loadtxt('test-data/region_region_4.bed', dtype=np.int64)\n",
    "print(f'position chr{chromosome}, {start}, {end}')"
   ]
  },
  {
   "cell_type": "code",
   "execution_count": 3,
   "id": "787d4560",
   "metadata": {},
   "outputs": [
    {
     "data": {
      "text/html": [
       "<div>\n",
       "<style scoped>\n",
       "    .dataframe tbody tr th:only-of-type {\n",
       "        vertical-align: middle;\n",
       "    }\n",
       "\n",
       "    .dataframe tbody tr th {\n",
       "        vertical-align: top;\n",
       "    }\n",
       "\n",
       "    .dataframe thead th {\n",
       "        text-align: right;\n",
       "    }\n",
       "</style>\n",
       "<table border=\"1\" class=\"dataframe\">\n",
       "  <thead>\n",
       "    <tr style=\"text-align: right;\">\n",
       "      <th></th>\n",
       "      <th>chro</th>\n",
       "      <th>start</th>\n",
       "      <th>end</th>\n",
       "    </tr>\n",
       "  </thead>\n",
       "  <tbody>\n",
       "    <tr>\n",
       "      <th>0</th>\n",
       "      <td>22</td>\n",
       "      <td>48013740</td>\n",
       "      <td>48013936</td>\n",
       "    </tr>\n",
       "    <tr>\n",
       "      <th>1</th>\n",
       "      <td>22</td>\n",
       "      <td>48015558</td>\n",
       "      <td>48015636</td>\n",
       "    </tr>\n",
       "    <tr>\n",
       "      <th>2</th>\n",
       "      <td>22</td>\n",
       "      <td>48015810</td>\n",
       "      <td>48017540</td>\n",
       "    </tr>\n",
       "    <tr>\n",
       "      <th>3</th>\n",
       "      <td>22</td>\n",
       "      <td>48017838</td>\n",
       "      <td>48023004</td>\n",
       "    </tr>\n",
       "    <tr>\n",
       "      <th>4</th>\n",
       "      <td>22</td>\n",
       "      <td>48044709</td>\n",
       "      <td>48045001</td>\n",
       "    </tr>\n",
       "  </tbody>\n",
       "</table>\n",
       "</div>"
      ],
      "text/plain": [
       "   chro     start       end\n",
       "0    22  48013740  48013936\n",
       "1    22  48015558  48015636\n",
       "2    22  48015810  48017540\n",
       "3    22  48017838  48023004\n",
       "4    22  48044709  48045001"
      ]
     },
     "execution_count": 3,
     "metadata": {},
     "output_type": "execute_result"
    }
   ],
   "source": [
    "# exonic intervals in the sampled region\n",
    "\n",
    "exons = pd.read_csv('test-data/region_exons_4.bed', sep='\\t', names=['chro', 'start', 'end'])\n",
    "exons.head()"
   ]
  },
  {
   "cell_type": "code",
   "execution_count": 4,
   "id": "463a28a0",
   "metadata": {},
   "outputs": [
    {
     "data": {
      "text/html": [
       "<div>\n",
       "<style scoped>\n",
       "    .dataframe tbody tr th:only-of-type {\n",
       "        vertical-align: middle;\n",
       "    }\n",
       "\n",
       "    .dataframe tbody tr th {\n",
       "        vertical-align: top;\n",
       "    }\n",
       "\n",
       "    .dataframe thead th {\n",
       "        text-align: right;\n",
       "    }\n",
       "</style>\n",
       "<table border=\"1\" class=\"dataframe\">\n",
       "  <thead>\n",
       "    <tr style=\"text-align: right;\">\n",
       "      <th></th>\n",
       "      <th>chro</th>\n",
       "      <th>start</th>\n",
       "      <th>end</th>\n",
       "    </tr>\n",
       "  </thead>\n",
       "  <tbody>\n",
       "    <tr>\n",
       "      <th>0</th>\n",
       "      <td>22</td>\n",
       "      <td>48000000</td>\n",
       "      <td>48013740</td>\n",
       "    </tr>\n",
       "    <tr>\n",
       "      <th>1</th>\n",
       "      <td>22</td>\n",
       "      <td>48013936</td>\n",
       "      <td>48015558</td>\n",
       "    </tr>\n",
       "    <tr>\n",
       "      <th>2</th>\n",
       "      <td>22</td>\n",
       "      <td>48015636</td>\n",
       "      <td>48015810</td>\n",
       "    </tr>\n",
       "    <tr>\n",
       "      <th>3</th>\n",
       "      <td>22</td>\n",
       "      <td>48017540</td>\n",
       "      <td>48017838</td>\n",
       "    </tr>\n",
       "    <tr>\n",
       "      <th>4</th>\n",
       "      <td>22</td>\n",
       "      <td>48023004</td>\n",
       "      <td>48044709</td>\n",
       "    </tr>\n",
       "  </tbody>\n",
       "</table>\n",
       "</div>"
      ],
      "text/plain": [
       "   chro     start       end\n",
       "0    22  48000000  48013740\n",
       "1    22  48013936  48015558\n",
       "2    22  48015636  48015810\n",
       "3    22  48017540  48017838\n",
       "4    22  48023004  48044709"
      ]
     },
     "execution_count": 4,
     "metadata": {},
     "output_type": "execute_result"
    }
   ],
   "source": [
    "# non coding intervals (intronic and exonic) in the sampled region\n",
    "nonexonic = pd.read_csv('test-data/region_intronANDinterg_4.bed', sep='\\t', names=['chro', 'start', 'end'])\n",
    "nonexonic.head()"
   ]
  },
  {
   "cell_type": "code",
   "execution_count": 5,
   "id": "ce0f14c2",
   "metadata": {},
   "outputs": [
    {
     "name": "stdout",
     "output_type": "stream",
     "text": [
      "{'LOF': 3.96848e-07, 'missense': 4.28265764e-06, 'synonymous': 1.73085646e-06, 'noncoding': 0.009854629053900001}\n"
     ]
    }
   ],
   "source": [
    "# mutation rates within the region\n",
    "ml_coding = pd.read_csv('test-data/region_mlcoding_4.csv')\n",
    "ml_non_coding = np.loadtxt('test-data/region_mlnoncoding_4.txt', dtype=np.object0)[1]\n",
    "ml_non_coding = float(ml_non_coding)\n",
    "\n",
    "## Create a dict mapping class name to value\n",
    "\n",
    "ml = {}\n",
    "for x, y in ml_coding.iterrows():\n",
    "    ml[y.Q] = y.mL\n",
    "\n",
    "ml['noncoding'] = ml_non_coding\n",
    "print(ml)"
   ]
  },
  {
   "cell_type": "code",
   "execution_count": 6,
   "id": "8cf1506b",
   "metadata": {},
   "outputs": [
    {
     "data": {
      "text/html": [
       "<div>\n",
       "<style scoped>\n",
       "    .dataframe tbody tr th:only-of-type {\n",
       "        vertical-align: middle;\n",
       "    }\n",
       "\n",
       "    .dataframe tbody tr th {\n",
       "        vertical-align: top;\n",
       "    }\n",
       "\n",
       "    .dataframe thead th {\n",
       "        text-align: right;\n",
       "    }\n",
       "</style>\n",
       "<table border=\"1\" class=\"dataframe\">\n",
       "  <thead>\n",
       "    <tr style=\"text-align: right;\">\n",
       "      <th></th>\n",
       "      <th>chro</th>\n",
       "      <th>start</th>\n",
       "      <th>end</th>\n",
       "    </tr>\n",
       "  </thead>\n",
       "  <tbody>\n",
       "    <tr>\n",
       "      <th>0</th>\n",
       "      <td>22</td>\n",
       "      <td>0</td>\n",
       "      <td>13740</td>\n",
       "    </tr>\n",
       "    <tr>\n",
       "      <th>1</th>\n",
       "      <td>22</td>\n",
       "      <td>13936</td>\n",
       "      <td>15558</td>\n",
       "    </tr>\n",
       "    <tr>\n",
       "      <th>2</th>\n",
       "      <td>22</td>\n",
       "      <td>15636</td>\n",
       "      <td>15810</td>\n",
       "    </tr>\n",
       "    <tr>\n",
       "      <th>3</th>\n",
       "      <td>22</td>\n",
       "      <td>17540</td>\n",
       "      <td>17838</td>\n",
       "    </tr>\n",
       "    <tr>\n",
       "      <th>4</th>\n",
       "      <td>22</td>\n",
       "      <td>23004</td>\n",
       "      <td>44709</td>\n",
       "    </tr>\n",
       "  </tbody>\n",
       "</table>\n",
       "</div>"
      ],
      "text/plain": [
       "   chro  start    end\n",
       "0    22      0  13740\n",
       "1    22  13936  15558\n",
       "2    22  15636  15810\n",
       "3    22  17540  17838\n",
       "4    22  23004  44709"
      ]
     },
     "execution_count": 6,
     "metadata": {},
     "output_type": "execute_result"
    }
   ],
   "source": [
    "# substract start position so the intial positon is zero\n",
    "exons['start'] = exons['start'] - start\n",
    "exons['end'] = exons['end'] - start\n",
    "\n",
    "nonexonic['start'] = nonexonic['start'] - start\n",
    "nonexonic['end'] = nonexonic['end'] - start\n",
    "\n",
    "nonexonic.head()"
   ]
  },
  {
   "cell_type": "code",
   "execution_count": 7,
   "id": "6eabc77f",
   "metadata": {},
   "outputs": [
    {
     "name": "stdout",
     "output_type": "stream",
     "text": [
      "\n",
      "┌───────────────────────────────────────────────────────┐\n",
      "│left      │right     │         mid│      span│     rate│\n",
      "├───────────────────────────────────────────────────────┤\n",
      "│0         │15287922  │     7643961│  15287922│  9.5e-10│\n",
      "│15287922  │16370978  │    15829450│   1083056│  1.2e-09│\n",
      "│16370978  │16372046  │    16371512│      1068│    5e-09│\n",
      "│16372046  │16373044  │    16372545│       998│    5e-09│\n",
      "│16373044  │16373740  │    16373392│       696│  5.1e-09│\n",
      "│16373740  │16374612  │    16374176│       872│    6e-09│\n",
      "│16374612  │16374641  │  16374626.5│        29│  2.7e-08│\n",
      "│16374641  │16374814  │  16374727.5│       173│  2.7e-08│\n",
      "│16374814  │16374956  │    16374885│       142│  8.6e-09│\n",
      "│16374956  │16375126  │    16375041│       170│  4.2e-09│\n",
      "│⋯         │⋯         │           ⋯│         ⋯│        ⋯│\n",
      "│50739662  │50744589  │  50742125.5│      4927│  6.5e-09│\n",
      "│50744589  │50757736  │  50751162.5│     13147│  6.4e-09│\n",
      "│50757736  │50761423  │  50759579.5│      3687│  6.4e-09│\n",
      "│50761423  │50772964  │  50767193.5│     11541│  6.4e-09│\n",
      "│50772964  │50774447  │  50773705.5│      1483│  6.4e-09│\n",
      "│50774447  │50778136  │  50776291.5│      3689│  6.4e-09│\n",
      "│50778136  │50778706  │    50778421│       570│  6.4e-09│\n",
      "│50778706  │50783672  │    50781189│      4966│  6.4e-09│\n",
      "│50783672  │50785209  │  50784440.5│      1537│  6.5e-09│\n",
      "│50785209  │50791377  │    50788293│      6168│  6.6e-09│\n",
      "└───────────────────────────────────────────────────────┘\n",
      "\n"
     ]
    }
   ],
   "source": [
    "## Recombination map\n",
    "## Here I use msprime function: msprime.RateMap.read_hapmap to load the recombination map\n",
    "rmap = msprime.RateMap.read_hapmap('test-data/chr22.b38.gmap', position_col=0, map_col=2)\n",
    "print(rmap)"
   ]
  },
  {
   "cell_type": "code",
   "execution_count": 8,
   "id": "e032605a",
   "metadata": {},
   "outputs": [
    {
     "name": "stdout",
     "output_type": "stream",
     "text": [
      "\n",
      "┌───────────────────────────────────────────────┐\n",
      "│left    │right    │       mid│   span│     rate│\n",
      "├───────────────────────────────────────────────┤\n",
      "│0       │33       │      16.5│     33│  8.9e-09│\n",
      "│33      │1030     │     531.5│    997│  7.2e-09│\n",
      "│1030    │1148     │      1089│    118│  2.7e-09│\n",
      "│1148    │1302     │      1225│    154│  1.4e-09│\n",
      "│1302    │1313     │    1307.5│     11│  1.8e-09│\n",
      "│1313    │1627     │      1470│    314│  9.2e-10│\n",
      "│1627    │1853     │      1740│    226│  8.4e-10│\n",
      "│1853    │1874     │    1863.5│     21│  9.5e-10│\n",
      "│1874    │1925     │    1899.5│     51│  7.8e-10│\n",
      "│1925    │2103     │      2014│    178│  6.7e-10│\n",
      "│⋯       │⋯        │         ⋯│      ⋯│        ⋯│\n",
      "│984458  │984548   │    984503│     90│  1.1e-07│\n",
      "│984548  │984844   │    984696│    296│  1.1e-07│\n",
      "│984844  │984898   │    984871│     54│  1.3e-07│\n",
      "│984898  │984941   │  984919.5│     43│  1.4e-07│\n",
      "│984941  │985051   │    984996│    110│  1.6e-07│\n",
      "│985051  │997194   │  991122.5│  12143│  1.8e-07│\n",
      "│997194  │998310   │    997752│   1116│  1.8e-07│\n",
      "│998310  │998349   │  998329.5│     39│  1.8e-07│\n",
      "│998349  │999536   │  998942.5│   1187│  1.8e-07│\n",
      "│999536  │1000000  │    999768│    464│  1.7e-07│\n",
      "└───────────────────────────────────────────────┘\n",
      "\n"
     ]
    }
   ],
   "source": [
    "## we can take a slice from the map to get the coordinates in the sampled region\n",
    "# with set trim=True \n",
    "rmap = rmap.slice(left=start, right=end, trim=True)\n",
    "print(rmap)"
   ]
  },
  {
   "cell_type": "markdown",
   "id": "29170524",
   "metadata": {},
   "source": [
    "# Set simulation \n",
    "\n",
    "## Neutral regions"
   ]
  },
  {
   "cell_type": "code",
   "execution_count": 9,
   "id": "0460413c",
   "metadata": {},
   "outputs": [],
   "source": [
    "## we will label the mutations according to the functional category\n",
    "\n",
    "mut_labels = {\n",
    "    'neutral': 0,\n",
    "    'missense': 1,\n",
    "    'synonymous': 2,\n",
    "    'LOF': 3,\n",
    "}"
   ]
  },
  {
   "cell_type": "code",
   "execution_count": 10,
   "id": "228ec7c0",
   "metadata": {},
   "outputs": [
    {
     "data": {
      "text/html": [
       "<div>\n",
       "<style scoped>\n",
       "    .dataframe tbody tr th:only-of-type {\n",
       "        vertical-align: middle;\n",
       "    }\n",
       "\n",
       "    .dataframe tbody tr th {\n",
       "        vertical-align: top;\n",
       "    }\n",
       "\n",
       "    .dataframe thead th {\n",
       "        text-align: right;\n",
       "    }\n",
       "</style>\n",
       "<table border=\"1\" class=\"dataframe\">\n",
       "  <thead>\n",
       "    <tr style=\"text-align: right;\">\n",
       "      <th></th>\n",
       "      <th>chro</th>\n",
       "      <th>start</th>\n",
       "      <th>end</th>\n",
       "    </tr>\n",
       "  </thead>\n",
       "  <tbody>\n",
       "    <tr>\n",
       "      <th>0</th>\n",
       "      <td>22</td>\n",
       "      <td>0</td>\n",
       "      <td>13740</td>\n",
       "    </tr>\n",
       "    <tr>\n",
       "      <th>1</th>\n",
       "      <td>22</td>\n",
       "      <td>13936</td>\n",
       "      <td>15558</td>\n",
       "    </tr>\n",
       "    <tr>\n",
       "      <th>2</th>\n",
       "      <td>22</td>\n",
       "      <td>15636</td>\n",
       "      <td>15810</td>\n",
       "    </tr>\n",
       "    <tr>\n",
       "      <th>3</th>\n",
       "      <td>22</td>\n",
       "      <td>17540</td>\n",
       "      <td>17838</td>\n",
       "    </tr>\n",
       "    <tr>\n",
       "      <th>4</th>\n",
       "      <td>22</td>\n",
       "      <td>23004</td>\n",
       "      <td>44709</td>\n",
       "    </tr>\n",
       "  </tbody>\n",
       "</table>\n",
       "</div>"
      ],
      "text/plain": [
       "   chro  start    end\n",
       "0    22      0  13740\n",
       "1    22  13936  15558\n",
       "2    22  15636  15810\n",
       "3    22  17540  17838\n",
       "4    22  23004  44709"
      ]
     },
     "execution_count": 10,
     "metadata": {},
     "output_type": "execute_result"
    }
   ],
   "source": [
    "nonexonic.head()"
   ]
  },
  {
   "cell_type": "code",
   "execution_count": 11,
   "id": "d22ebf07",
   "metadata": {},
   "outputs": [],
   "source": [
    "# Construct the neutral regions from the non-exonic intervals\n",
    "nregions = []\n",
    "for _, noexon in nonexonic.iterrows():\n",
    "    nregions.append(\n",
    "        fwdpy11.Region(beg=noexon.start, end=noexon.end, weight=1, label=mut_labels['neutral'])\n",
    "    \n",
    "    )\n"
   ]
  },
  {
   "cell_type": "code",
   "execution_count": 12,
   "id": "ef022311",
   "metadata": {},
   "outputs": [
    {
     "data": {
      "text/plain": [
       "[fwdpy11.Region(beg=0, end=13740, weight=1, coupled=True, label=0),\n",
       " fwdpy11.Region(beg=13936, end=15558, weight=1, coupled=True, label=0),\n",
       " fwdpy11.Region(beg=15636, end=15810, weight=1, coupled=True, label=0),\n",
       " fwdpy11.Region(beg=17540, end=17838, weight=1, coupled=True, label=0),\n",
       " fwdpy11.Region(beg=23004, end=44709, weight=1, coupled=True, label=0),\n",
       " fwdpy11.Region(beg=45001, end=48469, weight=1, coupled=True, label=0),\n",
       " fwdpy11.Region(beg=48549, end=52645, weight=1, coupled=True, label=0),\n",
       " fwdpy11.Region(beg=58275, end=139460, weight=1, coupled=True, label=0),\n",
       " fwdpy11.Region(beg=139696, end=140739, weight=1, coupled=True, label=0),\n",
       " fwdpy11.Region(beg=141001, end=141541, weight=1, coupled=True, label=0)]"
      ]
     },
     "execution_count": 12,
     "metadata": {},
     "output_type": "execute_result"
    }
   ],
   "source": [
    "nregions[:10]"
   ]
  },
  {
   "cell_type": "markdown",
   "id": "fb6b9005",
   "metadata": {},
   "source": [
    "## Distributions of effect sizes | Selected regions\n",
    "\n",
    "- For now I will assume a constant effect size.\n",
    "- The weights establish the relative probability that a mutation comes from a given region.\n",
    "\n",
    "**NOTE:**\n",
    "\n",
    "- When multiple “sregion” objects are used, the default behavior is to multiply the input weight by end-beg:\n",
    "- The weights should depend on the mutation type (i.e. synonymous, missense). We could make the weight\n",
    "proportional to ml.\n",
    "\n",
    "**Comments:**\n",
    "\n",
    "- The selection and dominance should also depend on the mutation class. We'll need to pick an appropiate DFEs for each case.\n"
   ]
  },
  {
   "cell_type": "code",
   "execution_count": 13,
   "id": "9d9a9b44",
   "metadata": {},
   "outputs": [
    {
     "name": "stdout",
     "output_type": "stream",
     "text": [
      "total weight: 6.4103621e-06\n",
      "\n",
      "\n",
      "synonymous=0.2700091559570403\n",
      "missense=0.6680835767452201\n",
      "lof=0.0619072672977397\n"
     ]
    }
   ],
   "source": [
    "# Define the Weights\n",
    "total_weigth = ml['synonymous'] + ml['missense'] + ml['LOF']\n",
    "\n",
    "\n",
    "w_syn = ml['synonymous'] / total_weigth\n",
    "w_mis = ml['missense'] / total_weigth\n",
    "w_lof = ml['LOF'] / total_weigth\n",
    "\n",
    "print(f'total weight: {total_weigth}\\n\\n\\nsynonymous={w_syn}\\nmissense={w_mis}\\nlof={w_lof}')"
   ]
  },
  {
   "cell_type": "code",
   "execution_count": 14,
   "id": "ab9e3c33",
   "metadata": {},
   "outputs": [],
   "source": [
    "# selection and dominance for now\n",
    "s = -0.01\n",
    "h = 0.25"
   ]
  },
  {
   "cell_type": "code",
   "execution_count": 15,
   "id": "5f17fe6c",
   "metadata": {},
   "outputs": [],
   "source": [
    "# Construct the selected regions from the exonic intervals\n",
    "sregions = []\n",
    "for _, exon in exons.iterrows():\n",
    "    # missense\n",
    "    sregions.append(\n",
    "        fwdpy11.ConstantS(beg=exon.start, end=exon.end, weight=w_mis, s=s, label=mut_labels['missense'])\n",
    "    \n",
    "    )\n",
    "    # synonymous\n",
    "    sregions.append(\n",
    "        fwdpy11.ConstantS(beg=exon.start, end=exon.end, weight=w_syn, s=s, label=mut_labels['synonymous'])\n",
    "    \n",
    "    )\n",
    "    # loss of function\n",
    "    sregions.append(\n",
    "        fwdpy11.ConstantS(beg=exon.start, end=exon.end, weight=w_lof, s=s, label=mut_labels['LOF'])\n",
    "    \n",
    "    )"
   ]
  },
  {
   "cell_type": "code",
   "execution_count": 16,
   "id": "8e0209ac",
   "metadata": {},
   "outputs": [
    {
     "data": {
      "text/plain": [
       "[fwdpy11.ConstantS(beg=13740, end=13936, weight=0.6680835767452201, s=-0.01, h=1.0, coupled=True, label=1, scaling=1.0),\n",
       " fwdpy11.ConstantS(beg=13740, end=13936, weight=0.2700091559570403, s=-0.01, h=1.0, coupled=True, label=2, scaling=1.0),\n",
       " fwdpy11.ConstantS(beg=13740, end=13936, weight=0.0619072672977397, s=-0.01, h=1.0, coupled=True, label=3, scaling=1.0),\n",
       " fwdpy11.ConstantS(beg=15558, end=15636, weight=0.6680835767452201, s=-0.01, h=1.0, coupled=True, label=1, scaling=1.0),\n",
       " fwdpy11.ConstantS(beg=15558, end=15636, weight=0.2700091559570403, s=-0.01, h=1.0, coupled=True, label=2, scaling=1.0)]"
      ]
     },
     "execution_count": 16,
     "metadata": {},
     "output_type": "execute_result"
    }
   ],
   "source": [
    "sregions[:5]"
   ]
  },
  {
   "cell_type": "markdown",
   "id": "65bd7d92",
   "metadata": {},
   "source": [
    "## Recombination"
   ]
  },
  {
   "cell_type": "code",
   "execution_count": 17,
   "id": "7e10032e",
   "metadata": {},
   "outputs": [
    {
     "data": {
      "text/html": [
       "<div><style scoped=\"\">\n",
       "            .tskit-table thead tr th:only-of-type {vertical-align: middle;}\n",
       "            .tskit-table thead tr th {text-align: center;vertical-align: top;}\n",
       "            .tskit-table tbody td {text-align: right;padding: 0.5em 0.5em;}\n",
       "            .tskit-table tbody th {padding: 0.5em 0.5em;}\n",
       "        </style><b></b><table border=\"1\" class=\"tskit-table\"><thead><tr><th>left</th><th>right</th><th>mid</th><th>span</th><th>rate</th></tr></thead><tbody><tr><td>0</td><td>33</td><td>16.5</td><td>33</td><td>8.9e-09</td></tr><tr><td>33</td><td>1030</td><td>531.5</td><td>997</td><td>7.2e-09</td></tr><tr><td>1030</td><td>1148</td><td>1089</td><td>118</td><td>2.7e-09</td></tr><tr><td>1148</td><td>1302</td><td>1225</td><td>154</td><td>1.4e-09</td></tr><tr><td>1302</td><td>1313</td><td>1307.5</td><td>11</td><td>1.8e-09</td></tr><tr><td>1313</td><td>1627</td><td>1470</td><td>314</td><td>9.2e-10</td></tr><tr><td>1627</td><td>1853</td><td>1740</td><td>226</td><td>8.4e-10</td></tr><tr><td>1853</td><td>1874</td><td>1863.5</td><td>21</td><td>9.5e-10</td></tr><tr><td>1874</td><td>1925</td><td>1899.5</td><td>51</td><td>7.8e-10</td></tr><tr><td>1925</td><td>2103</td><td>2014</td><td>178</td><td>6.7e-10</td></tr><tr><td>⋯</td><td>⋯</td><td>⋯</td><td>⋯</td><td>⋯</td></tr><tr><td>984458</td><td>984548</td><td>984503</td><td>90</td><td>1.1e-07</td></tr><tr><td>984548</td><td>984844</td><td>984696</td><td>296</td><td>1.1e-07</td></tr><tr><td>984844</td><td>984898</td><td>984871</td><td>54</td><td>1.3e-07</td></tr><tr><td>984898</td><td>984941</td><td>984919.5</td><td>43</td><td>1.4e-07</td></tr><tr><td>984941</td><td>985051</td><td>984996</td><td>110</td><td>1.6e-07</td></tr><tr><td>985051</td><td>997194</td><td>991122.5</td><td>12143</td><td>1.8e-07</td></tr><tr><td>997194</td><td>998310</td><td>997752</td><td>1116</td><td>1.8e-07</td></tr><tr><td>998310</td><td>998349</td><td>998329.5</td><td>39</td><td>1.8e-07</td></tr><tr><td>998349</td><td>999536</td><td>998942.5</td><td>1187</td><td>1.8e-07</td></tr><tr><td>999536</td><td>1000000</td><td>999768</td><td>464</td><td>1.7e-07</td></tr></tbody></table></div>"
      ],
      "text/plain": [
       "RateMap(position=array([0.00000e+00, 3.30000e+01, 1.03000e+03, ..., 9.98349e+05,\n",
       "       9.99536e+05, 1.00000e+06]), rate=array([8.92086331e-09, 7.16148445e-09, 2.71186441e-09, ...,\n",
       "       1.75384615e-07, 1.75332772e-07, 1.72948357e-07]))"
      ]
     },
     "execution_count": 17,
     "metadata": {},
     "output_type": "execute_result"
    }
   ],
   "source": [
    "rmap"
   ]
  },
  {
   "cell_type": "code",
   "execution_count": 18,
   "id": "b23fd38a",
   "metadata": {},
   "outputs": [],
   "source": [
    "nrec = len(rmap) - 1"
   ]
  },
  {
   "cell_type": "code",
   "execution_count": 19,
   "id": "4593b22c",
   "metadata": {},
   "outputs": [],
   "source": [
    "recregions = []\n",
    "for i in range(nrec):\n",
    "    recregions.append(\n",
    "     fwdpy11.PoissonInterval(\n",
    "         beg=rmap.left[i],\n",
    "         end=rmap.right[i],\n",
    "         mean=rmap.rate[i]\n",
    "     )   \n",
    "    )"
   ]
  },
  {
   "cell_type": "code",
   "execution_count": 20,
   "id": "dfff8715",
   "metadata": {},
   "outputs": [
    {
     "data": {
      "text/plain": [
       "[fwdpy11.PoissonInterval(beg=0.0, end=33.0, mean=8.9208633094493e-09, discrete=False),\n",
       " fwdpy11.PoissonInterval(beg=33.0, end=1030.0, mean=7.161484453376708e-09, discrete=False),\n",
       " fwdpy11.PoissonInterval(beg=1030.0, end=1148.0, mean=2.711864405352255e-09, discrete=False),\n",
       " fwdpy11.PoissonInterval(beg=1148.0, end=1302.0, mean=1.4285714292613398e-09, discrete=False),\n",
       " fwdpy11.PoissonInterval(beg=1302.0, end=1313.0, mean=1.818181807131871e-09, discrete=False),\n",
       " fwdpy11.PoissonInterval(beg=1313.0, end=1627.0, mean=9.235668793787024e-10, discrete=False),\n",
       " fwdpy11.PoissonInterval(beg=1627.0, end=1853.0, mean=8.40707964404883e-10, discrete=False),\n",
       " fwdpy11.PoissonInterval(beg=1853.0, end=1874.0, mean=9.52380951879661e-10, discrete=False),\n",
       " fwdpy11.PoissonInterval(beg=1874.0, end=1925.0, mean=7.84313725077368e-10, discrete=False),\n",
       " fwdpy11.PoissonInterval(beg=1925.0, end=2103.0, mean=6.741573036396607e-10, discrete=False)]"
      ]
     },
     "execution_count": 20,
     "metadata": {},
     "output_type": "execute_result"
    }
   ],
   "source": [
    "recregions[:10]"
   ]
  },
  {
   "cell_type": "markdown",
   "id": "6d7d6a07",
   "metadata": {},
   "source": [
    "## Rates\n",
    "\n",
    "We need to specify the total rates"
   ]
  },
  {
   "cell_type": "code",
   "execution_count": 21,
   "id": "ec0e68fd",
   "metadata": {},
   "outputs": [],
   "source": [
    "#  The neutral mutation rate, selected mutation rate, and total recombination rate, respectively.\n",
    "neutral_ml = ml['noncoding']\n",
    "selected_ml = ml['missense'] + ml['synonymous'] + ml['LOF']\n",
    "\n",
    "\n",
    "# recomb_rate = ??? | I'm not sure how to set this value\n",
    "rates = fwdpy11.MutationAndRecombinationRates(\n",
    "    neutral_mutation_rate=neutral_ml,\n",
    "    selected_mutation_rate=selected_ml,\n",
    "    recombination_rate=None)\n"
   ]
  },
  {
   "cell_type": "code",
   "execution_count": null,
   "id": "88484600",
   "metadata": {},
   "outputs": [],
   "source": []
  },
  {
   "cell_type": "code",
   "execution_count": null,
   "id": "8e0c81a8",
   "metadata": {},
   "outputs": [],
   "source": []
  }
 ],
 "metadata": {
  "kernelspec": {
   "display_name": "Python 3 (ipykernel)",
   "language": "python",
   "name": "python3"
  },
  "language_info": {
   "codemirror_mode": {
    "name": "ipython",
    "version": 3
   },
   "file_extension": ".py",
   "mimetype": "text/x-python",
   "name": "python",
   "nbconvert_exporter": "python",
   "pygments_lexer": "ipython3",
   "version": "3.9.12"
  }
 },
 "nbformat": 4,
 "nbformat_minor": 5
}
