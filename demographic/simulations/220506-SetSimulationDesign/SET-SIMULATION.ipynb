{
 "cells": [
  {
   "cell_type": "markdown",
   "id": "38ca7046",
   "metadata": {},
   "source": [
    "## Setting the simulation\n",
    "\n",
    "All the data needed to run this notebook is here [test-data](test-data/)"
   ]
  },
  {
   "cell_type": "code",
   "execution_count": 1,
   "id": "2af583f9",
   "metadata": {},
   "outputs": [
    {
     "data": {
      "text/plain": [
       "'0.17.2.dev15+g84f4f8ed'"
      ]
     },
     "execution_count": 1,
     "metadata": {},
     "output_type": "execute_result"
    }
   ],
   "source": [
    "import pandas as pd\n",
    "import gzip\n",
    "import time\n",
    "import numpy as np\n",
    "import fwdpy11\n",
    "import msprime\n",
    "fwdpy11.__version__"
   ]
  },
  {
   "cell_type": "markdown",
   "id": "a5ee4e77",
   "metadata": {},
   "source": [
    "## Loading the data\n",
    "\n",
    "I have generated 200 random samples of 1Mb length from the genome. Here, I take one of those samples, as an example, to set the simulation.\n",
    "**NOTE:**\n",
    "\n",
    "- I subtract the start position of the region from the intervals and the recombination map. So, the start position is zero. (Not sure If I need to do this)."
   ]
  },
  {
   "cell_type": "code",
   "execution_count": 2,
   "id": "98eed2e9",
   "metadata": {},
   "outputs": [
    {
     "name": "stdout",
     "output_type": "stream",
     "text": [
      "position chr22, 29000000, 30000000\n"
     ]
    }
   ],
   "source": [
    "# The 1Mb sampled region\n",
    "\n",
    "chromosome, start, end = np.loadtxt('test-data/region_region_23.bed', dtype=np.int64)\n",
    "print(f'position chr{chromosome}, {start}, {end}')"
   ]
  },
  {
   "cell_type": "code",
   "execution_count": 3,
   "id": "787d4560",
   "metadata": {},
   "outputs": [
    {
     "data": {
      "text/html": [
       "<div>\n",
       "<style scoped>\n",
       "    .dataframe tbody tr th:only-of-type {\n",
       "        vertical-align: middle;\n",
       "    }\n",
       "\n",
       "    .dataframe tbody tr th {\n",
       "        vertical-align: top;\n",
       "    }\n",
       "\n",
       "    .dataframe thead th {\n",
       "        text-align: right;\n",
       "    }\n",
       "</style>\n",
       "<table border=\"1\" class=\"dataframe\">\n",
       "  <thead>\n",
       "    <tr style=\"text-align: right;\">\n",
       "      <th></th>\n",
       "      <th>chro</th>\n",
       "      <th>start</th>\n",
       "      <th>end</th>\n",
       "    </tr>\n",
       "  </thead>\n",
       "  <tbody>\n",
       "    <tr>\n",
       "      <th>0</th>\n",
       "      <td>22</td>\n",
       "      <td>29042494</td>\n",
       "      <td>29042569</td>\n",
       "    </tr>\n",
       "    <tr>\n",
       "      <th>1</th>\n",
       "      <td>22</td>\n",
       "      <td>29043298</td>\n",
       "      <td>29043430</td>\n",
       "    </tr>\n",
       "    <tr>\n",
       "      <th>2</th>\n",
       "      <td>22</td>\n",
       "      <td>29044779</td>\n",
       "      <td>29044890</td>\n",
       "    </tr>\n",
       "    <tr>\n",
       "      <th>3</th>\n",
       "      <td>22</td>\n",
       "      <td>29046715</td>\n",
       "      <td>29046883</td>\n",
       "    </tr>\n",
       "    <tr>\n",
       "      <th>4</th>\n",
       "      <td>22</td>\n",
       "      <td>29048388</td>\n",
       "      <td>29048491</td>\n",
       "    </tr>\n",
       "  </tbody>\n",
       "</table>\n",
       "</div>"
      ],
      "text/plain": [
       "   chro     start       end\n",
       "0    22  29042494  29042569\n",
       "1    22  29043298  29043430\n",
       "2    22  29044779  29044890\n",
       "3    22  29046715  29046883\n",
       "4    22  29048388  29048491"
      ]
     },
     "execution_count": 3,
     "metadata": {},
     "output_type": "execute_result"
    }
   ],
   "source": [
    "# exonic intervals in the sampled region\n",
    "\n",
    "exons = pd.read_csv('test-data/region_exons_23.bed', sep='\\t', names=['chro', 'start', 'end'])\n",
    "exons.head()"
   ]
  },
  {
   "cell_type": "code",
   "execution_count": 4,
   "id": "463a28a0",
   "metadata": {},
   "outputs": [
    {
     "data": {
      "text/html": [
       "<div>\n",
       "<style scoped>\n",
       "    .dataframe tbody tr th:only-of-type {\n",
       "        vertical-align: middle;\n",
       "    }\n",
       "\n",
       "    .dataframe tbody tr th {\n",
       "        vertical-align: top;\n",
       "    }\n",
       "\n",
       "    .dataframe thead th {\n",
       "        text-align: right;\n",
       "    }\n",
       "</style>\n",
       "<table border=\"1\" class=\"dataframe\">\n",
       "  <thead>\n",
       "    <tr style=\"text-align: right;\">\n",
       "      <th></th>\n",
       "      <th>chro</th>\n",
       "      <th>start</th>\n",
       "      <th>end</th>\n",
       "    </tr>\n",
       "  </thead>\n",
       "  <tbody>\n",
       "    <tr>\n",
       "      <th>0</th>\n",
       "      <td>22</td>\n",
       "      <td>29000000</td>\n",
       "      <td>29042494</td>\n",
       "    </tr>\n",
       "    <tr>\n",
       "      <th>1</th>\n",
       "      <td>22</td>\n",
       "      <td>29042569</td>\n",
       "      <td>29043298</td>\n",
       "    </tr>\n",
       "    <tr>\n",
       "      <th>2</th>\n",
       "      <td>22</td>\n",
       "      <td>29043430</td>\n",
       "      <td>29044779</td>\n",
       "    </tr>\n",
       "    <tr>\n",
       "      <th>3</th>\n",
       "      <td>22</td>\n",
       "      <td>29044890</td>\n",
       "      <td>29046715</td>\n",
       "    </tr>\n",
       "    <tr>\n",
       "      <th>4</th>\n",
       "      <td>22</td>\n",
       "      <td>29046883</td>\n",
       "      <td>29048388</td>\n",
       "    </tr>\n",
       "  </tbody>\n",
       "</table>\n",
       "</div>"
      ],
      "text/plain": [
       "   chro     start       end\n",
       "0    22  29000000  29042494\n",
       "1    22  29042569  29043298\n",
       "2    22  29043430  29044779\n",
       "3    22  29044890  29046715\n",
       "4    22  29046883  29048388"
      ]
     },
     "execution_count": 4,
     "metadata": {},
     "output_type": "execute_result"
    }
   ],
   "source": [
    "# non coding intervals (intronic and exonic) in the sampled region\n",
    "nonexonic = pd.read_csv('test-data/region_intronANDinterg_23.bed', sep='\\t', names=['chro', 'start', 'end'])\n",
    "nonexonic.head()"
   ]
  },
  {
   "cell_type": "code",
   "execution_count": 5,
   "id": "ce0f14c2",
   "metadata": {},
   "outputs": [
    {
     "name": "stdout",
     "output_type": "stream",
     "text": [
      "{'LOF': 1.151627658e-05, 'missense': 0.00019355650402, 'synonymous': 7.921106974e-05, 'noncoding': 0.00957497053154}\n"
     ]
    }
   ],
   "source": [
    "# mutation rates within the region\n",
    "ml_coding = pd.read_csv('test-data/region_mlcoding_23.csv')\n",
    "ml_non_coding = np.loadtxt('test-data/region_mlnoncoding_23.txt', dtype=np.object0)[1]\n",
    "ml_non_coding = float(ml_non_coding)\n",
    "\n",
    "## Create a dict mapping class name to value\n",
    "\n",
    "ml = {}\n",
    "for x, y in ml_coding.iterrows():\n",
    "    ml[y.Q] = y.mL\n",
    "\n",
    "ml['noncoding'] = ml_non_coding\n",
    "print(ml)"
   ]
  },
  {
   "cell_type": "code",
   "execution_count": 6,
   "id": "8cf1506b",
   "metadata": {},
   "outputs": [
    {
     "data": {
      "text/html": [
       "<div>\n",
       "<style scoped>\n",
       "    .dataframe tbody tr th:only-of-type {\n",
       "        vertical-align: middle;\n",
       "    }\n",
       "\n",
       "    .dataframe tbody tr th {\n",
       "        vertical-align: top;\n",
       "    }\n",
       "\n",
       "    .dataframe thead th {\n",
       "        text-align: right;\n",
       "    }\n",
       "</style>\n",
       "<table border=\"1\" class=\"dataframe\">\n",
       "  <thead>\n",
       "    <tr style=\"text-align: right;\">\n",
       "      <th></th>\n",
       "      <th>chro</th>\n",
       "      <th>start</th>\n",
       "      <th>end</th>\n",
       "    </tr>\n",
       "  </thead>\n",
       "  <tbody>\n",
       "    <tr>\n",
       "      <th>0</th>\n",
       "      <td>22</td>\n",
       "      <td>0</td>\n",
       "      <td>42494</td>\n",
       "    </tr>\n",
       "    <tr>\n",
       "      <th>1</th>\n",
       "      <td>22</td>\n",
       "      <td>42569</td>\n",
       "      <td>43298</td>\n",
       "    </tr>\n",
       "    <tr>\n",
       "      <th>2</th>\n",
       "      <td>22</td>\n",
       "      <td>43430</td>\n",
       "      <td>44779</td>\n",
       "    </tr>\n",
       "    <tr>\n",
       "      <th>3</th>\n",
       "      <td>22</td>\n",
       "      <td>44890</td>\n",
       "      <td>46715</td>\n",
       "    </tr>\n",
       "    <tr>\n",
       "      <th>4</th>\n",
       "      <td>22</td>\n",
       "      <td>46883</td>\n",
       "      <td>48388</td>\n",
       "    </tr>\n",
       "  </tbody>\n",
       "</table>\n",
       "</div>"
      ],
      "text/plain": [
       "   chro  start    end\n",
       "0    22      0  42494\n",
       "1    22  42569  43298\n",
       "2    22  43430  44779\n",
       "3    22  44890  46715\n",
       "4    22  46883  48388"
      ]
     },
     "execution_count": 6,
     "metadata": {},
     "output_type": "execute_result"
    }
   ],
   "source": [
    "# substract start position so the intial positon is zero\n",
    "exons['start'] = exons['start'] - start\n",
    "exons['end'] = exons['end'] - start\n",
    "\n",
    "nonexonic['start'] = nonexonic['start'] - start\n",
    "nonexonic['end'] = nonexonic['end'] - start\n",
    "\n",
    "nonexonic.head()"
   ]
  },
  {
   "cell_type": "code",
   "execution_count": 7,
   "id": "6eabc77f",
   "metadata": {},
   "outputs": [
    {
     "name": "stdout",
     "output_type": "stream",
     "text": [
      "\n",
      "┌───────────────────────────────────────────────────────┐\n",
      "│left      │right     │         mid│      span│     rate│\n",
      "├───────────────────────────────────────────────────────┤\n",
      "│0         │15287922  │     7643961│  15287922│  9.5e-10│\n",
      "│15287922  │16370978  │    15829450│   1083056│  1.2e-09│\n",
      "│16370978  │16372046  │    16371512│      1068│    5e-09│\n",
      "│16372046  │16373044  │    16372545│       998│    5e-09│\n",
      "│16373044  │16373740  │    16373392│       696│  5.1e-09│\n",
      "│16373740  │16374612  │    16374176│       872│    6e-09│\n",
      "│16374612  │16374641  │  16374626.5│        29│  2.7e-08│\n",
      "│16374641  │16374814  │  16374727.5│       173│  2.7e-08│\n",
      "│16374814  │16374956  │    16374885│       142│  8.6e-09│\n",
      "│16374956  │16375126  │    16375041│       170│  4.2e-09│\n",
      "│⋯         │⋯         │           ⋯│         ⋯│        ⋯│\n",
      "│50739662  │50744589  │  50742125.5│      4927│  6.5e-09│\n",
      "│50744589  │50757736  │  50751162.5│     13147│  6.4e-09│\n",
      "│50757736  │50761423  │  50759579.5│      3687│  6.4e-09│\n",
      "│50761423  │50772964  │  50767193.5│     11541│  6.4e-09│\n",
      "│50772964  │50774447  │  50773705.5│      1483│  6.4e-09│\n",
      "│50774447  │50778136  │  50776291.5│      3689│  6.4e-09│\n",
      "│50778136  │50778706  │    50778421│       570│  6.4e-09│\n",
      "│50778706  │50783672  │    50781189│      4966│  6.4e-09│\n",
      "│50783672  │50785209  │  50784440.5│      1537│  6.5e-09│\n",
      "│50785209  │50791377  │    50788293│      6168│  6.6e-09│\n",
      "└───────────────────────────────────────────────────────┘\n",
      "\n"
     ]
    }
   ],
   "source": [
    "## Recombination map\n",
    "## Here I use msprime function: msprime.RateMap.read_hapmap to load the recombination map\n",
    "rmap = msprime.RateMap.read_hapmap('test-data/chr22.b38.gmap', position_col=0, map_col=2)\n",
    "print(rmap)"
   ]
  },
  {
   "cell_type": "code",
   "execution_count": 8,
   "id": "e032605a",
   "metadata": {},
   "outputs": [
    {
     "name": "stdout",
     "output_type": "stream",
     "text": [
      "\n",
      "┌──────────────────────────────────────────────┐\n",
      "│left    │right    │       mid│  span│     rate│\n",
      "├──────────────────────────────────────────────┤\n",
      "│0       │2389     │    1194.5│  2389│  1.4e-09│\n",
      "│2389    │2471     │      2430│    82│  9.3e-09│\n",
      "│2471    │4331     │      3401│  1860│  1.5e-08│\n",
      "│4331    │4527     │      4429│   196│  8.4e-09│\n",
      "│4527    │5345     │      4936│   818│  1.3e-08│\n",
      "│5345    │6551     │      5948│  1206│  9.5e-10│\n",
      "│6551    │6763     │      6657│   212│  1.1e-09│\n",
      "│6763    │6844     │    6803.5│    81│  9.9e-10│\n",
      "│6844    │7062     │      6953│   218│  1.3e-09│\n",
      "│7062    │8663     │    7862.5│  1601│  3.5e-09│\n",
      "│⋯       │⋯        │         ⋯│     ⋯│        ⋯│\n",
      "│994559  │994665   │    994612│   106│        0│\n",
      "│994665  │994787   │    994726│   122│        0│\n",
      "│994787  │995001   │    994894│   214│  4.7e-11│\n",
      "│995001  │995292   │  995146.5│   291│  3.4e-11│\n",
      "│995292  │996551   │  995921.5│  1259│    4e-11│\n",
      "│996551  │997514   │  997032.5│   963│  3.1e-11│\n",
      "│997514  │997555   │  997534.5│    41│  2.4e-10│\n",
      "│997555  │997837   │    997696│   282│    5e-10│\n",
      "│997837  │997984   │  997910.5│   147│  9.5e-10│\n",
      "│997984  │1000000  │    998992│  2016│  1.4e-09│\n",
      "└──────────────────────────────────────────────┘\n",
      "\n"
     ]
    }
   ],
   "source": [
    "## we can take a slice from the map to get the coordinates in the sampled region\n",
    "# with set trim=True \n",
    "rmap = rmap.slice(left=start, right=end, trim=True)\n",
    "print(rmap)"
   ]
  },
  {
   "cell_type": "markdown",
   "id": "825cf4a9",
   "metadata": {},
   "source": [
    "## Compute m (per base mutation rate)"
   ]
  },
  {
   "cell_type": "code",
   "execution_count": 9,
   "id": "8ed69a95",
   "metadata": {},
   "outputs": [
    {
     "name": "stdout",
     "output_type": "stream",
     "text": [
      "noncoding: 1.0001243533421491e-08\n",
      "synonymous: 2.7431455097658955e-09\n",
      "missense: 6.703023411137277e-09\n",
      "LOF: 3.988182774622524e-10\n"
     ]
    }
   ],
   "source": [
    "\n",
    "def per_base_mutation_rate(mL, regions):\n",
    "    L = (regions.end - regions.start).sum()\n",
    "    return mL / L\n",
    "\n",
    "u = dict()\n",
    "u['noncoding'] = per_base_mutation_rate(ml['noncoding'], regions=nonexonic)\n",
    "\n",
    "# coding\n",
    "u['synonymous'] = per_base_mutation_rate(ml['synonymous'], regions=exons)\n",
    "u['missense'] = per_base_mutation_rate(ml['missense'], regions=exons)\n",
    "u['LOF'] = per_base_mutation_rate(ml['LOF'], regions=exons)\n",
    "\n",
    "for x in u:\n",
    "    print(f'{x}: {u[x]}')"
   ]
  },
  {
   "cell_type": "markdown",
   "id": "29170524",
   "metadata": {},
   "source": [
    "# Set simulation \n",
    "\n",
    "## Neutral regions"
   ]
  },
  {
   "cell_type": "code",
   "execution_count": 10,
   "id": "0460413c",
   "metadata": {},
   "outputs": [],
   "source": [
    "## we will label the mutations according to the functional category\n",
    "\n",
    "mut_labels = {\n",
    "    'neutral': 0,\n",
    "    'missense': 1,\n",
    "    'synonymous': 2,\n",
    "    'LOF': 3,\n",
    "}"
   ]
  },
  {
   "cell_type": "code",
   "execution_count": 11,
   "id": "228ec7c0",
   "metadata": {},
   "outputs": [
    {
     "data": {
      "text/html": [
       "<div>\n",
       "<style scoped>\n",
       "    .dataframe tbody tr th:only-of-type {\n",
       "        vertical-align: middle;\n",
       "    }\n",
       "\n",
       "    .dataframe tbody tr th {\n",
       "        vertical-align: top;\n",
       "    }\n",
       "\n",
       "    .dataframe thead th {\n",
       "        text-align: right;\n",
       "    }\n",
       "</style>\n",
       "<table border=\"1\" class=\"dataframe\">\n",
       "  <thead>\n",
       "    <tr style=\"text-align: right;\">\n",
       "      <th></th>\n",
       "      <th>chro</th>\n",
       "      <th>start</th>\n",
       "      <th>end</th>\n",
       "    </tr>\n",
       "  </thead>\n",
       "  <tbody>\n",
       "    <tr>\n",
       "      <th>0</th>\n",
       "      <td>22</td>\n",
       "      <td>0</td>\n",
       "      <td>42494</td>\n",
       "    </tr>\n",
       "    <tr>\n",
       "      <th>1</th>\n",
       "      <td>22</td>\n",
       "      <td>42569</td>\n",
       "      <td>43298</td>\n",
       "    </tr>\n",
       "    <tr>\n",
       "      <th>2</th>\n",
       "      <td>22</td>\n",
       "      <td>43430</td>\n",
       "      <td>44779</td>\n",
       "    </tr>\n",
       "    <tr>\n",
       "      <th>3</th>\n",
       "      <td>22</td>\n",
       "      <td>44890</td>\n",
       "      <td>46715</td>\n",
       "    </tr>\n",
       "    <tr>\n",
       "      <th>4</th>\n",
       "      <td>22</td>\n",
       "      <td>46883</td>\n",
       "      <td>48388</td>\n",
       "    </tr>\n",
       "  </tbody>\n",
       "</table>\n",
       "</div>"
      ],
      "text/plain": [
       "   chro  start    end\n",
       "0    22      0  42494\n",
       "1    22  42569  43298\n",
       "2    22  43430  44779\n",
       "3    22  44890  46715\n",
       "4    22  46883  48388"
      ]
     },
     "execution_count": 11,
     "metadata": {},
     "output_type": "execute_result"
    }
   ],
   "source": [
    "nonexonic.head()"
   ]
  },
  {
   "cell_type": "code",
   "execution_count": 12,
   "id": "d22ebf07",
   "metadata": {},
   "outputs": [],
   "source": [
    "# Construct the neutral regions from the non-exonic intervals\n",
    "# we also assume that synonymous mutations are neutral\n",
    "\n",
    "nregions = []\n",
    "for _, noexon in nonexonic.iterrows():\n",
    "    nregions.append(\n",
    "        fwdpy11.Region(beg=noexon.start, end=noexon.end, weight=u['noncoding'], label=mut_labels['neutral'])\n",
    "    \n",
    "    )\n",
    "\n",
    "# synonymous we assume they are neutral\n",
    "for _, exon in exons.iterrows():\n",
    "    nregions.append(\n",
    "        fwdpy11.Region(beg=exon.start, end=exon.end, weight=u['synonymous'], label=mut_labels['synonymous'])\n",
    "    \n",
    "    )"
   ]
  },
  {
   "cell_type": "markdown",
   "id": "fb6b9005",
   "metadata": {},
   "source": [
    "## Distributions of effect sizes | Selected regions\n",
    "\n",
    "- For now I use Aaron's infered DFEs [see here](https://moments.readthedocs.io/en/main/modules/dfe.html#all-data).\n",
    "- The weights establish the relative probability that a mutation comes from a given region.\n",
    "\n",
    "**NOTE:**\n",
    "\n",
    "- When multiple “sregion” objects are used, the default behavior is to multiply the input weight by end-beg:\n",
    "- The weights should depend on the mutation type (i.e. synonymous, missense). We could make the weight\n",
    "proportional to ml.\n",
    "\n",
    "**Comments:**\n",
    "\n",
    "- The selection and dominance should also depend on the mutation class. We'll need to pick an appropiate DFEs for each case.\n",
    "\n",
    "\n",
    "### DFE for missense variants\n",
    "\n",
    "The parameters that were fit are alpha and beta (or shape and scale) of the gamma distribution.\n",
    "\n",
    "- Ne = 11372.91\n",
    "- shape: 0.1596\n",
    "- scale: 2332.3\n",
    "\n",
    "The mean of the gamma distribution is $\\alpha\\beta$. I need to divide by 2Ne.\n"
   ]
  },
  {
   "cell_type": "code",
   "execution_count": 13,
   "id": "8aa2e0cf",
   "metadata": {},
   "outputs": [
    {
     "data": {
      "text/plain": [
       "0.01636498838028262"
      ]
     },
     "execution_count": 13,
     "metadata": {},
     "output_type": "execute_result"
    }
   ],
   "source": [
    "Ne = 11372.91\n",
    "shape = 0.1596\n",
    "scale = 2332.3\n",
    "mean_s = (shape * scale) / (2 * Ne)\n",
    "mean_s"
   ]
  },
  {
   "cell_type": "code",
   "execution_count": 14,
   "id": "f7344e47",
   "metadata": {},
   "outputs": [
    {
     "data": {
      "text/plain": [
       "fwdpy11.GammaS(beg=0, end=1, weight=1, mean=0.01636498838028262, shape_parameter=0.1596, h=1, coupled=True, label=0, scaling=1.0)"
      ]
     },
     "execution_count": 14,
     "metadata": {},
     "output_type": "execute_result"
    }
   ],
   "source": [
    "# This will be the DFE for missense variants\n",
    "fwdpy11.GammaS(beg=0, end=1, weight=1, mean=mean_s, shape_parameter=shape, h=1)"
   ]
  },
  {
   "cell_type": "code",
   "execution_count": 15,
   "id": "7027e93e",
   "metadata": {},
   "outputs": [
    {
     "data": {
      "text/plain": [
       "0.1235552927966545"
      ]
     },
     "execution_count": 15,
     "metadata": {},
     "output_type": "execute_result"
    }
   ],
   "source": [
    "# DFE for LOF\n",
    "shape_lof = 0.3589\n",
    "scale_lof = 7830.5\n",
    "mean_s_lof = (shape_lof * scale_lof) / (2 * Ne)\n",
    "mean_s_lof"
   ]
  },
  {
   "cell_type": "code",
   "execution_count": 16,
   "id": "3f6f634c",
   "metadata": {},
   "outputs": [
    {
     "data": {
      "text/plain": [
       "fwdpy11.GammaS(beg=0, end=1, weight=1, mean=0.1235552927966545, shape_parameter=0.3589, h=1, coupled=True, label=0, scaling=1.0)"
      ]
     },
     "execution_count": 16,
     "metadata": {},
     "output_type": "execute_result"
    }
   ],
   "source": [
    "fwdpy11.GammaS(beg=0, end=1, weight=1, mean=mean_s_lof, shape_parameter=shape_lof, h=1)"
   ]
  },
  {
   "cell_type": "code",
   "execution_count": 17,
   "id": "9d9a9b44",
   "metadata": {},
   "outputs": [
    {
     "name": "stdout",
     "output_type": "stream",
     "text": [
      "total weight: 0.0002050727806\n",
      "\n",
      "missense=0.943842978349902\n",
      "lof=0.05615702165009801\n"
     ]
    }
   ],
   "source": [
    "# Define the Weights\n",
    "# I think we can interpret these weights as given that\n",
    "# we have a mutation in a coding region what is the \n",
    "# probability that this mutation is missense\n",
    "\n",
    "total_weigth = ml['missense'] + ml['LOF']\n",
    "\n",
    "\n",
    "w_mis = ml['missense'] / total_weigth\n",
    "w_lof = ml['LOF'] / total_weigth\n",
    "\n",
    "print(f'total weight: {total_weigth}\\n\\nmissense={w_mis}\\nlof={w_lof}')"
   ]
  },
  {
   "cell_type": "code",
   "execution_count": 18,
   "id": "5f17fe6c",
   "metadata": {},
   "outputs": [],
   "source": [
    "# Construct the selected regions from the exonic intervals\n",
    "sregions = []\n",
    "for _, exon in exons.iterrows():\n",
    "    # missense\n",
    "    sregions.append(\n",
    "        fwdpy11.GammaS(\n",
    "            beg=exon.start, end=exon.end,\n",
    "            weight=u['missense'],\n",
    "            mean=mean_s, shape_parameter=shape,\n",
    "            h=1,\n",
    "            label=mut_labels['missense'])\n",
    "    \n",
    "    )\n",
    "    # loss of function\n",
    "    sregions.append(\n",
    "        fwdpy11.GammaS(\n",
    "            beg=exon.start, end=exon.end,\n",
    "            weight=u['LOF'],\n",
    "            mean=mean_s_lof, shape_parameter=shape_lof,\n",
    "            h=1,\n",
    "            label=mut_labels['LOF'])\n",
    "    \n",
    "    )"
   ]
  },
  {
   "cell_type": "code",
   "execution_count": 19,
   "id": "8e0209ac",
   "metadata": {},
   "outputs": [
    {
     "data": {
      "text/plain": [
       "[fwdpy11.GammaS(beg=42494, end=42569, weight=6.703023411137277e-09, mean=0.01636498838028262, shape_parameter=0.1596, h=1, coupled=True, label=1, scaling=1.0),\n",
       " fwdpy11.GammaS(beg=42494, end=42569, weight=3.988182774622524e-10, mean=0.1235552927966545, shape_parameter=0.3589, h=1, coupled=True, label=3, scaling=1.0),\n",
       " fwdpy11.GammaS(beg=43298, end=43430, weight=6.703023411137277e-09, mean=0.01636498838028262, shape_parameter=0.1596, h=1, coupled=True, label=1, scaling=1.0),\n",
       " fwdpy11.GammaS(beg=43298, end=43430, weight=3.988182774622524e-10, mean=0.1235552927966545, shape_parameter=0.3589, h=1, coupled=True, label=3, scaling=1.0),\n",
       " fwdpy11.GammaS(beg=44779, end=44890, weight=6.703023411137277e-09, mean=0.01636498838028262, shape_parameter=0.1596, h=1, coupled=True, label=1, scaling=1.0)]"
      ]
     },
     "execution_count": 19,
     "metadata": {},
     "output_type": "execute_result"
    }
   ],
   "source": [
    "sregions[:5]"
   ]
  },
  {
   "cell_type": "markdown",
   "id": "65bd7d92",
   "metadata": {},
   "source": [
    "## Recombination"
   ]
  },
  {
   "cell_type": "code",
   "execution_count": 20,
   "id": "7e10032e",
   "metadata": {},
   "outputs": [
    {
     "data": {
      "text/html": [
       "<div><style scoped=\"\">\n",
       "            .tskit-table thead tr th:only-of-type {vertical-align: middle;}\n",
       "            .tskit-table thead tr th {text-align: center;vertical-align: top;}\n",
       "            .tskit-table tbody td {text-align: right;padding: 0.5em 0.5em;}\n",
       "            .tskit-table tbody th {padding: 0.5em 0.5em;}\n",
       "        </style><b></b><table border=\"1\" class=\"tskit-table\"><thead><tr><th>left</th><th>right</th><th>mid</th><th>span</th><th>rate</th></tr></thead><tbody><tr><td>0</td><td>2389</td><td>1194.5</td><td>2389</td><td>1.4e-09</td></tr><tr><td>2389</td><td>2471</td><td>2430</td><td>82</td><td>9.3e-09</td></tr><tr><td>2471</td><td>4331</td><td>3401</td><td>1860</td><td>1.5e-08</td></tr><tr><td>4331</td><td>4527</td><td>4429</td><td>196</td><td>8.4e-09</td></tr><tr><td>4527</td><td>5345</td><td>4936</td><td>818</td><td>1.3e-08</td></tr><tr><td>5345</td><td>6551</td><td>5948</td><td>1206</td><td>9.5e-10</td></tr><tr><td>6551</td><td>6763</td><td>6657</td><td>212</td><td>1.1e-09</td></tr><tr><td>6763</td><td>6844</td><td>6803.5</td><td>81</td><td>9.9e-10</td></tr><tr><td>6844</td><td>7062</td><td>6953</td><td>218</td><td>1.3e-09</td></tr><tr><td>7062</td><td>8663</td><td>7862.5</td><td>1601</td><td>3.5e-09</td></tr><tr><td>⋯</td><td>⋯</td><td>⋯</td><td>⋯</td><td>⋯</td></tr><tr><td>994559</td><td>994665</td><td>994612</td><td>106</td><td>0</td></tr><tr><td>994665</td><td>994787</td><td>994726</td><td>122</td><td>0</td></tr><tr><td>994787</td><td>995001</td><td>994894</td><td>214</td><td>4.7e-11</td></tr><tr><td>995001</td><td>995292</td><td>995146.5</td><td>291</td><td>3.4e-11</td></tr><tr><td>995292</td><td>996551</td><td>995921.5</td><td>1259</td><td>4e-11</td></tr><tr><td>996551</td><td>997514</td><td>997032.5</td><td>963</td><td>3.1e-11</td></tr><tr><td>997514</td><td>997555</td><td>997534.5</td><td>41</td><td>2.4e-10</td></tr><tr><td>997555</td><td>997837</td><td>997696</td><td>282</td><td>5e-10</td></tr><tr><td>997837</td><td>997984</td><td>997910.5</td><td>147</td><td>9.5e-10</td></tr><tr><td>997984</td><td>1000000</td><td>998992</td><td>2016</td><td>1.4e-09</td></tr></tbody></table></div>"
      ],
      "text/plain": [
       "RateMap(position=array([      0.,    2389.,    2471., ...,  997837.,  997984., 1000000.]), rate=array([1.41196013e-09, 9.26829268e-09, 1.52473118e-08, ...,\n",
       "       4.96453901e-10, 9.52380953e-10, 1.38604651e-09]))"
      ]
     },
     "execution_count": 20,
     "metadata": {},
     "output_type": "execute_result"
    }
   ],
   "source": [
    "rmap"
   ]
  },
  {
   "cell_type": "code",
   "execution_count": 21,
   "id": "b23fd38a",
   "metadata": {},
   "outputs": [],
   "source": [
    "nrec = len(rmap) - 1"
   ]
  },
  {
   "cell_type": "markdown",
   "id": "02917ff6",
   "metadata": {},
   "source": [
    "**NOTE:** I think the recombination rate in the map above\n",
    "    is per base pair"
   ]
  },
  {
   "cell_type": "code",
   "execution_count": 22,
   "id": "4593b22c",
   "metadata": {},
   "outputs": [],
   "source": [
    "recregions = []\n",
    "for i in range(nrec):\n",
    "    recregions.append(\n",
    "     fwdpy11.PoissonInterval(\n",
    "         beg=rmap.left[i],\n",
    "         end=rmap.right[i],\n",
    "         mean=rmap.rate[i] * rmap.span[i]\n",
    "     )   \n",
    "    )"
   ]
  },
  {
   "cell_type": "code",
   "execution_count": 23,
   "id": "dfff8715",
   "metadata": {},
   "outputs": [
    {
     "data": {
      "text/plain": [
       "[fwdpy11.PoissonInterval(beg=0.0, end=2389.0, mean=3.373172757461935e-06, discrete=False),\n",
       " fwdpy11.PoissonInterval(beg=2389.0, end=2471.0, mean=7.599999999885475e-07, discrete=False),\n",
       " fwdpy11.PoissonInterval(beg=2471.0, end=4331.0, mean=2.8360000000060556e-05, discrete=False),\n",
       " fwdpy11.PoissonInterval(beg=4331.0, end=4527.0, mean=1.6399999999694439e-06, discrete=False),\n",
       " fwdpy11.PoissonInterval(beg=4527.0, end=5345.0, mean=1.0490000000029642e-05, discrete=False),\n",
       " fwdpy11.PoissonInterval(beg=5345.0, end=6551.0, mean=1.139999999955066e-06, discrete=False),\n",
       " fwdpy11.PoissonInterval(beg=6551.0, end=6763.0, mean=2.3000000004547158e-07, discrete=False),\n",
       " fwdpy11.PoissonInterval(beg=6763.0, end=6844.0, mean=7.999999995789153e-08, discrete=False),\n",
       " fwdpy11.PoissonInterval(beg=6844.0, end=7062.0, mean=2.800000000191538e-07, discrete=False),\n",
       " fwdpy11.PoissonInterval(beg=7062.0, end=8663.0, mean=5.580000000005025e-06, discrete=False)]"
      ]
     },
     "execution_count": 23,
     "metadata": {},
     "output_type": "execute_result"
    }
   ],
   "source": [
    "recregions[:10]"
   ]
  },
  {
   "cell_type": "markdown",
   "id": "acd7538f",
   "metadata": {},
   "source": [
    "## Total remcombination rate\n",
    "\n",
    "Is the total recombination rate the sum if the rate of each region?"
   ]
  },
  {
   "cell_type": "code",
   "execution_count": 24,
   "id": "a644683c",
   "metadata": {},
   "outputs": [
    {
     "name": "stdout",
     "output_type": "stream",
     "text": [
      "total_recombination_rate is 0.007796313172757488\n"
     ]
    }
   ],
   "source": [
    "total_recombination_rate = sum([x.mean for x in recregions])\n",
    "\n",
    "print(f'total_recombination_rate is {total_recombination_rate}')"
   ]
  },
  {
   "cell_type": "markdown",
   "id": "6d7d6a07",
   "metadata": {},
   "source": [
    "## Rates\n",
    "\n",
    "We need to specify the total rates"
   ]
  },
  {
   "cell_type": "code",
   "execution_count": 25,
   "id": "ec0e68fd",
   "metadata": {},
   "outputs": [],
   "source": [
    "#  The neutral mutation rate, selected mutation rate, and total recombination rate, respectively.\n",
    "neutral_ml = ml['noncoding'] + ml['synonymous']\n",
    "selected_ml = ml['missense'] + ml['LOF']\n",
    "\n",
    "# recomb_rate = ??? | I'm not sure how to set this value\n",
    "rates = fwdpy11.MutationAndRecombinationRates(\n",
    "    neutral_mutation_rate=neutral_ml,\n",
    "    selected_mutation_rate=selected_ml,\n",
    "    recombination_rate=None)\n"
   ]
  },
  {
   "cell_type": "markdown",
   "id": "395094dd",
   "metadata": {},
   "source": [
    "## Demography\n",
    "\n",
    "To test the DFE I will use a constant size population model, this will run faster."
   ]
  },
  {
   "cell_type": "code",
   "execution_count": 26,
   "id": "8e0c81a8",
   "metadata": {},
   "outputs": [
    {
     "data": {
      "text/plain": [
       "1000000.0"
      ]
     },
     "execution_count": 26,
     "metadata": {},
     "output_type": "execute_result"
    }
   ],
   "source": [
    "Ne = 5000\n",
    "pop = fwdpy11.DiploidPopulation(N=Ne, length=int(1e6))\n",
    "pop.N\n",
    "pop.tables.genome_length\n"
   ]
  },
  {
   "cell_type": "markdown",
   "id": "fbc7fe41",
   "metadata": {},
   "source": [
    "## Setting up the parameters for a simulation\n"
   ]
  },
  {
   "cell_type": "code",
   "execution_count": 27,
   "id": "fef96339",
   "metadata": {},
   "outputs": [],
   "source": [
    "SIM_LEN = 1 * pop.N #TODO: should be 10"
   ]
  },
  {
   "cell_type": "code",
   "execution_count": 28,
   "id": "ef28f8f1",
   "metadata": {},
   "outputs": [],
   "source": [
    "# the parameters that fwdpy11 needs to run the simulation\n",
    "p = {\n",
    "    \"nregions\": nregions,  # neutral mutations (none for now, can add after the fact)\n",
    "    \"gvalue\": fwdpy11.Additive(2.0),  # fitness model\n",
    "    \"sregions\": sregions, \n",
    "    \"recregions\": recregions,\n",
    "    \"rates\": rates,\n",
    "    \"prune_selected\": True,\n",
    "    \"demography\": fwdpy11.DiscreteDemography(),  # pass the demographic model\n",
    "    \"simlen\": SIM_LEN\n",
    "}"
   ]
  },
  {
   "cell_type": "code",
   "execution_count": 29,
   "id": "6af19625",
   "metadata": {},
   "outputs": [],
   "source": [
    "params = fwdpy11.ModelParams(**p)"
   ]
  },
  {
   "cell_type": "code",
   "execution_count": 30,
   "id": "50e4cc0c",
   "metadata": {},
   "outputs": [],
   "source": [
    "# run the simulation\n",
    "# set up the random number generator\n",
    "rng = fwdpy11.GSLrng(54321) "
   ]
  },
  {
   "cell_type": "code",
   "execution_count": 31,
   "id": "c96a6c7e",
   "metadata": {},
   "outputs": [
    {
     "name": "stdout",
     "output_type": "stream",
     "text": [
      "runnning simulation ...\n",
      "Simulation took 118 seconds\n",
      "Final population sizes = (array([0], dtype=int32), array([500]))\n"
     ]
    }
   ],
   "source": [
    "# run the simulation\n",
    "print('runnning simulation ...')\n",
    "time1 = time.time()\n",
    "fwdpy11.evolvets(\n",
    "    rng, pop, params, simplification_interval=100, suppress_table_indexing=True\n",
    ")\n",
    "print(\"Simulation took\", int(time.time() - time1), \"seconds\")\n",
    "\n",
    "# simulation finished\n",
    "print(\"Final population sizes =\", pop.deme_sizes())"
   ]
  },
  {
   "cell_type": "code",
   "execution_count": 32,
   "id": "5bab8751",
   "metadata": {},
   "outputs": [],
   "source": [
    "mkdir -p results"
   ]
  },
  {
   "cell_type": "code",
   "execution_count": 33,
   "id": "922639f4",
   "metadata": {},
   "outputs": [],
   "source": [
    "# save the simulation results\n",
    "with gzip.open('results/sim-pop.gz', 'wb') as f:\n",
    "    pop.pickle_to_file(f)"
   ]
  },
  {
   "cell_type": "markdown",
   "id": "37c3a036",
   "metadata": {},
   "source": [
    "## Results\n",
    "\n",
    "- I will get the SFS for selected and not-selected mutations for 100 samples."
   ]
  },
  {
   "cell_type": "code",
   "execution_count": 34,
   "id": "86b40eb5",
   "metadata": {},
   "outputs": [],
   "source": [
    "nodes = np.array(pop.tables.nodes, copy=False)\n",
    "alive_nodes = pop.alive_nodes\n",
    "deme0_nodes = alive_nodes[np.where(nodes[\"deme\"][alive_nodes] == 0)[0]]"
   ]
  },
  {
   "cell_type": "code",
   "execution_count": 35,
   "id": "76d0954c",
   "metadata": {},
   "outputs": [
    {
     "data": {
      "text/plain": [
       "masked_array(data=[--, 23, 13, 5, 2, 1, 1, 0, 0, 0, 1, 0, 0, 0, 0, 0, 0,\n",
       "                   0, 0, 0, 0, 0, 0, 0, 0, 0, 0, 0, 0, 0, 0, 0, 0, 0, 0,\n",
       "                   0, 0, 0, 0, 0, 0, 0, 0, 0, 0, 0, 0, 0, 0, 0, 0, 0, 0,\n",
       "                   0, 0, 0, 0, 0, 0, 0, 0, 0, 0, 0, 0, 0, 0, 0, 0, 0, 0,\n",
       "                   0, 0, 0, 0, 0, 0, 0, 0, 0, 0, 0, 1, 2, 0, 0, 0, 0, 0,\n",
       "                   2, 1, 0, 0, 0, 0, 0, 1, 0, 0, 0, --],\n",
       "             mask=[ True, False, False, False, False, False, False, False,\n",
       "                   False, False, False, False, False, False, False, False,\n",
       "                   False, False, False, False, False, False, False, False,\n",
       "                   False, False, False, False, False, False, False, False,\n",
       "                   False, False, False, False, False, False, False, False,\n",
       "                   False, False, False, False, False, False, False, False,\n",
       "                   False, False, False, False, False, False, False, False,\n",
       "                   False, False, False, False, False, False, False, False,\n",
       "                   False, False, False, False, False, False, False, False,\n",
       "                   False, False, False, False, False, False, False, False,\n",
       "                   False, False, False, False, False, False, False, False,\n",
       "                   False, False, False, False, False, False, False, False,\n",
       "                   False, False, False, False,  True],\n",
       "       fill_value=999999,\n",
       "            dtype=int32)"
      ]
     },
     "execution_count": 35,
     "metadata": {},
     "output_type": "execute_result"
    }
   ],
   "source": [
    "# SFS (neutral + selected mutations)\n",
    "pop.tables.fs([deme0_nodes[:100]], include_neutral=True)"
   ]
  },
  {
   "cell_type": "code",
   "execution_count": 36,
   "id": "f186d823",
   "metadata": {},
   "outputs": [
    {
     "data": {
      "text/plain": [
       "masked_array(data=[--, 3, 1, 1, 0, 0, 0, 0, 0, 0, 0, 0, 0, 0, 0, 0, 0, 0,\n",
       "                   0, 0, 0, 0, 0, 0, 0, 0, 0, 0, 0, 0, 0, 0, 0, 0, 0, 0,\n",
       "                   0, 0, 0, 0, 0, 0, 0, 0, 0, 0, 0, 0, 0, 0, 0, 0, 0, 0,\n",
       "                   0, 0, 0, 0, 0, 0, 0, 0, 0, 0, 0, 0, 0, 0, 0, 0, 0, 0,\n",
       "                   0, 0, 0, 0, 0, 0, 0, 0, 0, 0, 0, 1, 0, 0, 0, 0, 0, 0,\n",
       "                   0, 0, 0, 0, 0, 0, 1, 0, 0, 0, --],\n",
       "             mask=[ True, False, False, False, False, False, False, False,\n",
       "                   False, False, False, False, False, False, False, False,\n",
       "                   False, False, False, False, False, False, False, False,\n",
       "                   False, False, False, False, False, False, False, False,\n",
       "                   False, False, False, False, False, False, False, False,\n",
       "                   False, False, False, False, False, False, False, False,\n",
       "                   False, False, False, False, False, False, False, False,\n",
       "                   False, False, False, False, False, False, False, False,\n",
       "                   False, False, False, False, False, False, False, False,\n",
       "                   False, False, False, False, False, False, False, False,\n",
       "                   False, False, False, False, False, False, False, False,\n",
       "                   False, False, False, False, False, False, False, False,\n",
       "                   False, False, False, False,  True],\n",
       "       fill_value=999999,\n",
       "            dtype=int32)"
      ]
     },
     "execution_count": 36,
     "metadata": {},
     "output_type": "execute_result"
    }
   ],
   "source": [
    "# SFS selected\n",
    "pop.tables.fs([deme0_nodes[:100]], include_neutral=False)"
   ]
  },
  {
   "cell_type": "code",
   "execution_count": 37,
   "id": "23e4766d",
   "metadata": {},
   "outputs": [
    {
     "data": {
      "text/html": [
       "\n",
       "            <div>\n",
       "              <style>\n",
       "                .tskit-table thead tr th {text-align: left;padding: 0.5em 0.5em;}\n",
       "                .tskit-table tbody tr td {padding: 0.5em 0.5em;}\n",
       "                .tskit-table tbody tr td:first-of-type {text-align: left;}\n",
       "                .tskit-details-label {vertical-align: top; padding-right:5px;}\n",
       "                .tskit-table-set {display: inline-flex;flex-wrap: wrap;margin: -12px 0 0 -12px;width: calc(100% + 12px);}\n",
       "                .tskit-table-set-table {margin: 12px 0 0 12px;}\n",
       "                details {display: inline-block;}\n",
       "                summary {cursor: pointer; outline: 0; display: list-item;}\n",
       "              </style>\n",
       "              <div class=\"tskit-table-set\">\n",
       "                <div class=\"tskit-table-set-table\">\n",
       "                  <table class=\"tskit-table\">\n",
       "                    <thead>\n",
       "                      <tr>\n",
       "                        <th style=\"padding:0;line-height:21px;\">\n",
       "                          <img style=\"height: 32px;display: inline-block;padding: 3px 5px 3px 0;\" src=\"https://raw.githubusercontent.com/tskit-dev/administrative/main/tskit_logo.svg\"/>\n",
       "                          <a target=\"_blank\" href=\"https://tskit.dev/tskit/docs/latest/python-api.html#the-treesequence-class\"> Tree Sequence </a>\n",
       "                        </th>\n",
       "                      </tr>\n",
       "                    </thead>\n",
       "                    <tbody>\n",
       "                      <tr><td>Trees</td><td>76</td></tr>\n",
       "                      <tr><td>Sequence Length</td><td>1000000.0</td></tr>\n",
       "                      <tr><td>Time Units</td><td>unknown</td></tr>\n",
       "                      <tr><td>Sample Nodes</td><td>1000</td></tr>\n",
       "                      <tr><td>Total Size</td><td>204.4 KiB</td></tr>\n",
       "                      <tr>\n",
       "                        <td>Metadata</td><td style=\"text-align: left;\">\n",
       "                <div>\n",
       "                  <span class=\"tskit-details-label\"></span>\n",
       "                  <details open>\n",
       "                    <summary>dict</summary>\n",
       "                    generation: 5000<br/>\n",
       "                  </details>\n",
       "                </div>\n",
       "                </td></tr>\n",
       "                    </tbody>\n",
       "                  </table>\n",
       "                </div>\n",
       "                <div class=\"tskit-table-set-table\">\n",
       "                  <table class=\"tskit-table\">\n",
       "                    <thead>\n",
       "                      <tr>\n",
       "                        <th style=\"line-height:21px;\">Table</th>\n",
       "                        <th>Rows</th>\n",
       "                        <th>Size</th>\n",
       "                        <th>Has Metadata</th>\n",
       "                      </tr>\n",
       "                    </thead>\n",
       "                    <tbody>\n",
       "                    \n",
       "                  <tr>\n",
       "                    <td>Edges</td>\n",
       "                      <td>2088</td>\n",
       "                      <td>65.3 KiB</td>\n",
       "                      <td style=\"text-align: center;\">\n",
       "                        \n",
       "                      </td>\n",
       "                    </tr>\n",
       "                \n",
       "                  <tr>\n",
       "                    <td>Individuals</td>\n",
       "                      <td>500</td>\n",
       "                      <td>60.3 KiB</td>\n",
       "                      <td style=\"text-align: center;\">\n",
       "                        ✅\n",
       "                      </td>\n",
       "                    </tr>\n",
       "                \n",
       "                  <tr>\n",
       "                    <td>Migrations</td>\n",
       "                      <td>0</td>\n",
       "                      <td>8 Bytes</td>\n",
       "                      <td style=\"text-align: center;\">\n",
       "                        \n",
       "                      </td>\n",
       "                    </tr>\n",
       "                \n",
       "                  <tr>\n",
       "                    <td>Mutations</td>\n",
       "                      <td>100</td>\n",
       "                      <td>7.1 KiB</td>\n",
       "                      <td style=\"text-align: center;\">\n",
       "                        ✅\n",
       "                      </td>\n",
       "                    </tr>\n",
       "                \n",
       "                  <tr>\n",
       "                    <td>Nodes</td>\n",
       "                      <td>1877</td>\n",
       "                      <td>51.3 KiB</td>\n",
       "                      <td style=\"text-align: center;\">\n",
       "                        \n",
       "                      </td>\n",
       "                    </tr>\n",
       "                \n",
       "                  <tr>\n",
       "                    <td>Populations</td>\n",
       "                      <td>1</td>\n",
       "                      <td>133 Bytes</td>\n",
       "                      <td style=\"text-align: center;\">\n",
       "                        ✅\n",
       "                      </td>\n",
       "                    </tr>\n",
       "                \n",
       "                  <tr>\n",
       "                    <td>Provenances</td>\n",
       "                      <td>1</td>\n",
       "                      <td>597 Bytes</td>\n",
       "                      <td style=\"text-align: center;\">\n",
       "                        \n",
       "                      </td>\n",
       "                    </tr>\n",
       "                \n",
       "                  <tr>\n",
       "                    <td>Sites</td>\n",
       "                      <td>100</td>\n",
       "                      <td>2.5 KiB</td>\n",
       "                      <td style=\"text-align: center;\">\n",
       "                        \n",
       "                      </td>\n",
       "                    </tr>\n",
       "                \n",
       "                    </tbody>\n",
       "                  </table>\n",
       "                </div>\n",
       "              </div>\n",
       "            </div>\n",
       "            "
      ],
      "text/plain": [
       "<tskit.trees.TreeSequence at 0x7fe9b8129d90>"
      ]
     },
     "execution_count": 37,
     "metadata": {},
     "output_type": "execute_result"
    }
   ],
   "source": [
    "ts = pop.dump_tables_to_tskit()\n",
    "ts"
   ]
  },
  {
   "cell_type": "markdown",
   "id": "6e42c800",
   "metadata": {},
   "source": [
    "# How many mutations for each class do we observe?"
   ]
  },
  {
   "cell_type": "code",
   "execution_count": 38,
   "id": "090dcc72",
   "metadata": {},
   "outputs": [
    {
     "data": {
      "text/plain": [
       "Counter({0: 90, 3: 2, 1: 7, 2: 1})"
      ]
     },
     "execution_count": 38,
     "metadata": {},
     "output_type": "execute_result"
    }
   ],
   "source": [
    "from collections import Counter\n",
    "mut_clas = []\n",
    "for m in ts.mutations():\n",
    "    mut_clas.append(m.metadata['label'])\n",
    "    \n",
    "Counter(mut_clas)"
   ]
  },
  {
   "cell_type": "code",
   "execution_count": null,
   "id": "17fcedd7",
   "metadata": {},
   "outputs": [],
   "source": []
  }
 ],
 "metadata": {
  "kernelspec": {
   "display_name": "Python 3 (ipykernel)",
   "language": "python",
   "name": "python3"
  },
  "language_info": {
   "codemirror_mode": {
    "name": "ipython",
    "version": 3
   },
   "file_extension": ".py",
   "mimetype": "text/x-python",
   "name": "python",
   "nbconvert_exporter": "python",
   "pygments_lexer": "ipython3",
   "version": "3.9.0"
  }
 },
 "nbformat": 4,
 "nbformat_minor": 5
}
