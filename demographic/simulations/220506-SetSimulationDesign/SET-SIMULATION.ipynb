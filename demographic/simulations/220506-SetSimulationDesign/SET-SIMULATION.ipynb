{
 "cells": [
  {
   "cell_type": "markdown",
   "id": "38ca7046",
   "metadata": {},
   "source": [
    "## Setting the simulation\n",
    "\n",
    "All the data needed to run this notebook is here [test-data](test-data/)"
   ]
  },
  {
   "cell_type": "code",
   "execution_count": 1,
   "id": "2af583f9",
   "metadata": {},
   "outputs": [
    {
     "data": {
      "text/plain": [
       "'0.17.2.dev15+g84f4f8ed'"
      ]
     },
     "execution_count": 1,
     "metadata": {},
     "output_type": "execute_result"
    }
   ],
   "source": [
    "import sys\n",
    "import pandas as pd\n",
    "import gzip\n",
    "import time\n",
    "import numpy as np\n",
    "import fwdpy11\n",
    "import msprime\n",
    "\n",
    "sys.path.append('../')\n",
    "from simutils import utils\n",
    "\n",
    "fwdpy11.__version__"
   ]
  },
  {
   "cell_type": "markdown",
   "id": "a5ee4e77",
   "metadata": {},
   "source": [
    "# Simulation data\n",
    "\n",
    "## Loading the data\n",
    "\n",
    "I have generated 200 random samples of 1Mb length from the genome. Here, I take one of those samples, as an example, to set the simulation.\n",
    "**NOTE:**\n",
    "\n",
    "- I subtract the start position of the region from the intervals and the recombination map. So, the start position is zero. (Not sure If I need to do this).\n",
    "\n",
    "\n",
    "I created a python module: [simutils](../simutils/), where \n",
    "I put some function to load the data."
   ]
  },
  {
   "cell_type": "code",
   "execution_count": 2,
   "id": "98eed2e9",
   "metadata": {},
   "outputs": [
    {
     "name": "stdout",
     "output_type": "stream",
     "text": [
      "Region: 22, start: 29000000, end: 30000000\n"
     ]
    }
   ],
   "source": [
    "sim_dat = utils.simuldata(path_to_samples='test-data/', sample_id=23, path_to_genetic_maps='test-data/')\n",
    "print(sim_dat)"
   ]
  },
  {
   "cell_type": "markdown",
   "id": "a6c530b2",
   "metadata": {},
   "source": [
    "# Genomic intervals"
   ]
  },
  {
   "cell_type": "code",
   "execution_count": 3,
   "id": "4e4f6cba",
   "metadata": {},
   "outputs": [
    {
     "data": {
      "text/html": [
       "<div>\n",
       "<style scoped>\n",
       "    .dataframe tbody tr th:only-of-type {\n",
       "        vertical-align: middle;\n",
       "    }\n",
       "\n",
       "    .dataframe tbody tr th {\n",
       "        vertical-align: top;\n",
       "    }\n",
       "\n",
       "    .dataframe thead th {\n",
       "        text-align: right;\n",
       "    }\n",
       "</style>\n",
       "<table border=\"1\" class=\"dataframe\">\n",
       "  <thead>\n",
       "    <tr style=\"text-align: right;\">\n",
       "      <th></th>\n",
       "      <th>chro</th>\n",
       "      <th>start</th>\n",
       "      <th>end</th>\n",
       "    </tr>\n",
       "  </thead>\n",
       "  <tbody>\n",
       "    <tr>\n",
       "      <th>0</th>\n",
       "      <td>22</td>\n",
       "      <td>42494</td>\n",
       "      <td>42569</td>\n",
       "    </tr>\n",
       "    <tr>\n",
       "      <th>1</th>\n",
       "      <td>22</td>\n",
       "      <td>43298</td>\n",
       "      <td>43430</td>\n",
       "    </tr>\n",
       "    <tr>\n",
       "      <th>2</th>\n",
       "      <td>22</td>\n",
       "      <td>44779</td>\n",
       "      <td>44890</td>\n",
       "    </tr>\n",
       "    <tr>\n",
       "      <th>3</th>\n",
       "      <td>22</td>\n",
       "      <td>46715</td>\n",
       "      <td>46883</td>\n",
       "    </tr>\n",
       "    <tr>\n",
       "      <th>4</th>\n",
       "      <td>22</td>\n",
       "      <td>48388</td>\n",
       "      <td>48491</td>\n",
       "    </tr>\n",
       "  </tbody>\n",
       "</table>\n",
       "</div>"
      ],
      "text/plain": [
       "   chro  start    end\n",
       "0    22  42494  42569\n",
       "1    22  43298  43430\n",
       "2    22  44779  44890\n",
       "3    22  46715  46883\n",
       "4    22  48388  48491"
      ]
     },
     "execution_count": 3,
     "metadata": {},
     "output_type": "execute_result"
    }
   ],
   "source": [
    "## Coding interval are stored as a data frame\n",
    "sim_dat.coding_intervals.head()"
   ]
  },
  {
   "cell_type": "code",
   "execution_count": 4,
   "id": "a6578d67",
   "metadata": {},
   "outputs": [
    {
     "data": {
      "text/html": [
       "<div>\n",
       "<style scoped>\n",
       "    .dataframe tbody tr th:only-of-type {\n",
       "        vertical-align: middle;\n",
       "    }\n",
       "\n",
       "    .dataframe tbody tr th {\n",
       "        vertical-align: top;\n",
       "    }\n",
       "\n",
       "    .dataframe thead th {\n",
       "        text-align: right;\n",
       "    }\n",
       "</style>\n",
       "<table border=\"1\" class=\"dataframe\">\n",
       "  <thead>\n",
       "    <tr style=\"text-align: right;\">\n",
       "      <th></th>\n",
       "      <th>chro</th>\n",
       "      <th>start</th>\n",
       "      <th>end</th>\n",
       "    </tr>\n",
       "  </thead>\n",
       "  <tbody>\n",
       "    <tr>\n",
       "      <th>0</th>\n",
       "      <td>22</td>\n",
       "      <td>0</td>\n",
       "      <td>42494</td>\n",
       "    </tr>\n",
       "    <tr>\n",
       "      <th>1</th>\n",
       "      <td>22</td>\n",
       "      <td>42569</td>\n",
       "      <td>43298</td>\n",
       "    </tr>\n",
       "    <tr>\n",
       "      <th>2</th>\n",
       "      <td>22</td>\n",
       "      <td>43430</td>\n",
       "      <td>44779</td>\n",
       "    </tr>\n",
       "    <tr>\n",
       "      <th>3</th>\n",
       "      <td>22</td>\n",
       "      <td>44890</td>\n",
       "      <td>46715</td>\n",
       "    </tr>\n",
       "    <tr>\n",
       "      <th>4</th>\n",
       "      <td>22</td>\n",
       "      <td>46883</td>\n",
       "      <td>48388</td>\n",
       "    </tr>\n",
       "  </tbody>\n",
       "</table>\n",
       "</div>"
      ],
      "text/plain": [
       "   chro  start    end\n",
       "0    22      0  42494\n",
       "1    22  42569  43298\n",
       "2    22  43430  44779\n",
       "3    22  44890  46715\n",
       "4    22  46883  48388"
      ]
     },
     "execution_count": 4,
     "metadata": {},
     "output_type": "execute_result"
    }
   ],
   "source": [
    "## Same for noncoding\n",
    "sim_dat.noncoding_intervals.head()"
   ]
  },
  {
   "cell_type": "code",
   "execution_count": 5,
   "id": "98e7a211",
   "metadata": {},
   "outputs": [
    {
     "name": "stdout",
     "output_type": "stream",
     "text": [
      "coding length = 28876\n",
      "noncoding length = 957378\n"
     ]
    }
   ],
   "source": [
    "# we can get the length of the coding and noncoding intervals\n",
    "\n",
    "\n",
    "print(\n",
    " f'coding length = {sim_dat.L(coding=True)}\\nnoncoding length = {sim_dat.L(False)}'\n",
    ")\n"
   ]
  },
  {
   "cell_type": "markdown",
   "id": "fade3000",
   "metadata": {},
   "source": [
    "## Recombination rate in the region\n",
    "\n",
    "**NOTE:** I think the recombination rate in the map above\n",
    "    is per base pair"
   ]
  },
  {
   "cell_type": "code",
   "execution_count": 6,
   "id": "90b58139",
   "metadata": {},
   "outputs": [
    {
     "name": "stdout",
     "output_type": "stream",
     "text": [
      "\n",
      "┌──────────────────────────────────────────────┐\n",
      "│left    │right    │       mid│  span│     rate│\n",
      "├──────────────────────────────────────────────┤\n",
      "│0       │2389     │    1194.5│  2389│  1.4e-09│\n",
      "│2389    │2471     │      2430│    82│  9.3e-09│\n",
      "│2471    │4331     │      3401│  1860│  1.5e-08│\n",
      "│4331    │4527     │      4429│   196│  8.4e-09│\n",
      "│4527    │5345     │      4936│   818│  1.3e-08│\n",
      "│5345    │6551     │      5948│  1206│  9.5e-10│\n",
      "│6551    │6763     │      6657│   212│  1.1e-09│\n",
      "│6763    │6844     │    6803.5│    81│  9.9e-10│\n",
      "│6844    │7062     │      6953│   218│  1.3e-09│\n",
      "│7062    │8663     │    7862.5│  1601│  3.5e-09│\n",
      "│⋯       │⋯        │         ⋯│     ⋯│        ⋯│\n",
      "│994559  │994665   │    994612│   106│        0│\n",
      "│994665  │994787   │    994726│   122│        0│\n",
      "│994787  │995001   │    994894│   214│  4.7e-11│\n",
      "│995001  │995292   │  995146.5│   291│  3.4e-11│\n",
      "│995292  │996551   │  995921.5│  1259│    4e-11│\n",
      "│996551  │997514   │  997032.5│   963│  3.1e-11│\n",
      "│997514  │997555   │  997534.5│    41│  2.4e-10│\n",
      "│997555  │997837   │    997696│   282│    5e-10│\n",
      "│997837  │997984   │  997910.5│   147│  9.5e-10│\n",
      "│997984  │1000000  │    998992│  2016│  1.4e-09│\n",
      "└──────────────────────────────────────────────┘\n",
      "\n"
     ]
    }
   ],
   "source": [
    "# Recombination map in the region\n",
    "print(sim_dat.rmap)"
   ]
  },
  {
   "cell_type": "markdown",
   "id": "6b9a87a3",
   "metadata": {},
   "source": [
    "**NOTE:**\n",
    "    \n",
    "    Intervals are given with position relative to start."
   ]
  },
  {
   "cell_type": "markdown",
   "id": "c3aa0cb6",
   "metadata": {},
   "source": [
    "## Scaled mutation rates"
   ]
  },
  {
   "cell_type": "code",
   "execution_count": 7,
   "id": "7372e851",
   "metadata": {},
   "outputs": [
    {
     "name": "stdout",
     "output_type": "stream",
     "text": [
      "\n",
      "\n",
      "Scaled mutation rates\n",
      "\n",
      "Non-coding ml: 0.00957497053154\n",
      "synonymous ml: 7.921106974e-05\n",
      "missense ml: 0.00019355650402\n",
      "LOF ml: 1.151627658e-05\n",
      "\n"
     ]
    }
   ],
   "source": [
    "print(f'''\n",
    "\n",
    "Scaled mutation rates\n",
    "\n",
    "Non-coding ml: {sim_dat.ml_noncoding}\n",
    "synonymous ml: {sim_dat.ml_synonymous}\n",
    "missense ml: {sim_dat.ml_missense}\n",
    "LOF ml: {sim_dat.ml_LOF}\n",
    "''')"
   ]
  },
  {
   "cell_type": "code",
   "execution_count": 8,
   "id": "7aed9353",
   "metadata": {},
   "outputs": [
    {
     "name": "stdout",
     "output_type": "stream",
     "text": [
      "\n",
      "\n",
      "Per base mutation rates \n",
      "\n",
      "Non-coding m: 1.0001243533421491e-08\n",
      "synonymous m: 2.7431455097658955e-09\n",
      "missense m: 6.703023411137277e-09\n",
      "LOF m: 3.988182774622524e-10\n",
      "\n"
     ]
    }
   ],
   "source": [
    "# we also have the per-base mutation rates\n",
    "\n",
    "print(f'''\n",
    "\n",
    "Per base mutation rates \n",
    "\n",
    "Non-coding m: {sim_dat.m_noncoding}\n",
    "synonymous m: {sim_dat.m_synonymous}\n",
    "missense m: {sim_dat.m_missense}\n",
    "LOF m: {sim_dat.m_LOF}\n",
    "''')"
   ]
  },
  {
   "cell_type": "markdown",
   "id": "29170524",
   "metadata": {},
   "source": [
    "# Setting the simulation \n",
    "\n",
    "## Neutral regions"
   ]
  },
  {
   "cell_type": "code",
   "execution_count": 9,
   "id": "0460413c",
   "metadata": {},
   "outputs": [],
   "source": [
    "## we will label the mutations according to the functional category\n",
    "\n",
    "mut_labels = {\n",
    "    'neutral': 0,\n",
    "    'missense': 1,\n",
    "    'synonymous': 2,\n",
    "    'LOF': 3,\n",
    "}"
   ]
  },
  {
   "cell_type": "code",
   "execution_count": 10,
   "id": "d22ebf07",
   "metadata": {},
   "outputs": [],
   "source": [
    "# Construct the neutral regions from the noncoding intervals\n",
    "# we also assume that synonymous mutations are neutral\n",
    "# NOTE: we set the weight to the per base mutation rate\n",
    "\n",
    "\n",
    "nregions = []\n",
    "for _, noexon in sim_dat.noncoding_intervals.iterrows():\n",
    "    nregions.append(\n",
    "        fwdpy11.Region(beg=noexon.start, end=noexon.end, weight=sim_dat.m_noncoding, label=mut_labels['neutral'])\n",
    "    \n",
    "    )\n",
    "\n",
    "# synonymous we assume they are neutral\n",
    "for _, exon in sim_dat.coding_intervals.iterrows():\n",
    "    nregions.append(\n",
    "        fwdpy11.Region(beg=exon.start, end=exon.end, weight=sim_dat.m_synonymous, label=mut_labels['synonymous'])\n",
    "    \n",
    "    )"
   ]
  },
  {
   "cell_type": "code",
   "execution_count": 11,
   "id": "8f2d28a6",
   "metadata": {},
   "outputs": [
    {
     "data": {
      "text/plain": [
       "[fwdpy11.Region(beg=0, end=42494, weight=1.0001243533421491e-08, coupled=True, label=0),\n",
       " fwdpy11.Region(beg=42569, end=43298, weight=1.0001243533421491e-08, coupled=True, label=0),\n",
       " fwdpy11.Region(beg=43430, end=44779, weight=1.0001243533421491e-08, coupled=True, label=0),\n",
       " fwdpy11.Region(beg=44890, end=46715, weight=1.0001243533421491e-08, coupled=True, label=0),\n",
       " fwdpy11.Region(beg=46883, end=48388, weight=1.0001243533421491e-08, coupled=True, label=0)]"
      ]
     },
     "execution_count": 11,
     "metadata": {},
     "output_type": "execute_result"
    }
   ],
   "source": [
    "nregions[:5]"
   ]
  },
  {
   "cell_type": "markdown",
   "id": "fb6b9005",
   "metadata": {},
   "source": [
    "## Distributions of effect sizes | Selected regions\n",
    "\n",
    "- For now I use Aaron's infered DFEs [see here](https://moments.readthedocs.io/en/main/modules/dfe.html#all-data).\n",
    "- The weights establish the relative probability that a mutation comes from a given region.\n",
    "\n",
    "**NOTE:**\n",
    "\n",
    "- When multiple “sregion” objects are used, the default behavior is to multiply the input weight by end-beg:\n",
    "- The weights should depend on the mutation type (i.e. synonymous, missense). We will\n",
    "use the perbase mutation rate as the weight.\n",
    "\n",
    "\n",
    "**Comments:**\n",
    "\n",
    "- The selection and dominance should also depend on the mutation class. We'll need to pick an appropiate DFEs for each case.\n",
    "\n",
    "\n",
    "### DFE for missense variants\n",
    "\n",
    "The parameters that were fit are alpha and beta (or shape and scale) of the gamma distribution.\n",
    "\n",
    "- Ne = 11372.91\n",
    "- shape: 0.1596\n",
    "- scale: 2332.3\n",
    "\n",
    "The mean of the gamma distribution is $\\alpha\\beta$. I need to divide by 2Ne.\n"
   ]
  },
  {
   "cell_type": "code",
   "execution_count": 12,
   "id": "8aa2e0cf",
   "metadata": {},
   "outputs": [
    {
     "data": {
      "text/plain": [
       "0.01636498838028262"
      ]
     },
     "execution_count": 12,
     "metadata": {},
     "output_type": "execute_result"
    }
   ],
   "source": [
    "Ne = 11372.91\n",
    "shape = 0.1596\n",
    "scale = 2332.3\n",
    "mean_s = (shape * scale) / (2 * Ne)\n",
    "mean_s"
   ]
  },
  {
   "cell_type": "code",
   "execution_count": 13,
   "id": "f7344e47",
   "metadata": {},
   "outputs": [
    {
     "data": {
      "text/plain": [
       "fwdpy11.GammaS(beg=0, end=1, weight=1, mean=0.01636498838028262, shape_parameter=0.1596, h=1, coupled=True, label=0, scaling=1.0)"
      ]
     },
     "execution_count": 13,
     "metadata": {},
     "output_type": "execute_result"
    }
   ],
   "source": [
    "# This will be the DFE for missense variants\n",
    "fwdpy11.GammaS(beg=0, end=1, weight=1, mean=mean_s, shape_parameter=shape, h=1)"
   ]
  },
  {
   "cell_type": "code",
   "execution_count": 14,
   "id": "7027e93e",
   "metadata": {},
   "outputs": [
    {
     "data": {
      "text/plain": [
       "0.1235552927966545"
      ]
     },
     "execution_count": 14,
     "metadata": {},
     "output_type": "execute_result"
    }
   ],
   "source": [
    "# DFE for LOF\n",
    "shape_lof = 0.3589\n",
    "scale_lof = 7830.5\n",
    "mean_s_lof = (shape_lof * scale_lof) / (2 * Ne)\n",
    "mean_s_lof"
   ]
  },
  {
   "cell_type": "code",
   "execution_count": 15,
   "id": "3f6f634c",
   "metadata": {},
   "outputs": [
    {
     "data": {
      "text/plain": [
       "fwdpy11.GammaS(beg=0, end=1, weight=1, mean=0.1235552927966545, shape_parameter=0.3589, h=1, coupled=True, label=0, scaling=1.0)"
      ]
     },
     "execution_count": 15,
     "metadata": {},
     "output_type": "execute_result"
    }
   ],
   "source": [
    "fwdpy11.GammaS(beg=0, end=1, weight=1, mean=mean_s_lof, shape_parameter=shape_lof, h=1)"
   ]
  },
  {
   "cell_type": "code",
   "execution_count": 16,
   "id": "5f17fe6c",
   "metadata": {},
   "outputs": [],
   "source": [
    "# Construct the selected regions from the exonic intervals\n",
    "sregions = []\n",
    "for _, exon in sim_dat.coding_intervals.iterrows():\n",
    "    # missense\n",
    "    sregions.append(\n",
    "        fwdpy11.GammaS(\n",
    "            beg=exon.start, end=exon.end,\n",
    "            weight=sim_dat.m_missense,\n",
    "            mean=mean_s, shape_parameter=shape,\n",
    "            h=1,\n",
    "            label=mut_labels['missense'])\n",
    "    \n",
    "    )\n",
    "    # loss of function\n",
    "    sregions.append(\n",
    "        fwdpy11.GammaS(\n",
    "            beg=exon.start, end=exon.end,\n",
    "            weight=sim_dat.m_LOF,\n",
    "            mean=mean_s_lof, shape_parameter=shape_lof,\n",
    "            h=1,\n",
    "            label=mut_labels['LOF'])\n",
    "    \n",
    "    )"
   ]
  },
  {
   "cell_type": "code",
   "execution_count": 17,
   "id": "8e0209ac",
   "metadata": {},
   "outputs": [
    {
     "data": {
      "text/plain": [
       "[fwdpy11.GammaS(beg=42494, end=42569, weight=6.703023411137277e-09, mean=0.01636498838028262, shape_parameter=0.1596, h=1, coupled=True, label=1, scaling=1.0),\n",
       " fwdpy11.GammaS(beg=42494, end=42569, weight=3.988182774622524e-10, mean=0.1235552927966545, shape_parameter=0.3589, h=1, coupled=True, label=3, scaling=1.0),\n",
       " fwdpy11.GammaS(beg=43298, end=43430, weight=6.703023411137277e-09, mean=0.01636498838028262, shape_parameter=0.1596, h=1, coupled=True, label=1, scaling=1.0),\n",
       " fwdpy11.GammaS(beg=43298, end=43430, weight=3.988182774622524e-10, mean=0.1235552927966545, shape_parameter=0.3589, h=1, coupled=True, label=3, scaling=1.0),\n",
       " fwdpy11.GammaS(beg=44779, end=44890, weight=6.703023411137277e-09, mean=0.01636498838028262, shape_parameter=0.1596, h=1, coupled=True, label=1, scaling=1.0)]"
      ]
     },
     "execution_count": 17,
     "metadata": {},
     "output_type": "execute_result"
    }
   ],
   "source": [
    "sregions[:5]"
   ]
  },
  {
   "cell_type": "code",
   "execution_count": 18,
   "id": "b23fd38a",
   "metadata": {},
   "outputs": [],
   "source": [
    "nrec = len(sim_dat.rmap) - 1"
   ]
  },
  {
   "cell_type": "code",
   "execution_count": 19,
   "id": "4593b22c",
   "metadata": {},
   "outputs": [],
   "source": [
    "recregions = []\n",
    "for i in range(nrec):\n",
    "    recregions.append(\n",
    "     fwdpy11.PoissonInterval(\n",
    "         beg=sim_dat.rmap.left[i],\n",
    "         end=sim_dat.rmap.right[i],\n",
    "         mean=sim_dat.rmap.rate[i] * sim_dat.rmap.span[i]\n",
    "     )   \n",
    "    )"
   ]
  },
  {
   "cell_type": "code",
   "execution_count": 20,
   "id": "dfff8715",
   "metadata": {},
   "outputs": [
    {
     "data": {
      "text/plain": [
       "[fwdpy11.PoissonInterval(beg=0.0, end=2389.0, mean=3.373172757461935e-06, discrete=False),\n",
       " fwdpy11.PoissonInterval(beg=2389.0, end=2471.0, mean=7.599999999885475e-07, discrete=False),\n",
       " fwdpy11.PoissonInterval(beg=2471.0, end=4331.0, mean=2.8360000000060556e-05, discrete=False),\n",
       " fwdpy11.PoissonInterval(beg=4331.0, end=4527.0, mean=1.6399999999694439e-06, discrete=False),\n",
       " fwdpy11.PoissonInterval(beg=4527.0, end=5345.0, mean=1.0490000000029642e-05, discrete=False),\n",
       " fwdpy11.PoissonInterval(beg=5345.0, end=6551.0, mean=1.139999999955066e-06, discrete=False),\n",
       " fwdpy11.PoissonInterval(beg=6551.0, end=6763.0, mean=2.3000000004547158e-07, discrete=False),\n",
       " fwdpy11.PoissonInterval(beg=6763.0, end=6844.0, mean=7.999999995789153e-08, discrete=False),\n",
       " fwdpy11.PoissonInterval(beg=6844.0, end=7062.0, mean=2.800000000191538e-07, discrete=False),\n",
       " fwdpy11.PoissonInterval(beg=7062.0, end=8663.0, mean=5.580000000005025e-06, discrete=False)]"
      ]
     },
     "execution_count": 20,
     "metadata": {},
     "output_type": "execute_result"
    }
   ],
   "source": [
    "recregions[:10]"
   ]
  },
  {
   "cell_type": "markdown",
   "id": "acd7538f",
   "metadata": {},
   "source": [
    "## Total remcombination rate\n",
    "\n",
    "Is the total recombination rate the sum if the rate of each region?"
   ]
  },
  {
   "cell_type": "code",
   "execution_count": 21,
   "id": "a644683c",
   "metadata": {},
   "outputs": [
    {
     "name": "stdout",
     "output_type": "stream",
     "text": [
      "total_recombination_rate is 0.007796313172757488\n"
     ]
    }
   ],
   "source": [
    "total_recombination_rate = sum([x.mean for x in recregions])\n",
    "\n",
    "print(f'total_recombination_rate is {total_recombination_rate}')"
   ]
  },
  {
   "cell_type": "markdown",
   "id": "6d7d6a07",
   "metadata": {},
   "source": [
    "## Rates\n",
    "\n",
    "We need to specify the total rates"
   ]
  },
  {
   "cell_type": "code",
   "execution_count": 22,
   "id": "ec0e68fd",
   "metadata": {},
   "outputs": [],
   "source": [
    "#  The neutral mutation rate, selected mutation rate, and total recombination rate, respectively.\n",
    "neutral_ml = sim_dat.ml_noncoding + sim_dat.ml_synonymous\n",
    "selected_ml = sim_dat.ml_missense + sim_dat.ml_LOF\n",
    "\n",
    "# recomb_rate = ??? | I'm not sure how to set this value\n",
    "rates = fwdpy11.MutationAndRecombinationRates(\n",
    "    neutral_mutation_rate=neutral_ml,\n",
    "    selected_mutation_rate=selected_ml,\n",
    "    recombination_rate=None)\n"
   ]
  },
  {
   "cell_type": "markdown",
   "id": "395094dd",
   "metadata": {},
   "source": [
    "## Demography\n",
    "\n",
    "To test the DFE I will use a constant size population model, this will run faster."
   ]
  },
  {
   "cell_type": "code",
   "execution_count": 23,
   "id": "8e0c81a8",
   "metadata": {},
   "outputs": [
    {
     "data": {
      "text/plain": [
       "1000000.0"
      ]
     },
     "execution_count": 23,
     "metadata": {},
     "output_type": "execute_result"
    }
   ],
   "source": [
    "Ne = 500\n",
    "pop = fwdpy11.DiploidPopulation(N=Ne, length=int(1e6))\n",
    "pop.N\n",
    "pop.tables.genome_length\n"
   ]
  },
  {
   "cell_type": "markdown",
   "id": "fbc7fe41",
   "metadata": {},
   "source": [
    "## Setting up the parameters for a simulation\n"
   ]
  },
  {
   "cell_type": "code",
   "execution_count": 24,
   "id": "fef96339",
   "metadata": {},
   "outputs": [],
   "source": [
    "SIM_LEN = 10 * pop.N #TODO: should be 10"
   ]
  },
  {
   "cell_type": "code",
   "execution_count": 25,
   "id": "ef28f8f1",
   "metadata": {},
   "outputs": [],
   "source": [
    "# the parameters that fwdpy11 needs to run the simulation\n",
    "p = {\n",
    "    \"nregions\": nregions,  # neutral mutations (none for now, can add after the fact)\n",
    "    \"gvalue\": fwdpy11.Multiplicative(2.0),  # fitness model\n",
    "    \"sregions\": sregions, \n",
    "    \"recregions\": recregions,\n",
    "    \"rates\": rates,\n",
    "    \"prune_selected\": True,\n",
    "    \"demography\": fwdpy11.DiscreteDemography(),  # pass the demographic model\n",
    "    \"simlen\": SIM_LEN\n",
    "}"
   ]
  },
  {
   "cell_type": "code",
   "execution_count": 26,
   "id": "6af19625",
   "metadata": {},
   "outputs": [],
   "source": [
    "params = fwdpy11.ModelParams(**p)"
   ]
  },
  {
   "cell_type": "code",
   "execution_count": 27,
   "id": "50e4cc0c",
   "metadata": {},
   "outputs": [],
   "source": [
    "# run the simulation\n",
    "# set up the random number generator\n",
    "rng = fwdpy11.GSLrng(54321) "
   ]
  },
  {
   "cell_type": "code",
   "execution_count": null,
   "id": "c96a6c7e",
   "metadata": {},
   "outputs": [],
   "source": [
    "# run the simulation\n",
    "print('runnning simulation ...')\n",
    "time1 = time.time()\n",
    "fwdpy11.evolvets(\n",
    "    rng, pop, params, simplification_interval=100, suppress_table_indexing=True\n",
    ")\n",
    "print(\"Simulation took\", int(time.time() - time1), \"seconds\")\n",
    "\n",
    "# simulation finished\n",
    "print(\"Final population sizes =\", pop.deme_sizes())"
   ]
  },
  {
   "cell_type": "code",
   "execution_count": null,
   "id": "5bab8751",
   "metadata": {},
   "outputs": [],
   "source": [
    "mkdir -p results"
   ]
  },
  {
   "cell_type": "code",
   "execution_count": null,
   "id": "922639f4",
   "metadata": {},
   "outputs": [],
   "source": [
    "# save the simulation results\n",
    "with gzip.open('results/sim-pop.gz', 'wb') as f:\n",
    "    pop.pickle_to_file(f)"
   ]
  },
  {
   "cell_type": "markdown",
   "id": "37c3a036",
   "metadata": {},
   "source": [
    "## Results\n",
    "\n",
    "- I will get the SFS for selected and not-selected mutations for 100 samples."
   ]
  },
  {
   "cell_type": "code",
   "execution_count": null,
   "id": "86b40eb5",
   "metadata": {},
   "outputs": [],
   "source": [
    "nodes = np.array(pop.tables.nodes, copy=False)\n",
    "alive_nodes = pop.alive_nodes\n",
    "deme0_nodes = alive_nodes[np.where(nodes[\"deme\"][alive_nodes] == 0)[0]]"
   ]
  },
  {
   "cell_type": "code",
   "execution_count": null,
   "id": "76d0954c",
   "metadata": {},
   "outputs": [],
   "source": [
    "# SFS (neutral + selected mutations)\n",
    "pop.tables.fs([deme0_nodes[:100]], include_neutral=True)"
   ]
  },
  {
   "cell_type": "code",
   "execution_count": null,
   "id": "f186d823",
   "metadata": {},
   "outputs": [],
   "source": [
    "# SFS selected\n",
    "pop.tables.fs([deme0_nodes[:100]], include_neutral=False)"
   ]
  },
  {
   "cell_type": "code",
   "execution_count": null,
   "id": "23e4766d",
   "metadata": {},
   "outputs": [],
   "source": [
    "ts = pop.dump_tables_to_tskit()\n",
    "ts"
   ]
  },
  {
   "cell_type": "markdown",
   "id": "6e42c800",
   "metadata": {},
   "source": [
    "# How many mutations for each class do we observe?"
   ]
  },
  {
   "cell_type": "code",
   "execution_count": null,
   "id": "090dcc72",
   "metadata": {},
   "outputs": [],
   "source": [
    "from collections import Counter\n",
    "mut_clas = []\n",
    "for m in ts.mutations():\n",
    "    mut_clas.append(m.metadata['label'])\n",
    "    \n",
    "Counter(mut_clas)"
   ]
  },
  {
   "cell_type": "code",
   "execution_count": null,
   "id": "17fcedd7",
   "metadata": {},
   "outputs": [],
   "source": []
  }
 ],
 "metadata": {
  "kernelspec": {
   "display_name": "Python 3 (ipykernel)",
   "language": "python",
   "name": "python3"
  },
  "language_info": {
   "codemirror_mode": {
    "name": "ipython",
    "version": 3
   },
   "file_extension": ".py",
   "mimetype": "text/x-python",
   "name": "python",
   "nbconvert_exporter": "python",
   "pygments_lexer": "ipython3",
   "version": "3.9.0"
  }
 },
 "nbformat": 4,
 "nbformat_minor": 5
}
