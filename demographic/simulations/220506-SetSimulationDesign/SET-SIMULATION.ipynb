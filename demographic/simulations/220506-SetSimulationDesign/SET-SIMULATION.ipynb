{
 "cells": [
  {
   "cell_type": "markdown",
   "id": "38ca7046",
   "metadata": {},
   "source": [
    "## Setting the simulation\n",
    "\n",
    "All the data needed to run this notebook is here [test-data](test-data/)"
   ]
  },
  {
   "cell_type": "code",
   "execution_count": null,
   "id": "2af583f9",
   "metadata": {},
   "outputs": [],
   "source": [
    "import pandas as pd\n",
    "import time\n",
    "import numpy as np\n",
    "import fwdpy11\n",
    "import msprime\n",
    "fwdpy11.__version__"
   ]
  },
  {
   "cell_type": "markdown",
   "id": "a5ee4e77",
   "metadata": {},
   "source": [
    "## Loading the data\n",
    "\n",
    "I have generated 200 random samples of 1Mb length from the genome. Here, I take one of those samples, as an example, to set the simulation.\n",
    "**NOTE:**\n",
    "\n",
    "- I subtract the start position of the region from the intervals and the recombination map. So, the start position is zero. (Not sure If I need to do this)."
   ]
  },
  {
   "cell_type": "code",
   "execution_count": null,
   "id": "98eed2e9",
   "metadata": {},
   "outputs": [],
   "source": [
    "# The 1Mb sampled region\n",
    "\n",
    "chromosome, start, end = np.loadtxt('test-data/region_region_4.bed', dtype=np.int64)\n",
    "print(f'position chr{chromosome}, {start}, {end}')"
   ]
  },
  {
   "cell_type": "code",
   "execution_count": null,
   "id": "787d4560",
   "metadata": {},
   "outputs": [],
   "source": [
    "# exonic intervals in the sampled region\n",
    "\n",
    "exons = pd.read_csv('test-data/region_exons_4.bed', sep='\\t', names=['chro', 'start', 'end'])\n",
    "exons.head()"
   ]
  },
  {
   "cell_type": "code",
   "execution_count": null,
   "id": "463a28a0",
   "metadata": {},
   "outputs": [],
   "source": [
    "# non coding intervals (intronic and exonic) in the sampled region\n",
    "nonexonic = pd.read_csv('test-data/region_intronANDinterg_4.bed', sep='\\t', names=['chro', 'start', 'end'])\n",
    "nonexonic.head()"
   ]
  },
  {
   "cell_type": "code",
   "execution_count": null,
   "id": "ce0f14c2",
   "metadata": {},
   "outputs": [],
   "source": [
    "# mutation rates within the region\n",
    "ml_coding = pd.read_csv('test-data/region_mlcoding_4.csv')\n",
    "ml_non_coding = np.loadtxt('test-data/region_mlnoncoding_4.txt', dtype=np.object0)[1]\n",
    "ml_non_coding = float(ml_non_coding)\n",
    "\n",
    "## Create a dict mapping class name to value\n",
    "\n",
    "ml = {}\n",
    "for x, y in ml_coding.iterrows():\n",
    "    ml[y.Q] = y.mL\n",
    "\n",
    "ml['noncoding'] = ml_non_coding\n",
    "print(ml)"
   ]
  },
  {
   "cell_type": "code",
   "execution_count": null,
   "id": "8cf1506b",
   "metadata": {},
   "outputs": [],
   "source": [
    "# substract start position so the intial positon is zero\n",
    "exons['start'] = exons['start'] - start\n",
    "exons['end'] = exons['end'] - start\n",
    "\n",
    "nonexonic['start'] = nonexonic['start'] - start\n",
    "nonexonic['end'] = nonexonic['end'] - start\n",
    "\n",
    "nonexonic.head()"
   ]
  },
  {
   "cell_type": "code",
   "execution_count": null,
   "id": "6eabc77f",
   "metadata": {},
   "outputs": [],
   "source": [
    "## Recombination map\n",
    "## Here I use msprime function: msprime.RateMap.read_hapmap to load the recombination map\n",
    "rmap = msprime.RateMap.read_hapmap('test-data/chr22.b38.gmap', position_col=0, map_col=2)\n",
    "print(rmap)"
   ]
  },
  {
   "cell_type": "code",
   "execution_count": null,
   "id": "e032605a",
   "metadata": {},
   "outputs": [],
   "source": [
    "## we can take a slice from the map to get the coordinates in the sampled region\n",
    "# with set trim=True \n",
    "rmap = rmap.slice(left=start, right=end, trim=True)\n",
    "print(rmap)"
   ]
  },
  {
   "cell_type": "markdown",
   "id": "29170524",
   "metadata": {},
   "source": [
    "# Set simulation \n",
    "\n",
    "## Neutral regions"
   ]
  },
  {
   "cell_type": "code",
   "execution_count": null,
   "id": "0460413c",
   "metadata": {},
   "outputs": [],
   "source": [
    "## we will label the mutations according to the functional category\n",
    "\n",
    "mut_labels = {\n",
    "    'neutral': 0,\n",
    "    'missense': 1,\n",
    "    'synonymous': 2,\n",
    "    'LOF': 3,\n",
    "}"
   ]
  },
  {
   "cell_type": "code",
   "execution_count": null,
   "id": "228ec7c0",
   "metadata": {},
   "outputs": [],
   "source": [
    "nonexonic.head()"
   ]
  },
  {
   "cell_type": "code",
   "execution_count": null,
   "id": "d22ebf07",
   "metadata": {},
   "outputs": [],
   "source": [
    "# Construct the neutral regions from the non-exonic intervals\n",
    "nregions = []\n",
    "for _, noexon in nonexonic.iterrows():\n",
    "    nregions.append(\n",
    "        fwdpy11.Region(beg=noexon.start, end=noexon.end, weight=1, label=mut_labels['neutral'])\n",
    "    \n",
    "    )\n"
   ]
  },
  {
   "cell_type": "code",
   "execution_count": null,
   "id": "ef022311",
   "metadata": {},
   "outputs": [],
   "source": [
    "nregions[:10]"
   ]
  },
  {
   "cell_type": "markdown",
   "id": "fb6b9005",
   "metadata": {},
   "source": [
    "## Distributions of effect sizes | Selected regions\n",
    "\n",
    "- For now I use Aaron's infered DFEs [see here](https://moments.readthedocs.io/en/main/modules/dfe.html#all-data).\n",
    "- The weights establish the relative probability that a mutation comes from a given region.\n",
    "\n",
    "**NOTE:**\n",
    "\n",
    "- When multiple “sregion” objects are used, the default behavior is to multiply the input weight by end-beg:\n",
    "- The weights should depend on the mutation type (i.e. synonymous, missense). We could make the weight\n",
    "proportional to ml.\n",
    "\n",
    "**Comments:**\n",
    "\n",
    "- The selection and dominance should also depend on the mutation class. We'll need to pick an appropiate DFEs for each case.\n",
    "\n",
    "\n",
    "### DFE for missense variants\n",
    "\n",
    "The parameters that were fit are alpha and beta (or shape and scale) of the gamma distribution.\n",
    "\n",
    "- Ne = 11372.91\n",
    "- shape: 0.1596\n",
    "- scale: 2332.3\n",
    "\n",
    "The mean of the gamma distribution is $\\alpha\\beta$. I need to divide by 2Ne.\n"
   ]
  },
  {
   "cell_type": "code",
   "execution_count": null,
   "id": "f55e464e",
   "metadata": {},
   "outputs": [],
   "source": [
    "(shape * scale)"
   ]
  },
  {
   "cell_type": "code",
   "execution_count": null,
   "id": "8aa2e0cf",
   "metadata": {},
   "outputs": [],
   "source": [
    "Ne = 11372.91\n",
    "shape = 0.1596\n",
    "scale = 2332.3\n",
    "mean_s = (shape * scale) / (2 * Ne)\n",
    "mean_s"
   ]
  },
  {
   "cell_type": "code",
   "execution_count": null,
   "id": "f7344e47",
   "metadata": {},
   "outputs": [],
   "source": [
    "# This will be the DFE for missense variants\n",
    "fwdpy11.GammaS(beg=0, end=1, weight=1, mean=mean_s, shape_parameter=shape, h=1)"
   ]
  },
  {
   "cell_type": "code",
   "execution_count": null,
   "id": "9d9a9b44",
   "metadata": {},
   "outputs": [],
   "source": [
    "# Define the Weights\n",
    "total_weigth = ml['synonymous'] + ml['missense'] + ml['LOF']\n",
    "\n",
    "\n",
    "w_syn = ml['synonymous'] / total_weigth\n",
    "w_mis = ml['missense'] / total_weigth\n",
    "w_lof = ml['LOF'] / total_weigth\n",
    "\n",
    "print(f'total weight: {total_weigth}\\n\\n\\nsynonymous={w_syn}\\nmissense={w_mis}\\nlof={w_lof}')"
   ]
  },
  {
   "cell_type": "code",
   "execution_count": null,
   "id": "5f17fe6c",
   "metadata": {},
   "outputs": [],
   "source": [
    "# Construct the selected regions from the exonic intervals\n",
    "sregions = []\n",
    "for _, exon in exons.iterrows():\n",
    "    # missense\n",
    "    sregions.append(\n",
    "        fwdpy11.GammaS(\n",
    "            beg=exon.start, end=exon.end, weight=w_mis,\n",
    "            mean=mean_s, shape_parameter=shape,\n",
    "            h=1,\n",
    "            label=mut_labels['missense'],)\n",
    "    \n",
    "    )\n",
    "    # synonymous\n",
    "    #sregions.append(\n",
    "    #    fwdpy11.ConstantS(beg=exon.start, end=exon.end, weight=w_syn, s=s, label=mut_labels['synonymous'])\n",
    "    #\n",
    "    #)\n",
    "    # loss of function\n",
    "    #sregions.append(\n",
    "    #    fwdpy11.ConstantS(beg=exon.start, end=exon.end, weight=w_lof, s=s, label=mut_labels['LOF'])\n",
    "    #\n",
    "    #)"
   ]
  },
  {
   "cell_type": "code",
   "execution_count": null,
   "id": "8e0209ac",
   "metadata": {},
   "outputs": [],
   "source": [
    "sregions[:5]"
   ]
  },
  {
   "cell_type": "markdown",
   "id": "65bd7d92",
   "metadata": {},
   "source": [
    "## Recombination"
   ]
  },
  {
   "cell_type": "code",
   "execution_count": null,
   "id": "7e10032e",
   "metadata": {},
   "outputs": [],
   "source": [
    "rmap"
   ]
  },
  {
   "cell_type": "code",
   "execution_count": null,
   "id": "b23fd38a",
   "metadata": {},
   "outputs": [],
   "source": [
    "nrec = len(rmap) - 1"
   ]
  },
  {
   "cell_type": "code",
   "execution_count": null,
   "id": "4593b22c",
   "metadata": {},
   "outputs": [],
   "source": [
    "recregions = []\n",
    "for i in range(nrec):\n",
    "    recregions.append(\n",
    "     fwdpy11.PoissonInterval(\n",
    "         beg=rmap.left[i],\n",
    "         end=rmap.right[i],\n",
    "         mean=rmap.rate[i]\n",
    "     )   \n",
    "    )"
   ]
  },
  {
   "cell_type": "code",
   "execution_count": null,
   "id": "dfff8715",
   "metadata": {},
   "outputs": [],
   "source": [
    "recregions[:10]"
   ]
  },
  {
   "cell_type": "markdown",
   "id": "6d7d6a07",
   "metadata": {},
   "source": [
    "## Rates\n",
    "\n",
    "We need to specify the total rates"
   ]
  },
  {
   "cell_type": "code",
   "execution_count": null,
   "id": "ec0e68fd",
   "metadata": {},
   "outputs": [],
   "source": [
    "#  The neutral mutation rate, selected mutation rate, and total recombination rate, respectively.\n",
    "neutral_ml = ml['noncoding']\n",
    "selected_ml = ml['missense'] + ml['synonymous'] + ml['LOF']\n",
    "# missesne\n",
    "selected_ml = ml['missense']\n",
    "\n",
    "# recomb_rate = ??? | I'm not sure how to set this value\n",
    "rates = fwdpy11.MutationAndRecombinationRates(\n",
    "    neutral_mutation_rate=neutral_ml,\n",
    "    selected_mutation_rate=selected_ml,\n",
    "    recombination_rate=None)\n"
   ]
  },
  {
   "cell_type": "markdown",
   "id": "395094dd",
   "metadata": {},
   "source": [
    "## Demography\n",
    "\n",
    "To test the DFE I will use a constant size population model, this will run faster."
   ]
  },
  {
   "cell_type": "code",
   "execution_count": null,
   "id": "8e0c81a8",
   "metadata": {},
   "outputs": [],
   "source": [
    "pop = fwdpy11.DiploidPopulation(N=5000, length=int(1e6))\n",
    "pop.N\n",
    "pop.tables.genome_length\n"
   ]
  },
  {
   "cell_type": "markdown",
   "id": "fbc7fe41",
   "metadata": {},
   "source": [
    "## Setting up the parameters for a simulation\n"
   ]
  },
  {
   "cell_type": "code",
   "execution_count": null,
   "id": "ef28f8f1",
   "metadata": {},
   "outputs": [],
   "source": [
    "# the parameters that fwdpy11 needs to run the simulation\n",
    "p = {\n",
    "    \"nregions\": nregions,  # neutral mutations (none for now, can add after the fact)\n",
    "    \"gvalue\": fwdpy11.Additive(2.0),  # fitness model\n",
    "    \"sregions\": sregions, \n",
    "    \"recregions\": recregions,\n",
    "    \"rates\": rates,\n",
    "    \"prune_selected\": False,\n",
    "    \"demography\": fwdpy11.DiscreteDemography(),  # pass the demographic model\n",
    "    \"simlen\": 1000\n",
    "}"
   ]
  },
  {
   "cell_type": "code",
   "execution_count": null,
   "id": "6af19625",
   "metadata": {},
   "outputs": [],
   "source": [
    "params = fwdpy11.ModelParams(**p)"
   ]
  },
  {
   "cell_type": "code",
   "execution_count": null,
   "id": "50e4cc0c",
   "metadata": {},
   "outputs": [],
   "source": [
    "# run the simulation\n",
    "# set up the random number generator\n",
    "rng = fwdpy11.GSLrng(54321) "
   ]
  },
  {
   "cell_type": "code",
   "execution_count": null,
   "id": "c96a6c7e",
   "metadata": {},
   "outputs": [],
   "source": [
    "# run the simulation\n",
    "print('runnning simulation ...')\n",
    "time1 = time.time()\n",
    "fwdpy11.evolvets(\n",
    "    rng, pop, params, simplification_interval=100, suppress_table_indexing=True\n",
    ")\n",
    "print(\"Simulation took\", int(time.time() - time1), \"seconds\")\n",
    "\n",
    "# simulation finished\n",
    "print(\"Final population sizes =\", pop.deme_sizes())"
   ]
  },
  {
   "cell_type": "code",
   "execution_count": 1,
   "id": "5bab8751",
   "metadata": {},
   "outputs": [],
   "source": [
    "mkdir -p results"
   ]
  },
  {
   "cell_type": "code",
   "execution_count": null,
   "id": "922639f4",
   "metadata": {},
   "outputs": [],
   "source": [
    "# save the simulation results\n",
    "with gzip.open('results/sim-pop.gz', 'wb') as f:\n",
    "    pop.pickle_to_file(f)"
   ]
  }
 ],
 "metadata": {
  "kernelspec": {
   "display_name": "Python 3 (ipykernel)",
   "language": "python",
   "name": "python3"
  },
  "language_info": {
   "codemirror_mode": {
    "name": "ipython",
    "version": 3
   },
   "file_extension": ".py",
   "mimetype": "text/x-python",
   "name": "python",
   "nbconvert_exporter": "python",
   "pygments_lexer": "ipython3",
   "version": "3.9.0"
  }
 },
 "nbformat": 4,
 "nbformat_minor": 5
}
