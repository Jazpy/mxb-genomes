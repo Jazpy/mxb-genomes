{
 "cells": [
  {
   "cell_type": "code",
   "execution_count": 1,
   "id": "142fa485",
   "metadata": {},
   "outputs": [],
   "source": [
    "import fwdpy11\n",
    "import numpy as np\n",
    "import pandas as pd\n",
    "import gzip\n",
    "from collections import Counter"
   ]
  },
  {
   "cell_type": "code",
   "execution_count": 2,
   "id": "ea45c158",
   "metadata": {},
   "outputs": [],
   "source": [
    "pop = fwdpy11.DiploidPopulation.load_from_file('results/simulations/sim-seed-1-pop.bin')"
   ]
  },
  {
   "cell_type": "code",
   "execution_count": 3,
   "id": "76ee9840",
   "metadata": {},
   "outputs": [
    {
     "data": {
      "text/html": [
       "\n",
       "            <div>\n",
       "              <style>\n",
       "                .tskit-table thead tr th {text-align: left;padding: 0.5em 0.5em;}\n",
       "                .tskit-table tbody tr td {padding: 0.5em 0.5em;}\n",
       "                .tskit-table tbody tr td:first-of-type {text-align: left;}\n",
       "                .tskit-details-label {vertical-align: top; padding-right:5px;}\n",
       "                .tskit-table-set {display: inline-flex;flex-wrap: wrap;margin: -12px 0 0 -12px;width: calc(100% + 12px);}\n",
       "                .tskit-table-set-table {margin: 12px 0 0 12px;}\n",
       "                details {display: inline-block;}\n",
       "                summary {cursor: pointer; outline: 0; display: list-item;}\n",
       "              </style>\n",
       "              <div class=\"tskit-table-set\">\n",
       "                <div class=\"tskit-table-set-table\">\n",
       "                  <table class=\"tskit-table\">\n",
       "                    <thead>\n",
       "                      <tr>\n",
       "                        <th style=\"padding:0;line-height:21px;\">\n",
       "                          <img style=\"height: 32px;display: inline-block;padding: 3px 5px 3px 0;\" src=\"https://raw.githubusercontent.com/tskit-dev/administrative/main/tskit_logo.svg\"/>\n",
       "                          <a target=\"_blank\" href=\"https://tskit.dev/tskit/docs/latest/python-api.html#the-treesequence-class\"> Tree Sequence </a>\n",
       "                        </th>\n",
       "                      </tr>\n",
       "                    </thead>\n",
       "                    <tbody>\n",
       "                      <tr><td>Trees</td><td>605</td></tr>\n",
       "                      <tr><td>Sequence Length</td><td>1000000.0</td></tr>\n",
       "                      <tr><td>Time Units</td><td>unknown</td></tr>\n",
       "                      <tr><td>Sample Nodes</td><td>10000</td></tr>\n",
       "                      <tr><td>Total Size</td><td>1.9 MiB</td></tr>\n",
       "                      <tr>\n",
       "                        <td>Metadata</td><td style=\"text-align: left;\">\n",
       "                <div>\n",
       "                  <span class=\"tskit-details-label\"></span>\n",
       "                  <details open>\n",
       "                    <summary>dict</summary>\n",
       "                    generation: 50000<br/>\n",
       "                  </details>\n",
       "                </div>\n",
       "                </td></tr>\n",
       "                    </tbody>\n",
       "                  </table>\n",
       "                </div>\n",
       "                <div class=\"tskit-table-set-table\">\n",
       "                  <table class=\"tskit-table\">\n",
       "                    <thead>\n",
       "                      <tr>\n",
       "                        <th style=\"line-height:21px;\">Table</th>\n",
       "                        <th>Rows</th>\n",
       "                        <th>Size</th>\n",
       "                        <th>Has Metadata</th>\n",
       "                      </tr>\n",
       "                    </thead>\n",
       "                    <tbody>\n",
       "                    \n",
       "                  <tr>\n",
       "                    <td>Edges</td>\n",
       "                      <td>20434</td>\n",
       "                      <td>638.6 KiB</td>\n",
       "                      <td style=\"text-align: center;\">\n",
       "                        \n",
       "                      </td>\n",
       "                    </tr>\n",
       "                \n",
       "                  <tr>\n",
       "                    <td>Individuals</td>\n",
       "                      <td>5000</td>\n",
       "                      <td>596.4 KiB</td>\n",
       "                      <td style=\"text-align: center;\">\n",
       "                        ✅\n",
       "                      </td>\n",
       "                    </tr>\n",
       "                \n",
       "                  <tr>\n",
       "                    <td>Migrations</td>\n",
       "                      <td>0</td>\n",
       "                      <td>8 Bytes</td>\n",
       "                      <td style=\"text-align: center;\">\n",
       "                        \n",
       "                      </td>\n",
       "                    </tr>\n",
       "                \n",
       "                  <tr>\n",
       "                    <td>Mutations</td>\n",
       "                      <td>709</td>\n",
       "                      <td>47.5 KiB</td>\n",
       "                      <td style=\"text-align: center;\">\n",
       "                        ✅\n",
       "                      </td>\n",
       "                    </tr>\n",
       "                \n",
       "                  <tr>\n",
       "                    <td>Nodes</td>\n",
       "                      <td>18782</td>\n",
       "                      <td>513.6 KiB</td>\n",
       "                      <td style=\"text-align: center;\">\n",
       "                        \n",
       "                      </td>\n",
       "                    </tr>\n",
       "                \n",
       "                  <tr>\n",
       "                    <td>Populations</td>\n",
       "                      <td>1</td>\n",
       "                      <td>133 Bytes</td>\n",
       "                      <td style=\"text-align: center;\">\n",
       "                        ✅\n",
       "                      </td>\n",
       "                    </tr>\n",
       "                \n",
       "                  <tr>\n",
       "                    <td>Provenances</td>\n",
       "                      <td>1</td>\n",
       "                      <td>575 Bytes</td>\n",
       "                      <td style=\"text-align: center;\">\n",
       "                        \n",
       "                      </td>\n",
       "                    </tr>\n",
       "                \n",
       "                  <tr>\n",
       "                    <td>Sites</td>\n",
       "                      <td>709</td>\n",
       "                      <td>17.3 KiB</td>\n",
       "                      <td style=\"text-align: center;\">\n",
       "                        \n",
       "                      </td>\n",
       "                    </tr>\n",
       "                \n",
       "                    </tbody>\n",
       "                  </table>\n",
       "                </div>\n",
       "              </div>\n",
       "            </div>\n",
       "            "
      ],
      "text/plain": [
       "<tskit.trees.TreeSequence at 0x7fc447a141f0>"
      ]
     },
     "execution_count": 3,
     "metadata": {},
     "output_type": "execute_result"
    }
   ],
   "source": [
    "ts = pop.dump_tables_to_tskit()\n",
    "ts"
   ]
  },
  {
   "cell_type": "code",
   "execution_count": 4,
   "id": "2204381a",
   "metadata": {},
   "outputs": [
    {
     "data": {
      "text/plain": [
       "Counter({0: 686, 1: 15, 2: 4, 3: 4})"
      ]
     },
     "execution_count": 4,
     "metadata": {},
     "output_type": "execute_result"
    }
   ],
   "source": [
    "mut_clas = []\n",
    "for m in ts.mutations():\n",
    "    mut_clas.append(m.metadata['label'])\n",
    "    \n",
    "Counter(mut_clas)\n"
   ]
  },
  {
   "cell_type": "code",
   "execution_count": 17,
   "id": "d1837bd0",
   "metadata": {},
   "outputs": [
    {
     "data": {
      "text/plain": [
       "Mutation(id=708, site=708, node=14877, derived_state='1', parent=-1, metadata={'h': 1.0, 'key': 419, 'label': 0, 'neutral': True, 'origin': 49994, 's': 0.0}, time=6.0)"
      ]
     },
     "execution_count": 17,
     "metadata": {},
     "output_type": "execute_result"
    }
   ],
   "source": [
    "m"
   ]
  },
  {
   "cell_type": "code",
   "execution_count": 27,
   "id": "7972f80e",
   "metadata": {},
   "outputs": [
    {
     "name": "stdout",
     "output_type": "stream",
     "text": [
      "0.1707705883578485\n",
      "0.08391221548694464\n",
      "4.629691481511648e-07\n",
      "0.031745806348085034\n",
      "0.058623981428570476\n",
      "3.550835686710066e-05\n",
      "0.07720343456897279\n",
      "3.0582206333096505e-09\n",
      "0.2351499694651107\n",
      "3.9779648916179214e-08\n",
      "3.440033661138962e-09\n",
      "1.6456497031764145e-05\n",
      "0.13185312091923135\n",
      "0.0016686845926068275\n",
      "0.0061645140296173375\n"
     ]
    }
   ],
   "source": [
    "# WHAT ARE THE SELECTION COEFFICIENTS FOR THE SELECTED MUTATIONS?\n",
    "for m in ts.mutations():\n",
    "    if not m.metadata['neutral']:\n",
    "        if m.metadata['label'] == 1: # 1 is for missense\n",
    "            print(m.metadata['s'])"
   ]
  },
  {
   "cell_type": "code",
   "execution_count": 5,
   "id": "6c24a695",
   "metadata": {},
   "outputs": [],
   "source": [
    "nodes = np.array(pop.tables.nodes, copy=False)\n",
    "alive_nodes = pop.alive_nodes\n",
    "deme0_nodes = alive_nodes[np.where(nodes[\"deme\"][alive_nodes] == 0)[0]]\n"
   ]
  },
  {
   "cell_type": "code",
   "execution_count": 6,
   "id": "fc1578e8",
   "metadata": {},
   "outputs": [
    {
     "data": {
      "text/plain": [
       "masked_array(data=[--, 44, 7, 2, 0, 0, 0, 0, 0, 0, 0, 0, 0, 0, 0, 0, 0, 0,\n",
       "                   0, 0, 0, 0, 0, 0, 0, 0, 0, 0, 0, 0, 0, 0, 0, 0, 0, 0,\n",
       "                   0, 0, 0, 0, 0, 0, 0, 0, 0, 0, 0, 0, 0, 0, 0, 0, 0, 0,\n",
       "                   0, 0, 0, 0, 0, 0, 0, 0, 0, 0, 0, 0, 0, 0, 0, 0, 0, 0,\n",
       "                   0, 0, 0, 0, 0, 0, 0, 0, 0, 0, 0, 0, 0, 0, 0, 0, 0, 0,\n",
       "                   0, 0, 0, 0, 0, 0, 0, 0, 2, 1, --],\n",
       "             mask=[ True, False, False, False, False, False, False, False,\n",
       "                   False, False, False, False, False, False, False, False,\n",
       "                   False, False, False, False, False, False, False, False,\n",
       "                   False, False, False, False, False, False, False, False,\n",
       "                   False, False, False, False, False, False, False, False,\n",
       "                   False, False, False, False, False, False, False, False,\n",
       "                   False, False, False, False, False, False, False, False,\n",
       "                   False, False, False, False, False, False, False, False,\n",
       "                   False, False, False, False, False, False, False, False,\n",
       "                   False, False, False, False, False, False, False, False,\n",
       "                   False, False, False, False, False, False, False, False,\n",
       "                   False, False, False, False, False, False, False, False,\n",
       "                   False, False, False, False,  True],\n",
       "       fill_value=999999,\n",
       "            dtype=int32)"
      ]
     },
     "execution_count": 6,
     "metadata": {},
     "output_type": "execute_result"
    }
   ],
   "source": [
    "# SFS (neutral + selected mutations)\n",
    "pop.tables.fs([deme0_nodes[:100]], include_neutral=True)"
   ]
  },
  {
   "cell_type": "code",
   "execution_count": 7,
   "id": "80e80270",
   "metadata": {},
   "outputs": [],
   "source": [
    "def get_sfs(pop, n, include_neutral):\n",
    "    nodes = np.array(pop.tables.nodes, copy=False)\n",
    "    alive_nodes = pop.alive_nodes\n",
    "    deme0_nodes = alive_nodes[np.where(nodes[\"deme\"][alive_nodes] == 0)[0]]\n",
    "    # SFS (neutral + selected mutations)\n",
    "    return pop.tables.fs([deme0_nodes[:n]], include_neutral=include_neutral).data"
   ]
  },
  {
   "cell_type": "code",
   "execution_count": 8,
   "id": "28d3bbed",
   "metadata": {},
   "outputs": [],
   "source": [
    "x = get_sfs(pop, 100, True)"
   ]
  },
  {
   "cell_type": "code",
   "execution_count": 9,
   "id": "7ac2bc05",
   "metadata": {},
   "outputs": [],
   "source": [
    "def load_pop(sim_id):\n",
    "    inf = f'results/simulations/sim-seed-{sim_id}-pop.bin'\n",
    "    return fwdpy11.DiploidPopulation.load_from_file(inf)"
   ]
  },
  {
   "cell_type": "code",
   "execution_count": 16,
   "id": "1fb9b8fd",
   "metadata": {},
   "outputs": [],
   "source": [
    "pops = [load_pop(i) for i in range(1, 51)]\n",
    "\n",
    "sfss_neutral = [get_sfs(p, 100, True) for p in pops]\n",
    "sfss_neutral = np.sum(sfss_neutral, axis=0)\n",
    "\n",
    "sfss_nonneutral = [get_sfs(p, 100, False) for p in pops]\n",
    "sfss_nonneutral = np.sum(sfss_nonneutral, axis=0)"
   ]
  },
  {
   "cell_type": "code",
   "execution_count": 17,
   "id": "8ef6b805",
   "metadata": {},
   "outputs": [],
   "source": [
    "derived_freq = range(0, len(sfss_neutral))\n",
    "\n",
    "\n",
    "sfs = pd.DataFrame(\n",
    "{\n",
    "    'Derived_Freq': derived_freq\n",
    "})"
   ]
  },
  {
   "cell_type": "code",
   "execution_count": 18,
   "id": "9c2b19a3",
   "metadata": {},
   "outputs": [],
   "source": [
    "sfs['All_SNPs_freq'] = sfss_neutral\n",
    "sfs['Selected_freq'] = sfss_nonneutral"
   ]
  },
  {
   "cell_type": "code",
   "execution_count": 19,
   "id": "ab988d88",
   "metadata": {},
   "outputs": [],
   "source": [
    "sfs.to_csv('results/SFSs_convoluted.csv', index=False)"
   ]
  },
  {
   "cell_type": "code",
   "execution_count": 20,
   "id": "5ddd45b4",
   "metadata": {},
   "outputs": [
    {
     "data": {
      "text/plain": [
       "array([29173,  1870,   252,    86,    31,    17,     8,    18,     8,\n",
       "           8,     6,     4,     5,     4,     2,     2,     1,     1,\n",
       "           2,     1,     3,     2,     3,     2,     0,     0,     0,\n",
       "           2,     2,     2,     0,     1,     1,     2,     0,     0,\n",
       "           0,     2,     0,     1,     1,     5,     0,     1,     0,\n",
       "           0,     0,     0,     0,     0,     0,     0,     1,     2,\n",
       "           1,     1,     0,     1,     0,     1,     0,     1,     0,\n",
       "           1,     0,     0,     0,     1,     2,     4,     0,     3,\n",
       "           2,     2,     1,     1,     0,     0,     1,     2,     3,\n",
       "           2,     2,     1,     1,     3,     0,     2,     2,     0,\n",
       "           3,     5,     1,     2,     1,     4,     5,     6,     4,\n",
       "          12,    47])"
      ]
     },
     "execution_count": 20,
     "metadata": {},
     "output_type": "execute_result"
    }
   ],
   "source": [
    "sfss_neutral"
   ]
  },
  {
   "cell_type": "code",
   "execution_count": 21,
   "id": "9ac0f616",
   "metadata": {},
   "outputs": [
    {
     "data": {
      "text/plain": [
       "array([659,  62,  17,   5,   5,   3,   2,   4,   3,   2,   3,   0,   2,\n",
       "         1,   1,   0,   1,   0,   1,   0,   1,   1,   1,   1,   0,   0,\n",
       "         0,   2,   0,   1,   0,   0,   1,   1,   0,   0,   0,   1,   0,\n",
       "         0,   1,   3,   0,   0,   0,   0,   0,   0,   0,   0,   0,   0,\n",
       "         0,   1,   1,   1,   0,   0,   0,   0,   0,   1,   0,   1,   0,\n",
       "         0,   0,   1,   2,   2,   0,   2,   1,   2,   0,   0,   0,   0,\n",
       "         1,   0,   1,   0,   0,   1,   1,   1,   0,   1,   0,   0,   1,\n",
       "         2,   0,   0,   1,   1,   1,   6,   1,   7,  26])"
      ]
     },
     "execution_count": 21,
     "metadata": {},
     "output_type": "execute_result"
    }
   ],
   "source": [
    "sfss_nonneutral"
   ]
  },
  {
   "cell_type": "code",
   "execution_count": null,
   "id": "94f28f7b",
   "metadata": {},
   "outputs": [],
   "source": []
  }
 ],
 "metadata": {
  "kernelspec": {
   "display_name": "Python 3 (ipykernel)",
   "language": "python",
   "name": "python3"
  },
  "language_info": {
   "codemirror_mode": {
    "name": "ipython",
    "version": 3
   },
   "file_extension": ".py",
   "mimetype": "text/x-python",
   "name": "python",
   "nbconvert_exporter": "python",
   "pygments_lexer": "ipython3",
   "version": "3.9.0"
  }
 },
 "nbformat": 4,
 "nbformat_minor": 5
}
