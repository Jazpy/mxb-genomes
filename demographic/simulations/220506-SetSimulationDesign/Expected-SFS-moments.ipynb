{
 "cells": [
  {
   "cell_type": "markdown",
   "id": "c25d8098",
   "metadata": {},
   "source": [
    "# Compute expected SFS under selection (given gamma distribution for the DFE)\n",
    "\n",
    "\n",
    "The idea of this analysis is to get the expected SFS under selection.\n",
    "We use moments for this.\n",
    "\n",
    "The example/tutorial code is [here: DFE inference](https://moments.readthedocs.io/en/main/modules/dfe.html)\n",
    "\n",
    "\n",
    "The main idea in this notes is that we want to compute the [expected SFS under selection](https://github.com/santiago1234/TheSciJournal/blob/main/journal-2022/Aaron-Notes/220714-Expected-SFS-under-selection.pdf).\n",
    "\n",
    "Check also [these notes](https://github.com/santiago1234/TheSciJournal/blob/main/journal-2022/Aaron-Notes/220721-DFE-expected-SFS-scaling.pdf) from Aaron."
   ]
  },
  {
   "cell_type": "code",
   "execution_count": 1,
   "id": "9330a34f",
   "metadata": {},
   "outputs": [],
   "source": [
    "import numpy as np\n",
    "import moments\n",
    "import scipy\n",
    "import pandas as pd\n",
    "import sys\n",
    "sys.path.append('../')\n",
    "\n",
    "from simutils.utils import DFE_lof, DFE_missense, simuldata"
   ]
  },
  {
   "cell_type": "code",
   "execution_count": 2,
   "id": "98b7a1a1",
   "metadata": {},
   "outputs": [
    {
     "data": {
      "text/plain": [
       "Region: 22, start: 29000000, end: 30000000"
      ]
     },
     "execution_count": 2,
     "metadata": {},
     "output_type": "execute_result"
    }
   ],
   "source": [
    "## Load data\n",
    "sim_dat = simuldata(path_to_samples='test-data/', sample_id=23, path_to_genetic_maps='test-data/')\n",
    "sim_dat"
   ]
  },
  {
   "cell_type": "markdown",
   "id": "ad575016",
   "metadata": {},
   "source": [
    "## Neutral SFS"
   ]
  },
  {
   "cell_type": "code",
   "execution_count": 3,
   "id": "f2d1451c",
   "metadata": {},
   "outputs": [],
   "source": [
    "# First we obtain the neutral SFS\n",
    "\n",
    "SFSs = dict()\n",
    "\n",
    "# non coding represents: intergenic + intronic regions\n",
    "SFSs['noncoding'] = moments.Demographics1D.snm([100])\n",
    "SFSs['synonymous'] = moments.Demographics1D.snm([100])"
   ]
  },
  {
   "cell_type": "markdown",
   "id": "3d30c377",
   "metadata": {},
   "source": [
    "## Selected SFS"
   ]
  },
  {
   "cell_type": "code",
   "execution_count": 4,
   "id": "e2df60e6",
   "metadata": {},
   "outputs": [],
   "source": [
    "def selection_spectrum(gamma):\n",
    "    fs = moments.LinearSystem_1D.steady_state_1D(100, gamma=gamma)\n",
    "    fs = moments.Spectrum(fs)\n",
    "    return fs"
   ]
  },
  {
   "cell_type": "code",
   "execution_count": 5,
   "id": "beb362f8",
   "metadata": {},
   "outputs": [],
   "source": [
    "spectrum_cache = {}\n",
    "spectrum_cache[0] = selection_spectrum(0)\n",
    "\n",
    "gammas = np.logspace(-4, 3, 61)\n",
    "for gamma in gammas:\n",
    "    spectrum_cache[gamma] = selection_spectrum(-gamma)"
   ]
  },
  {
   "cell_type": "code",
   "execution_count": 6,
   "id": "70e72588",
   "metadata": {},
   "outputs": [],
   "source": [
    "dxs = ((gammas - np.concatenate(([gammas[0]], gammas))[:-1]) / 2\n",
    "    + (np.concatenate((gammas, [gammas[-1]]))[1:] - gammas) / 2)"
   ]
  },
  {
   "cell_type": "code",
   "execution_count": 7,
   "id": "ec48276f",
   "metadata": {},
   "outputs": [],
   "source": [
    "def dfe_func(params, theta=1):\n",
    "    alpha, beta = params\n",
    "    fs = spectrum_cache[0] * scipy.stats.gamma.cdf(gammas[0], alpha, scale=beta)\n",
    "    weights = scipy.stats.gamma.pdf(gammas, alpha, scale=beta)\n",
    "    for gamma, dx, w in zip(gammas, dxs, weights):\n",
    "        fs += spectrum_cache[gamma] * dx * w\n",
    "    fs = theta * fs\n",
    "    return fs"
   ]
  },
  {
   "cell_type": "code",
   "execution_count": 8,
   "id": "3d49536f",
   "metadata": {},
   "outputs": [],
   "source": [
    "SFSs['LOF'] = dfe_func((DFE_lof.shape, DFE_lof.scale))\n",
    "SFSs['missense'] = dfe_func((DFE_missense.shape, DFE_missense.scale))"
   ]
  },
  {
   "cell_type": "code",
   "execution_count": 9,
   "id": "379f887d",
   "metadata": {},
   "outputs": [],
   "source": [
    "def spectrum_to_frame(v_class, SFS_dict):\n",
    "\n",
    "    return pd.DataFrame({\n",
    "        'DerivedFreq': range(101),\n",
    "        'MutType': v_class,\n",
    "        'Frequency': SFS_dict[v_class].data\n",
    "    })"
   ]
  },
  {
   "cell_type": "code",
   "execution_count": 10,
   "id": "f579b15c",
   "metadata": {},
   "outputs": [],
   "source": [
    "SFSs_theta1 = pd.concat([spectrum_to_frame(x, SFSs) for x in SFSs.keys()])"
   ]
  },
  {
   "cell_type": "markdown",
   "id": "70484341",
   "metadata": {},
   "source": [
    "### Scaling the SFS to the data\n",
    "\n",
    "I need to scale the SFS check [these notes](https://github.com/santiago1234/TheSciJournal/blob/main/journal-2022/week29/aaron-meeting-w29.pdf) from Aaron.\n",
    "\n",
    "To scale the spectrum to the simulation we use this function:\n",
    "\n",
    "$$\n",
    "    SFS = \\sum_{r \\in \\text{replicate}} \\text{sfs}(r) \\\\\n",
    "    \\approx E[SFS|\\theta = 1] \\times 4 \\times N_e \\times mL \\times N_{sim}\n",
    "$$"
   ]
  },
  {
   "cell_type": "code",
   "execution_count": 11,
   "id": "9aa18f3e",
   "metadata": {},
   "outputs": [],
   "source": [
    "N_sim = 100\n",
    "Ne = 5000\n",
    "\n",
    "mLs = {\n",
    "    'noncoding': sim_dat.ml_noncoding,\n",
    "    'synonymous': sim_dat.ml_synonymous,\n",
    "    'LOF': sim_dat.ml_LOF,\n",
    "    'missense': sim_dat.ml_missense,\n",
    "}\n",
    "\n",
    "\n",
    "def scale_sfs(v_class):\n",
    "    theta = 4 * Ne * mLs[v_class] * N_sim\n",
    "    return SFSs[v_class] * theta\n",
    "\n",
    "SFSs_scaled_to_data = {x: scale_sfs(x) for x in SFSs.keys()}\n",
    "SFSs_scaled_to_data = pd.concat([spectrum_to_frame(x, SFSs_scaled_to_data) for x in SFSs_scaled_to_data.keys()])"
   ]
  },
  {
   "cell_type": "code",
   "execution_count": 12,
   "id": "b7c67ec0",
   "metadata": {},
   "outputs": [],
   "source": [
    "# SAVE RESULTS\n",
    "SFSs_theta1.to_csv('results/expected-sfs/SFS.csv', index=False)\n",
    "SFSs_scaled_to_data.to_csv('results/expected-sfs/SFS_scaled_to_data.csv', index=False)"
   ]
  },
  {
   "cell_type": "code",
   "execution_count": null,
   "id": "cd451faa",
   "metadata": {},
   "outputs": [],
   "source": []
  }
 ],
 "metadata": {
  "kernelspec": {
   "display_name": "Python 3 (ipykernel)",
   "language": "python",
   "name": "python3"
  },
  "language_info": {
   "codemirror_mode": {
    "name": "ipython",
    "version": 3
   },
   "file_extension": ".py",
   "mimetype": "text/x-python",
   "name": "python",
   "nbconvert_exporter": "python",
   "pygments_lexer": "ipython3",
   "version": "3.9.0"
  }
 },
 "nbformat": 4,
 "nbformat_minor": 5
}
