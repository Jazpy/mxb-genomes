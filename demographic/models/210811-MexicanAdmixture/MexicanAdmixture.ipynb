{
 "cells": [
  {
   "cell_type": "markdown",
   "id": "3abb9b54",
   "metadata": {},
   "source": [
    "# Visualizing inferred models in Tracts with demes\n",
    "\n",
    "## Motivation"
   ]
  },
  {
   "cell_type": "code",
   "execution_count": 86,
   "id": "553e65d9",
   "metadata": {},
   "outputs": [],
   "source": [
    "import demes\n",
    "import demesdraw\n",
    "import matplotlib.pyplot as plt\n",
    "import numpy as np\n",
    "\n",
    "from IPython.display import Markdown as md\n",
    "def print_model(file_path):\n",
    "    with open(file_path) as f:\n",
    "        lines = f.read()\n",
    "    return md(\"```yaml\\n\" + lines + \"```\")"
   ]
  },
  {
   "cell_type": "markdown",
   "id": "89a336fc",
   "metadata": {},
   "source": [
    "## Three populations model\n",
    "\n",
    "With the Tracts model [ccx_xxp](../../../analysis-doc/210619-TRACTS-ccx_xxp/) we inferred the following parameters:\n",
    "\n",
    "- "
   ]
  },
  {
   "cell_type": "code",
   "execution_count": 81,
   "id": "fbc069cc",
   "metadata": {
    "scrolled": true
   },
   "outputs": [
    {
     "name": "stdout",
     "output_type": "stream",
     "text": [
      "[[0.    0.    0.   ]\n",
      " [0.    0.    0.   ]\n",
      " [0.053 0.055 0.   ]\n",
      " [0.053 0.055 0.   ]\n",
      " [0.053 0.055 0.   ]\n",
      " [0.053 0.055 0.   ]\n",
      " [0.053 0.055 0.   ]\n",
      " [0.053 0.055 0.   ]\n",
      " [0.053 0.055 0.   ]\n",
      " [0.053 0.055 0.   ]\n",
      " [0.053 0.055 0.   ]\n",
      " [0.053 0.055 0.03 ]\n",
      " [0.053 0.055 0.063]\n",
      " [0.053 0.055 0.   ]\n",
      " [0.053 0.055 0.   ]\n",
      " [0.053 0.055 0.   ]\n",
      " [0.491 0.509 0.   ]]\n"
     ]
    }
   ],
   "source": [
    "mig_mat = np.loadtxt(\"../../../analysis-doc/210619-TRACTS-ccx_xxp/results/boot0_-295.79_mig\")\n",
    "print(mig_mat.round(3))"
   ]
  },
  {
   "cell_type": "markdown",
   "id": "8bdd058b",
   "metadata": {},
   "source": [
    "## Specifying the model with Demes"
   ]
  },
  {
   "cell_type": "code",
   "execution_count": 92,
   "id": "adc4f948",
   "metadata": {},
   "outputs": [
    {
     "data": {
      "text/markdown": [
       "```yaml\n",
       "# this is a comment\n",
       "description:\n",
       "    Model for admixture in Mexico, this model was estimated with\n",
       "    tracts using a ccx_xxp model.\n",
       "time_units: generations\n",
       "generation_time: 29\n",
       "demes:\n",
       "- name: YRI\n",
       "  description: Yoruba in Ibadan, Nigeria\n",
       "  epochs:\n",
       "  - start_size: 50000\n",
       "    end_time: 0\n",
       "- name: IBS\n",
       "  description: Iberian populations in Spain (IBS).\n",
       "  epochs:\n",
       "  - start_size: 50000\n",
       "    end_time: 0\n",
       "- name: MXB\n",
       "  description: Native American population in Mexico.\n",
       "  epochs:\n",
       "  - start_size: 20000\n",
       "    end_time: 0\n",
       "- name: MXL\n",
       "  description: Admixed population in Mexico\n",
       "  ancestors: [IBS, MXB]\n",
       "  proportions: [0.4908, 0.5092]  # Obtained from Tracts\n",
       "  start_time: 15\n",
       "  epochs:\n",
       "  - end_time: 0\n",
       "    start_size: 20000\n",
       "    end_size: 50000\n",
       "migrations:\n",
       "  - source: IBS\n",
       "    dest: MXL\n",
       "    rate: 0.053\n",
       "  - source: MXB\n",
       "    dest: MXL\n",
       "    rate: 0.055\n",
       "pulses:\n",
       "  - source: YRI\n",
       "    dest: MXL\n",
       "    proportion: 0.063\n",
       "    time: 11\n",
       "  - source: YRI\n",
       "    dest: MXL\n",
       "    proportion: 0.0298\n",
       "    time: 10\n",
       "\n",
       "\n",
       "```"
      ],
      "text/plain": [
       "<IPython.core.display.Markdown object>"
      ]
     },
     "execution_count": 92,
     "metadata": {},
     "output_type": "execute_result"
    }
   ],
   "source": [
    "mdl_yml = \"./mx-admx-3pops.yaml\"\n",
    "mx_admx = demes.load(mdl_yml)\n",
    "print_model(mdl_yml)"
   ]
  },
  {
   "cell_type": "code",
   "execution_count": 93,
   "id": "40213b54",
   "metadata": {},
   "outputs": [
    {
     "data": {
      "image/png": "[encoded data removed]",
      "text/plain": [
       "<Figure size 512x288 with 1 Axes>"
      ]
     },
     "metadata": {
      "needs_background": "light"
     },
     "output_type": "display_data"
    }
   ],
   "source": [
    "colors = {\n",
    "    'MXB': '#f0f921ff',\n",
    "    'IBS': '#cc4678ff',\n",
    "    'YRI': '#0d0887ff',\n",
    "\n",
    "}\n",
    "demesdraw.tubes(mx_admx, colours=colors,title=\"Mexican Admixture\")\n",
    "plt.savefig(\"adm.pdf\")\n",
    "plt.show();"
   ]
  },
  {
   "cell_type": "code",
   "execution_count": null,
   "id": "54b934a9",
   "metadata": {},
   "outputs": [],
   "source": []
  },
  {
   "cell_type": "code",
   "execution_count": null,
   "id": "be52899b",
   "metadata": {},
   "outputs": [],
   "source": []
  },
  {
   "cell_type": "code",
   "execution_count": null,
   "id": "19256535",
   "metadata": {},
   "outputs": [],
   "source": []
  }
 ],
 "metadata": {
  "kernelspec": {
   "display_name": "Python 3 (ipykernel)",
   "language": "python",
   "name": "python3"
  },
  "language_info": {
   "codemirror_mode": {
    "name": "ipython",
    "version": 3
   },
   "file_extension": ".py",
   "mimetype": "text/x-python",
   "name": "python",
   "nbconvert_exporter": "python",
   "pygments_lexer": "ipython3",
   "version": "3.9.6"
  }
 },
 "nbformat": 4,
 "nbformat_minor": 5
}
