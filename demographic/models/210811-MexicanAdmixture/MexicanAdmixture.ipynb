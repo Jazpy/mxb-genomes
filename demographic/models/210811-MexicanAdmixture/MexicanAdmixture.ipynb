{
 "cells": [
  {
   "cell_type": "markdown",
   "id": "9964d68b",
   "metadata": {},
   "source": [
    "# Visualizing inferred models in Tracts with Demes\n",
    "\n",
    "## Motivation"
   ]
  },
  {
   "cell_type": "code",
   "execution_count": 1,
   "id": "de60948b",
   "metadata": {},
   "outputs": [],
   "source": [
    "import demes\n",
    "import demesdraw\n",
    "import matplotlib.pyplot as plt\n",
    "import numpy as np\n",
    "\n",
    "from IPython.display import Markdown as md\n",
    "def print_model(file_path):\n",
    "    with open(file_path) as f:\n",
    "        lines = f.read()\n",
    "    return md(\"```yaml\\n\" + lines + \"```\")"
   ]
  },
  {
   "cell_type": "markdown",
   "id": "b4ba5e92",
   "metadata": {},
   "source": [
    "## Three populations model\n",
    "\n",
    "We used the Tracts model [ccx_xxp](../../../analysis-doc/210619-TRACTS-ccx_xxp/) to infer the following parameters, from the tracts length distribution.\n",
    "\n",
    "- _**frac1**_: rate of EUR arriving to the MXL per generation?.\n",
    "- _**frac2**_: rate of EUR arriving to the MXL per generation?.\n",
    "- **_t1_**: Time (generations ago) of initial admixture event (IBS and MXB).\n",
    "- **_frac3_**: rate of AFR arriving to the MXL at the Afr pulse.\n",
    "- **_t2_**: Time of Afr pulse.\n",
    "\n",
    "The estimated paramaters are shown next in the same order as the list above:"
   ]
  },
  {
   "cell_type": "code",
   "execution_count": 2,
   "id": "3ec878e4",
   "metadata": {},
   "outputs": [
    {
     "name": "stdout",
     "output_type": "stream",
     "text": [
      "0.05335903311241576\t0.05534173741472544\t0.15363486148356473\t0.09130043386199158\t0.11673092528754962\r\n"
     ]
    }
   ],
   "source": [
    "# estimated model parameters\n",
    "!cat ../../../analysis-doc/210619-TRACTS-ccx_xxp/results/boot0_-295.79_pars"
   ]
  },
  {
   "cell_type": "code",
   "execution_count": 3,
   "id": "7234909d",
   "metadata": {
    "scrolled": false
   },
   "outputs": [
    {
     "name": "stdout",
     "output_type": "stream",
     "text": [
      "[[0.    0.    0.   ]\n",
      " [0.    0.    0.   ]\n",
      " [0.053 0.055 0.   ]\n",
      " [0.053 0.055 0.   ]\n",
      " [0.053 0.055 0.   ]\n",
      " [0.053 0.055 0.   ]\n",
      " [0.053 0.055 0.   ]\n",
      " [0.053 0.055 0.   ]\n",
      " [0.053 0.055 0.   ]\n",
      " [0.053 0.055 0.   ]\n",
      " [0.053 0.055 0.   ]\n",
      " [0.053 0.055 0.03 ]\n",
      " [0.053 0.055 0.063]\n",
      " [0.053 0.055 0.   ]\n",
      " [0.053 0.055 0.   ]\n",
      " [0.053 0.055 0.   ]\n",
      " [0.491 0.509 0.   ]]\n"
     ]
    }
   ],
   "source": [
    "# these parameters are encoded in the following migration matrix\n",
    "mig_mat = np.loadtxt(\"../../../analysis-doc/210619-TRACTS-ccx_xxp/results/boot0_-295.79_mig\")\n",
    "print(mig_mat.round(3))"
   ]
  },
  {
   "cell_type": "markdown",
   "id": "a59b77b6",
   "metadata": {},
   "source": [
    "## Specifying the model with Demes\n",
    "\n",
    "Next, I encoded these parameters in the demes model specification."
   ]
  },
  {
   "cell_type": "code",
   "execution_count": 4,
   "id": "1f13d348",
   "metadata": {},
   "outputs": [
    {
     "data": {
      "text/markdown": [
       "```yaml\n",
       "# this is a comment\n",
       "description:\n",
       "    Model for admixture in Mexico, this model was estimated with\n",
       "    tracts using a ccx_xxp model.\n",
       "time_units: generations\n",
       "generation_time: 29\n",
       "demes:\n",
       "- name: YRI\n",
       "  description: Yoruba in Ibadan, Nigeria\n",
       "  epochs:\n",
       "  - start_size: 50000\n",
       "    end_time: 0\n",
       "- name: IBS\n",
       "  description: Iberian populations in Spain (IBS).\n",
       "  epochs:\n",
       "  - start_size: 50000\n",
       "    end_time: 0\n",
       "- name: MXB\n",
       "  description: Native American population in Mexico.\n",
       "  epochs:\n",
       "  - start_size: 20000\n",
       "    end_time: 0\n",
       "- name: MXL\n",
       "  description: Admixed population in Mexico\n",
       "  ancestors: [IBS, MXB]\n",
       "  proportions: [0.4908, 0.5092]  # Obtained from Tracts\n",
       "  start_time: 15\n",
       "  epochs:\n",
       "  - end_time: 0\n",
       "    start_size: 20000\n",
       "    end_size: 50000\n",
       "migrations:\n",
       "  - source: IBS\n",
       "    dest: MXL\n",
       "    rate: 0.053\n",
       "  - source: MXB\n",
       "    dest: MXL\n",
       "    rate: 0.055\n",
       "pulses:\n",
       "  - source: YRI\n",
       "    dest: MXL\n",
       "    proportion: 0.063\n",
       "    time: 11\n",
       "  - source: YRI\n",
       "    dest: MXL\n",
       "    proportion: 0.0298\n",
       "    time: 10\n",
       "\n",
       "\n",
       "```"
      ],
      "text/plain": [
       "<IPython.core.display.Markdown object>"
      ]
     },
     "execution_count": 4,
     "metadata": {},
     "output_type": "execute_result"
    }
   ],
   "source": [
    "mdl_yml = \"./mx-admx-3pops.yaml\"\n",
    "mx_admx = demes.load(mdl_yml)\n",
    "print_model(mdl_yml)"
   ]
  },
  {
   "cell_type": "code",
   "execution_count": 5,
   "id": "c8624c72",
   "metadata": {},
   "outputs": [
    {
     "data": {
      "image/png": "[encoded data removed]",
      "text/plain": [
       "<Figure size 512x288 with 1 Axes>"
      ]
     },
     "metadata": {
      "needs_background": "light"
     },
     "output_type": "display_data"
    }
   ],
   "source": [
    "colors = {\n",
    "    'MXB': '#f0f921ff',\n",
    "    'IBS': '#cc4678ff',\n",
    "    'YRI': '#0d0887ff',\n",
    "\n",
    "}\n",
    "demesdraw.tubes(mx_admx, colours=colors,title=\"Mexican Admixture\")\n",
    "plt.savefig(\"adm.pdf\")\n",
    "plt.show();"
   ]
  },
  {
   "cell_type": "markdown",
   "id": "3be313ee",
   "metadata": {},
   "source": [
    "***\n",
    "\n",
    "## Four populations model\n",
    "\n",
    "We used the Tracts model [ccx_xxp](../../../analysis-doc/210619-TRACTS-ccx_xxp/) to infer the following parameters, from the tracts length distribution.\n",
    "\n",
    "- _**frac1**_: rate of EUR arriving to the MXL per generation?.\n",
    "- _**frac2**_: rate of EUR arriving to the MXL per generation?.\n",
    "- **_t1_**: Time (generations ago) of initial admixture event (IBS and MXB).\n",
    "- **_frac3_**: rate of AFR arriving to the MXL at the Afr pulse.\n",
    "- **_t2_**: Time of Afr pulse.\n",
    "\n",
    "The estimated paramaters are shown next in the same order as the list above:"
   ]
  },
  {
   "cell_type": "code",
   "execution_count": 6,
   "id": "c191e181",
   "metadata": {},
   "outputs": [
    {
     "name": "stdout",
     "output_type": "stream",
     "text": [
      "[[0.    0.    0.    0.   ]\n",
      " [0.    0.    0.    0.   ]\n",
      " [0.058 0.046 0.    0.   ]\n",
      " [0.058 0.046 0.    0.   ]\n",
      " [0.058 0.046 0.    0.   ]\n",
      " [0.058 0.046 0.    0.   ]\n",
      " [0.058 0.046 0.    0.   ]\n",
      " [0.058 0.046 0.    0.   ]\n",
      " [0.058 0.046 0.    0.   ]\n",
      " [0.058 0.046 0.    0.   ]\n",
      " [0.058 0.046 0.    0.   ]\n",
      " [0.058 0.046 0.046 0.003]\n",
      " [0.058 0.046 0.042 0.002]\n",
      " [0.058 0.046 0.    0.   ]\n",
      " [0.058 0.046 0.    0.   ]\n",
      " [0.058 0.046 0.    0.   ]\n",
      " [0.201 0.799 0.    0.   ]]\n"
     ]
    }
   ],
   "source": [
    "# these parameters are encoded in the following migration matrix\n",
    "mig_mat = np.loadtxt(\"../../../analysis-doc/210624-TRACTS-4-populations/results/ppxx_ccxx_xxpp/boot0_-342.81_mig\")\n",
    "print(mig_mat.round(3))"
   ]
  },
  {
   "cell_type": "code",
   "execution_count": 7,
   "id": "ae7fc45b",
   "metadata": {},
   "outputs": [
    {
     "name": "stderr",
     "output_type": "stream",
     "text": [
      "/Users/santiagomedina/opt/miniconda3/envs/demography/lib/python3.9/site-packages/demes/demes.py:1611: UserWarning: Multiple pulses are defined for the same deme(s) at time 11. The ancestry proportions after this time will thus depend on the order in which the pulses have been specified. To avoid unexpected behaviour, the graph can instead be structured to introduce a new deme at this time with the desired ancestry proportions.\n",
      "  warnings.warn(\n",
      "/Users/santiagomedina/opt/miniconda3/envs/demography/lib/python3.9/site-packages/demes/demes.py:1611: UserWarning: Multiple pulses are defined for the same deme(s) at time 10. The ancestry proportions after this time will thus depend on the order in which the pulses have been specified. To avoid unexpected behaviour, the graph can instead be structured to introduce a new deme at this time with the desired ancestry proportions.\n",
      "  warnings.warn(\n"
     ]
    },
    {
     "data": {
      "text/markdown": [
       "```yaml\n",
       "# this is a comment\n",
       "description:\n",
       "    Model for admixture in Mexico, this model was estimated with\n",
       "    tracts using a ccx_xxp model.\n",
       "time_units: generations\n",
       "generation_time: 29\n",
       "demes:\n",
       "- name: YRI\n",
       "  description: Yoruba in Ibadan, Nigeria\n",
       "  epochs:\n",
       "  - start_size: 50000\n",
       "    end_time: 0\n",
       "- name: IBS\n",
       "  description: Iberian populations in Spain (IBS).\n",
       "  epochs:\n",
       "  - start_size: 50000\n",
       "    end_time: 0\n",
       "- name: CHB\n",
       "  description: Han Chinese in Beijing, China\n",
       "  epochs:\n",
       "  - start_size: 50000\n",
       "    end_time: 0\n",
       "- name: MXB\n",
       "  description: Native American population in Mexico.\n",
       "  epochs:\n",
       "  - start_size: 20000\n",
       "    end_time: 0\n",
       "- name: MXL\n",
       "  description: Admixed population in Mexico\n",
       "  ancestors: [IBS, MXB]\n",
       "  proportions: [0.201, 0.799]  # Obtained from Tracts\n",
       "  start_time: 16\n",
       "  epochs:\n",
       "  - end_time: 0\n",
       "    start_size: 20000\n",
       "    end_size: 50000\n",
       "migrations:\n",
       "  - source: IBS\n",
       "    dest: MXL\n",
       "    rate: 0.058\n",
       "  - source: MXB\n",
       "    dest: MXL\n",
       "    rate: 0.046\n",
       "pulses:\n",
       "  - source: YRI\n",
       "    dest: MXL\n",
       "    proportion: 0.042\n",
       "    time: 11\n",
       "  - source: YRI\n",
       "    dest: MXL\n",
       "    proportion: 0.046\n",
       "    time: 10\n",
       "  - source: CHB\n",
       "    dest: MXL\n",
       "    proportion: 0.002\n",
       "    time: 11\n",
       "  - source: CHB\n",
       "    dest: MXL\n",
       "    proportion: 0.003\n",
       "    time: 10\n",
       "\n",
       "```"
      ],
      "text/plain": [
       "<IPython.core.display.Markdown object>"
      ]
     },
     "execution_count": 7,
     "metadata": {},
     "output_type": "execute_result"
    }
   ],
   "source": [
    "mdl_yml = \"./mx-admx-4pops.yaml\"\n",
    "mx_admx = demes.load(mdl_yml)\n",
    "print_model(mdl_yml)"
   ]
  },
  {
   "cell_type": "code",
   "execution_count": 8,
   "id": "d08c3d5c",
   "metadata": {},
   "outputs": [
    {
     "data": {
      "image/png": "[encoded data removed]",
      "text/plain": [
       "<Figure size 512x288 with 1 Axes>"
      ]
     },
     "metadata": {
      "needs_background": "light"
     },
     "output_type": "display_data"
    }
   ],
   "source": [
    "colors = {\n",
    "    'MXB': '#f0f921ff',\n",
    "    'IBS': '#9c179eff',\n",
    "    'YRI': '#0d0887ff',\n",
    "    'CHB': '#ed7953e6'\n",
    "\n",
    "}\n",
    "demesdraw.tubes(mx_admx, colours=colors,title=\"Mexican Admixture\")\n",
    "plt.savefig(\"adm.pdf\")\n",
    "plt.show();"
   ]
  },
  {
   "cell_type": "code",
   "execution_count": null,
   "id": "a0f86724",
   "metadata": {},
   "outputs": [],
   "source": []
  }
 ],
 "metadata": {
  "kernelspec": {
   "display_name": "Python 3 (ipykernel)",
   "language": "python",
   "name": "python3"
  },
  "language_info": {
   "codemirror_mode": {
    "name": "ipython",
    "version": 3
   },
   "file_extension": ".py",
   "mimetype": "text/x-python",
   "name": "python",
   "nbconvert_exporter": "python",
   "pygments_lexer": "ipython3",
   "version": "3.9.6"
  }
 },
 "nbformat": 4,
 "nbformat_minor": 5
}
