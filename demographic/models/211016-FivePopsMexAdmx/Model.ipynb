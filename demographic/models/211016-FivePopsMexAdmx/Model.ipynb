{
 "cells": [
  {
   "cell_type": "markdown",
   "id": "6fc5eca8",
   "metadata": {},
   "source": [
    "## Overview\n",
    "\n",
    "Take the 4 popuation model that was inferred previously and add the fith population for Mexican Admixture."
   ]
  },
  {
   "cell_type": "code",
   "execution_count": 1,
   "id": "e0a7b83b",
   "metadata": {},
   "outputs": [],
   "source": [
    "import moments\n",
    "import demes\n",
    "import demesdraw\n",
    "import matplotlib.pyplot as plt\n",
    "import pickle\n",
    "import gzip\n",
    "from IPython.display import Markdown as md\n",
    "import warnings\n",
    "\n",
    "# Function for printing syntax-highlighted YAML demes models\n",
    "# If there is a better way to do this, tell me!!\n",
    "def print_model(file_path):\n",
    "    with open(file_path) as f:\n",
    "        lines = f.read()\n",
    "    return md(\"```yaml\\n\" + lines + \"```\")\n",
    "warnings.filterwarnings('ignore')"
   ]
  },
  {
   "cell_type": "markdown",
   "id": "319cd8a1",
   "metadata": {},
   "source": [
    "## Inferred 4 populations model"
   ]
  },
  {
   "cell_type": "code",
   "execution_count": 2,
   "id": "0bc28828",
   "metadata": {},
   "outputs": [
    {
     "data": {
      "image/png": "[encoded data removed]",
      "text/plain": [
       "<Figure size 512x288 with 1 Axes>"
      ]
     },
     "metadata": {
      "needs_background": "light"
     },
     "output_type": "display_data"
    }
   ],
   "source": [
    "## 4 pops model\n",
    "\n",
    "# this file contains the parametrization of the model\n",
    "ooa4_yml = \"../210930-PeoplingAmerica/results/ooa-4pops-fitted.yml\"\n",
    "ooa4 = demes.load(ooa4_yml)\n",
    "demesdraw.tubes(ooa4, log_time=True)\n",
    "plt.show();"
   ]
  },
  {
   "cell_type": "code",
   "execution_count": 3,
   "id": "f829b1e0",
   "metadata": {},
   "outputs": [
    {
     "data": {
      "text/markdown": [
       "```yaml\n",
       "description: The Gutenkunst et al. (2009) three-population model of human history,\n",
       "  modified by replacing CEU with IBS.\n",
       "time_units: years\n",
       "generation_time: 29\n",
       "doi: ['https://doi.org/10.1371/journal.pgen.1000695']\n",
       "demes:\n",
       "- name: ancestral\n",
       "  description: Equilibrium/root population\n",
       "  epochs:\n",
       "  - {end_time: 300983.61910865706, start_size: 9593.315822139859}\n",
       "- name: AMH\n",
       "  description: Anatomically modern humans\n",
       "  ancestors: [ancestral]\n",
       "  epochs:\n",
       "  - {end_time: 86978.93529450893, start_size: 23512.69146204261}\n",
       "- name: OOA\n",
       "  description: Bottleneck out-of-Africa population\n",
       "  ancestors: [AMH]\n",
       "  epochs:\n",
       "  - {end_time: 44748.23862033427, start_size: 2056.5730700064346}\n",
       "- name: YRI\n",
       "  description: Yoruba in Ibadan, Nigeria\n",
       "  ancestors: [AMH]\n",
       "  epochs:\n",
       "  - {end_time: 0, start_size: 23512.69146204261}\n",
       "- name: IBS\n",
       "  description: Iberian populations in Spain (IBS).\n",
       "  ancestors: [OOA]\n",
       "  epochs:\n",
       "  - {end_time: 0, start_size: 2130.4390581666967, end_size: 32956.374504334126}\n",
       "- name: CHB\n",
       "  description: Han Chinese in Beijing, China\n",
       "  ancestors: [OOA]\n",
       "  epochs:\n",
       "  - {end_time: 0, start_size: 1338.9282421410517, end_size: 13677.905103953248}\n",
       "- name: MXB\n",
       "  description: Native American,  Mexico.\n",
       "  start_time: 32384.645992816106\n",
       "  ancestors: [CHB]\n",
       "  epochs:\n",
       "  - {end_time: 0, start_size: 5518.502179103086}\n",
       "migrations:\n",
       "- demes: [YRI, IBS]\n",
       "  rate: 3.256463068676266e-05\n",
       "- demes: [YRI, CHB]\n",
       "  rate: 1.6414195981495537e-05\n",
       "- demes: [IBS, CHB]\n",
       "  rate: 7.69081279717762e-05\n",
       "- {source: YRI, dest: OOA, rate: 9.885227357176779e-05}\n",
       "- {source: OOA, dest: YRI, end_time: 44748.23862033427, rate: 9.885227357176779e-05}\n",
       "```"
      ],
      "text/plain": [
       "<IPython.core.display.Markdown object>"
      ]
     },
     "execution_count": 3,
     "metadata": {},
     "output_type": "execute_result"
    }
   ],
   "source": [
    "print_model(ooa4_yml)"
   ]
  },
  {
   "cell_type": "markdown",
   "id": "ed1258ab",
   "metadata": {},
   "source": [
    "## Five populations model"
   ]
  },
  {
   "cell_type": "code",
   "execution_count": 4,
   "id": "731ea2ba",
   "metadata": {},
   "outputs": [
    {
     "data": {
      "text/markdown": [
       "```yaml\n",
       "description: The Gutenkunst et al. (2009) three-population model of human history,\n",
       "  modified by replacing CEU with IBS.\n",
       "time_units: years\n",
       "generation_time: 29\n",
       "doi: ['https://doi.org/10.1371/journal.pgen.1000695']\n",
       "demes:\n",
       "- name: ancestral\n",
       "  description: Equilibrium/root population\n",
       "  epochs:\n",
       "  - {end_time: 300983.61910865706, start_size: 9593.315822139859}\n",
       "- name: AMH\n",
       "  description: Anatomically modern humans\n",
       "  ancestors: [ancestral]\n",
       "  epochs:\n",
       "  - {end_time: 86978.93529450893, start_size: 23512.69146204261}\n",
       "- name: OOA\n",
       "  description: Bottleneck out-of-Africa population\n",
       "  ancestors: [AMH]\n",
       "  epochs:\n",
       "  - {end_time: 44748.23862033427, start_size: 2056.5730700064346}\n",
       "- name: YRI\n",
       "  description: Yoruba in Ibadan, Nigeria\n",
       "  ancestors: [AMH]\n",
       "  epochs:\n",
       "  - {end_time: 0, start_size: 23512.69146204261}\n",
       "- name: IBS\n",
       "  description: Iberian populations in Spain (IBS).\n",
       "  ancestors: [OOA]\n",
       "  epochs:\n",
       "  - {end_time: 0, start_size: 2130.4390581666967, end_size: 32956.374504334126}\n",
       "- name: CHB\n",
       "  description: Han Chinese in Beijing, China\n",
       "  ancestors: [OOA]\n",
       "  epochs:\n",
       "  - {end_time: 0, start_size: 1338.9282421410517, end_size: 13677.905103953248}\n",
       "- name: MXB\n",
       "  description: Native American,  Mexico.\n",
       "  start_time: 32384.645992816106\n",
       "  ancestors: [CHB]\n",
       "  epochs:\n",
       "  - {end_time: 0, start_size: 5518.502179103086}\n",
       "- name: MXL\n",
       "  description: Admixed population in Mexico\n",
       "  ancestors: [IBS, MXB]\n",
       "  proportions: [0.4908, 0.5092]  # Obtained from Tracts\n",
       "  start_time: 435\n",
       "  epochs:\n",
       "  - {end_time: 0, start_size: 20000}\n",
       "migrations: \n",
       "- demes: [YRI, IBS]\n",
       "  rate: 3.256463068676266e-05\n",
       "- demes: [YRI, CHB]\n",
       "  rate: 1.6414195981495537e-05\n",
       "- demes: [IBS, CHB]\n",
       "  rate: 7.69081279717762e-05\n",
       "- {source: YRI, dest: OOA, rate: 9.885227357176779e-05}\n",
       "- {source: OOA, dest: YRI, end_time: 44748.23862033427, rate: 9.885227357176779e-05}\n",
       "- {source: IBS, dest: MXL, rate: 0.053}\n",
       "- {source: MXB, dest: MXL, rate: 0.055}\n",
       "pulses:\n",
       "- source: YRI\n",
       "  dest: MXL\n",
       "  proportion: 0.0913\n",
       "  time: 319\n",
       "```"
      ],
      "text/plain": [
       "<IPython.core.display.Markdown object>"
      ]
     },
     "execution_count": 4,
     "metadata": {},
     "output_type": "execute_result"
    }
   ],
   "source": [
    "print_model('./ooa-5pops-mxadmix.yml')"
   ]
  },
  {
   "cell_type": "code",
   "execution_count": 11,
   "id": "bc73ee6f",
   "metadata": {},
   "outputs": [
    {
     "data": {
      "image/png": "[encoded data removed]",
      "text/plain": [
       "<Figure size 512x288 with 1 Axes>"
      ]
     },
     "metadata": {
      "needs_background": "light"
     },
     "output_type": "display_data"
    }
   ],
   "source": [
    "## 4 pops model\n",
    "\n",
    "# this file contains the parametrization of the model\n",
    "ooa5_yml = \"ooa-5pops-mxadmix.yml\"\n",
    "\n",
    "positions = {\n",
    "    'ancestral': 30000,\n",
    "    'AMH': 30000,\n",
    "    'YRI': 0,\n",
    "    'OOA': 63000,\n",
    "    'IBS': 45000,\n",
    "    'CHB': 80000,\n",
    "    'MXB': 100000,\n",
    "    'MXL': 120000\n",
    "    \n",
    "}\n",
    "\n",
    "colors = {\n",
    "    'ancestral': '#66c2a5',\n",
    "    'AMH': '#fc8d62',\n",
    "    'YRI': '#8da0cb',\n",
    "    'OOA': '#e78ac3',\n",
    "    'IBS': '#a6d854',\n",
    "    'CHB': '#ffd92f',\n",
    "    'MXB': '#e5c494',\n",
    "    'MXL': '#b3b3b3'\n",
    "}\n",
    "\n",
    "ooa5 = demes.load(ooa5_yml)\n",
    "demesdraw.tubes(\n",
    "    ooa5,\n",
    "    log_time=True,\n",
    "    num_lines_per_migration=1,\n",
    "    optimisation_rounds=20,\n",
    "    colours=colors,\n",
    "    positions=positions)\n",
    "\n",
    "plt.savefig('five-pops.pdf')\n",
    "plt.show();"
   ]
  },
  {
   "cell_type": "code",
   "execution_count": 12,
   "id": "a4747ce2",
   "metadata": {},
   "outputs": [
    {
     "data": {
      "text/plain": [
       "1338.9282421410517"
      ]
     },
     "execution_count": 12,
     "metadata": {},
     "output_type": "execute_result"
    }
   ],
   "source": [
    "demesdraw.utils.size_min(ooa5)"
   ]
  },
  {
   "cell_type": "markdown",
   "id": "4577358f",
   "metadata": {},
   "source": [
    "For the MXL population we would like to infer the effective population size."
   ]
  },
  {
   "cell_type": "code",
   "execution_count": 13,
   "id": "b3e936ad",
   "metadata": {
    "scrolled": true
   },
   "outputs": [
    {
     "data": {
      "text/markdown": [
       "```yaml\n",
       "# Parametrization for OOA model with Native American expansion\n",
       "# and Mexican admixture\n",
       "parameters:\n",
       "- name: Nmxl\n",
       "  description: Effective population size for MXL\n",
       "  upper_bound: 100000\n",
       "  lower_bound: 5000\n",
       "  values:\n",
       "  - demes:\n",
       "      MXL:\n",
       "        epochs:\n",
       "          0: start_size\n",
       "```"
      ],
      "text/plain": [
       "<IPython.core.display.Markdown object>"
      ]
     },
     "execution_count": 13,
     "metadata": {},
     "output_type": "execute_result"
    }
   ],
   "source": [
    "print_model(\"./ooa-5pops-options.yml\")"
   ]
  },
  {
   "cell_type": "markdown",
   "id": "1cdd1aba",
   "metadata": {},
   "source": [
    "## Inferred parameters"
   ]
  },
  {
   "cell_type": "code",
   "execution_count": null,
   "id": "56d5ce3e",
   "metadata": {},
   "outputs": [],
   "source": []
  }
 ],
 "metadata": {
  "kernelspec": {
   "display_name": "Python 3 (ipykernel)",
   "language": "python",
   "name": "python3"
  },
  "language_info": {
   "codemirror_mode": {
    "name": "ipython",
    "version": 3
   },
   "file_extension": ".py",
   "mimetype": "text/x-python",
   "name": "python",
   "nbconvert_exporter": "python",
   "pygments_lexer": "ipython3",
   "version": "3.9.6"
  }
 },
 "nbformat": 4,
 "nbformat_minor": 5
}
