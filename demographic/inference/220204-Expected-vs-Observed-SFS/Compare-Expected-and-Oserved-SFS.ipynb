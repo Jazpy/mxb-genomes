{
 "cells": [
  {
   "cell_type": "markdown",
   "id": "05695772",
   "metadata": {},
   "source": [
    "# Observed VS Expected SFS\n",
    "\n",
    "Here, I obtain the observed and expected 1d-SFS."
   ]
  },
  {
   "cell_type": "code",
   "execution_count": null,
   "id": "ff4695ae",
   "metadata": {},
   "outputs": [],
   "source": [
    "import moments\n",
    "import demes\n",
    "import gzip\n",
    "import pickle\n",
    "import matplotlib.pyplot as plt\n",
    "import numpy as np\n",
    "import pandas as pd\n",
    "import itertools"
   ]
  },
  {
   "cell_type": "code",
   "execution_count": null,
   "id": "b3916f21",
   "metadata": {},
   "outputs": [],
   "source": [
    "# Get the observed SFS\n",
    "# Load the intergenic SNPs\n",
    "\n",
    "data = '../../data/220113-ConstructBoostrapedDatasets/data/whole-genome/spectrum-cat_intronic.pkl.gz'\n",
    "\n",
    "with gzip.open(data, \"rb\") as f:\n",
    "    data = pickle.load(f)\n"
   ]
  },
  {
   "cell_type": "code",
   "execution_count": null,
   "id": "d57784ba",
   "metadata": {},
   "outputs": [],
   "source": [
    "N = 50\n",
    "data = data.project([N]*4)"
   ]
  },
  {
   "cell_type": "code",
   "execution_count": null,
   "id": "4b2f4100",
   "metadata": {},
   "outputs": [],
   "source": [
    "s = data.marginalize([1, 2, 3])"
   ]
  },
  {
   "cell_type": "code",
   "execution_count": null,
   "id": "74101528",
   "metadata": {},
   "outputs": [],
   "source": [
    "?moments.Spectrum.from_demes"
   ]
  },
  {
   "cell_type": "code",
   "execution_count": null,
   "id": "d9a02cf3",
   "metadata": {},
   "outputs": [],
   "source": [
    "# Get expected SFS under the model\n",
    "mdl = '../220124-InfereModels/results/best-guest-NAT-EXPANSION-intronic.yml'\n",
    "mdl = demes.load(mdl)\n"
   ]
  },
  {
   "cell_type": "code",
   "execution_count": null,
   "id": "122d0e45",
   "metadata": {},
   "outputs": [],
   "source": [
    "\n",
    "expected_sfs = moments.Spectrum.from_demes(\n",
    "    mdl,\n",
    "    sampled_demes=['YRI'],\n",
    "    sample_sizes=[50]\n",
    ")"
   ]
  },
  {
   "cell_type": "code",
   "execution_count": null,
   "id": "5d878bb3",
   "metadata": {},
   "outputs": [],
   "source": [
    "def spectrum_fold_to_array(sf):\n",
    "    '''Folds the expectrum and get a numpy array'''\n",
    "    sf_folded = sf.fold()\n",
    "    sf_folded = sf_folded[~sf_folded.mask].data\n",
    "    return sf_folded\n",
    "\n",
    "\n",
    "def to_frame(sfs_folded, pop, SFSfrom):\n",
    "    '''\n",
    "    Put the folded SFS in a pandas frame, with metadata info\n",
    "    '''\n",
    "    minor_alle_f = list(range(1, len(sfs_folded)+1))\n",
    "\n",
    "    d = {\n",
    "        'Population': pop,\n",
    "        'SF_from': SFSfrom,\n",
    "        'Frequency': sfs_folded,\n",
    "        'Minor_allel_freq': minor_alle_f\n",
    "    }\n",
    "    return pd.DataFrame(d)\n",
    "\n",
    "\n",
    "def get_observed_and_expected_sfs(pop):\n",
    "    index = data.pop_ids.index(pop)\n",
    "    indices = list(range(4))\n",
    "    indices.pop(index)\n",
    "    sf_data = data.marginalize(indices)\n",
    "    \n",
    "    ## expected SFS under the model\n",
    "    sf_expected = moments.Spectrum.from_demes(\n",
    "        mdl,\n",
    "        sampled_demes=[pop],\n",
    "        sample_sizes=[N]\n",
    "    )\n",
    "\n",
    "    sf_expected = moments.Inference.optimally_scaled_sfs(sf_expected, sf_data)\n",
    "    \n",
    "    ## fold and put results in a data frame\n",
    "    s_data = spectrum_fold_to_array(sf_data)\n",
    "    s_expected = spectrum_fold_to_array(sf_expected)\n",
    "\n",
    "    s_data = to_frame(s_data, pop, 'Data')\n",
    "    s_expected = to_frame(s_expected, pop, 'Expected')\n",
    "\n",
    "    return pd.concat([s_data, s_expected])"
   ]
  },
  {
   "cell_type": "code",
   "execution_count": null,
   "id": "93d3e37e",
   "metadata": {},
   "outputs": [],
   "source": [
    "results = pd.concat([get_observed_and_expected_sfs(x) for x in data.pop_ids])"
   ]
  },
  {
   "cell_type": "code",
   "execution_count": null,
   "id": "1f96e9b0",
   "metadata": {},
   "outputs": [],
   "source": [
    "results.to_csv('results/expected-observed-1dSFS.csv', index=False)"
   ]
  }
 ],
 "metadata": {
  "kernelspec": {
   "display_name": "Python 3 (ipykernel)",
   "language": "python",
   "name": "python3"
  },
  "language_info": {
   "codemirror_mode": {
    "name": "ipython",
    "version": 3
   },
   "file_extension": ".py",
   "mimetype": "text/x-python",
   "name": "python",
   "nbconvert_exporter": "python",
   "pygments_lexer": "ipython3",
   "version": "3.10.2"
  }
 },
 "nbformat": 4,
 "nbformat_minor": 5
}
