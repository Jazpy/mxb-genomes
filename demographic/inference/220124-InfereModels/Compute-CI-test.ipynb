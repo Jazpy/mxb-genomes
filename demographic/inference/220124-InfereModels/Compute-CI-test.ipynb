{
 "cells": [
  {
   "cell_type": "markdown",
   "id": "e20a2a82",
   "metadata": {},
   "source": [
    "# Compute CI"
   ]
  },
  {
   "cell_type": "code",
   "execution_count": 1,
   "id": "e8b6b056",
   "metadata": {},
   "outputs": [],
   "source": [
    "import os\n",
    "import glob\n",
    "import sys\n",
    "import re\n",
    "import pandas as pd\n",
    "import moments\n",
    "import pickle\n",
    "import gzip\n",
    "from IPython.display import Markdown as md\n",
    "import warnings\n",
    "\n",
    "# Function for printing syntax-highlighted YAML demes models\n",
    "# If there is a better way to do this, tell me!!\n",
    "def print_model(file_path):\n",
    "    with open(file_path) as f:\n",
    "        lines = f.read()\n",
    "    return md(\"```yaml\\n\" + lines + \"```\")\n",
    "warnings.filterwarnings('ignore')"
   ]
  },
  {
   "cell_type": "code",
   "execution_count": 2,
   "id": "70300da8",
   "metadata": {},
   "outputs": [],
   "source": [
    "varcat = 'intronic'\n",
    "\n",
    "## The model\n",
    "best_guest = f'results/best-guest-NAT-EXPANSION-{varcat}.yml'\n",
    "\n",
    "options = f'data/FULL-MODEL-options/full-mdl-{varcat}.yml'"
   ]
  },
  {
   "cell_type": "code",
   "execution_count": 3,
   "id": "90f81fb9",
   "metadata": {},
   "outputs": [
    {
     "data": {
      "text/markdown": [
       "```yaml\n",
       "description: The Gutenkunst et al. (2009) three-population model of human history,\n",
       "  modified by replacing CEU with IBS.\n",
       "time_units: years\n",
       "generation_time: 29\n",
       "doi: ['https://doi.org/10.1371/journal.pgen.1000695']\n",
       "demes:\n",
       "- name: ancestral\n",
       "  description: Equilibrium/root population\n",
       "  epochs:\n",
       "  - {end_time: 483457.24308765423, start_size: 13580.373657849503}\n",
       "- name: AMH\n",
       "  description: Anatomically modern humans\n",
       "  ancestors: [ancestral]\n",
       "  epochs:\n",
       "  - {end_time: 88347.64825867464, start_size: 27142.07281765073}\n",
       "- name: OOA\n",
       "  description: Bottleneck out-of-Africa population\n",
       "  ancestors: [AMH]\n",
       "  epochs:\n",
       "  - {end_time: 51166.128542006336, start_size: 1834.8116479610317}\n",
       "- name: YRI\n",
       "  description: Yoruba in Ibadan, Nigeria\n",
       "  ancestors: [AMH]\n",
       "  epochs:\n",
       "  - {end_time: 0, start_size: 27142.07281765073}\n",
       "- name: IBS\n",
       "  description: Iberian populations in Spain (IBS).\n",
       "  ancestors: [OOA]\n",
       "  epochs:\n",
       "  - {end_time: 0, start_size: 2761.3347067250797, end_size: 26462.05884107293}\n",
       "- name: CHB\n",
       "  description: Han Chinese in Beijing, China\n",
       "  ancestors: [OOA]\n",
       "  epochs:\n",
       "  - {end_time: 0, start_size: 1954.52946761033, end_size: 15363.53634144032}\n",
       "- name: MXB\n",
       "  description: Native American,  Mexico.\n",
       "  start_time: 32555.12765744615\n",
       "  ancestors: [CHB]\n",
       "  epochs:\n",
       "  - {end_time: 0, start_size: 1312.8044812722449, end_size: 38461.62164227266}\n",
       "migrations:\n",
       "- demes: [YRI, IBS]\n",
       "  rate: 2.501606466512543e-05\n",
       "- demes: [YRI, CHB]\n",
       "  rate: 3.2948319408915263e-06\n",
       "- demes: [IBS, CHB]\n",
       "  rate: 6.62400743683469e-05\n",
       "- demes: [YRI, OOA]\n",
       "  rate: 0.00015859499514691533\n",
       "```"
      ],
      "text/plain": [
       "<IPython.core.display.Markdown object>"
      ]
     },
     "execution_count": 3,
     "metadata": {},
     "output_type": "execute_result"
    }
   ],
   "source": [
    "print_model(best_guest)"
   ]
  },
  {
   "cell_type": "code",
   "execution_count": 4,
   "id": "9cf1f578",
   "metadata": {
    "scrolled": false
   },
   "outputs": [
    {
     "data": {
      "text/markdown": [
       "```yaml\n",
       "parameters:\n",
       "- name: TA\n",
       "  description: Time before present of ancestral expansion\n",
       "  values:\n",
       "  - demes:\n",
       "      ancestral:\n",
       "        epochs:\n",
       "          0: end_time\n",
       "- name: TB\n",
       "  description: Time of YRI-OOA split\n",
       "  values:\n",
       "  - demes:\n",
       "      AMH:\n",
       "        epochs:\n",
       "          0: end_time\n",
       "- name: TF\n",
       "  description: Time of IBS-CHB split\n",
       "  values:\n",
       "  - demes:\n",
       "      OOA:\n",
       "       epochs:\n",
       "         0: end_time\n",
       "- name: Ne\n",
       "  description: ancestral effective population size\n",
       "  values:\n",
       "  - demes:\n",
       "      ancestral:\n",
       "        epochs:\n",
       "          0: start_size\n",
       "- name: NA\n",
       "  description: expansion size in AMH and YRI\n",
       "  values:\n",
       "  - demes:\n",
       "      AMH:\n",
       "        epochs:\n",
       "          0: start_size\n",
       "      YRI:\n",
       "        epochs:\n",
       "          0: start_size\n",
       "- name: NB\n",
       "  description: Bottleneck size for Eurasian populations\n",
       "  values:\n",
       "  - demes:\n",
       "      OOA:\n",
       "        epochs:\n",
       "          0: start_size\n",
       "- name: NEu0\n",
       "  description: initial IBS size\n",
       "  values:\n",
       "  - demes:\n",
       "      IBS:\n",
       "        epochs:\n",
       "          0: start_size\n",
       "- name: NEuF\n",
       "  description: final IBS size\n",
       "  values:\n",
       "  - demes:\n",
       "      IBS:\n",
       "        epochs:\n",
       "          0: end_size\n",
       "- name: NAs0\n",
       "  description: initial CHB size\n",
       "  values:\n",
       "  - demes:\n",
       "      CHB:\n",
       "        epochs:\n",
       "          0: start_size\n",
       "- name: NAsF\n",
       "  description: final CHB size\n",
       "  values:\n",
       "  - demes:\n",
       "      CHB:\n",
       "        epochs:\n",
       "          0: end_size\n",
       "- name: mAfB\n",
       "  description: migration rate between Africa and OOA bottleneck\n",
       "  values:\n",
       "  - migrations:\n",
       "      0: rate\n",
       "- name: mAfEu\n",
       "  description: migration rate between Africa and Europe\n",
       "  values:\n",
       "  - migrations:\n",
       "      1: rate\n",
       "- name: mAfAs\n",
       "  description: migration rate between Africa and E Asia\n",
       "  values:\n",
       "  - migrations:\n",
       "      2: rate\n",
       "- name: mEuAs\n",
       "  description: migration rate between Europe and E Asia\n",
       "  values:\n",
       "  - migrations:\n",
       "      3: rate\n",
       "- name: TN\n",
       "  description: Time of MXB branching from CHB.\n",
       "  upper_bound: 51166.128542006336\n",
       "  values:\n",
       "  - demes:\n",
       "      MXB: start_time\n",
       "- name: NCmxI\n",
       "  description: Initial population size in MXB\n",
       "  values:\n",
       "  - demes:\n",
       "      MXB:\n",
       "        epochs:\n",
       "          0: start_size\n",
       "- name: NCmxF\n",
       "  description: Final population size in MXB\n",
       "  values:\n",
       "  - demes:\n",
       "      MXB:\n",
       "        epochs:\n",
       "          0: end_size\n",
       "constraints:\n",
       "- params: [TA, TB]\n",
       "  constraint: greater_than\n",
       "- params: [TB, TF]\n",
       "  constraint: greater_than\n",
       "```"
      ],
      "text/plain": [
       "<IPython.core.display.Markdown object>"
      ]
     },
     "execution_count": 4,
     "metadata": {},
     "output_type": "execute_result"
    }
   ],
   "source": [
    "print_model(options)"
   ]
  },
  {
   "cell_type": "markdown",
   "id": "63797c8f",
   "metadata": {},
   "source": [
    "## BOOSTRAPED DATA\n"
   ]
  },
  {
   "cell_type": "code",
   "execution_count": 5,
   "id": "38c6ec9a",
   "metadata": {},
   "outputs": [],
   "source": [
    "def varcat_ml(varcat):\n",
    "    if varcat == 'intronic':\n",
    "        return 'introns'\n",
    "    else:\n",
    "        return varcat\n",
    "\n",
    "pattern = f'''\n",
    "../../data/220113-ConstructBoostrapedDatasets/\n",
    "data/mL-noncoding/mLs/mL_{varcat_ml(varcat)}_chunk_*.txt\n",
    "'''.strip().replace('\\n', '')\n",
    "\n",
    "mL_files = glob.glob(pattern)\n",
    "\n",
    "def read_mL_from_file(mL_file):\n",
    "    '''Read mL from file'''\n",
    "    f = open(mL_file, 'r')\n",
    "    mL = f.readlines()[0]\n",
    "    mL = mL.replace('mL:', '')\n",
    "    mL = mL.strip()\n",
    "    mL = float(mL)\n",
    "    f.close()\n",
    "    return mL\n",
    "\n",
    "def get_boostrap_id_from_file(file):\n",
    "    file = os.path.basename(file)\n",
    "    return re.search('_chunk_(\\d*)', file).group(1)\n",
    "\n",
    "\n",
    "mLs = {get_boostrap_id_from_file(f): read_mL_from_file(f) for f in mL_files}"
   ]
  },
  {
   "cell_type": "code",
   "execution_count": null,
   "id": "2de9f8b5",
   "metadata": {},
   "outputs": [
    {
     "name": "stdout",
     "output_type": "stream",
     "text": [
      "Loading data spectrum_chunk_6_cat_intronic.pkl.gz\n"
     ]
    }
   ],
   "source": [
    "pattern = f'''\n",
    "../../data/220113-ConstructBoostrapedDatasets/data/jSFS/spectrums/\n",
    "spectrum_chunk_*_cat_{varcat}.pkl.gz\n",
    "'''.replace('\\n', '').strip()\n",
    "\n",
    "\n",
    "\n",
    "def load_spectrum(sf_file):\n",
    "    print(f'Loading data {os.path.basename(sf_file)}')\n",
    "    with gzip.open(sf_file, \"rb\") as f:\n",
    "        sf = pickle.load(f)\n",
    "    \n",
    "    # PROJECT AND FOLD\n",
    "    size = [20] * 4\n",
    "    sf = sf.project(size)\n",
    "    sf = sf.fold()\n",
    "    return sf\n",
    "\n",
    "\n",
    "# TODO: I'm ussing 10 for testing\n",
    "sf_files = glob.glob(pattern)[:5]\n",
    "\n",
    "spectrums = {\n",
    "    get_boostrap_id_from_file(f): load_spectrum(f) for f in sf_files\n",
    "}"
   ]
  },
  {
   "cell_type": "code",
   "execution_count": null,
   "id": "2723b305",
   "metadata": {},
   "outputs": [],
   "source": [
    "boostrap_ids = spectrums.keys()\n",
    "bootstraps_mL = [mLs[i] for i in boostrap_ids]\n",
    "mL = sum(bootstraps_mL)\n",
    "bootstraps = [spectrums[i] for i in boostrap_ids]\n",
    "data = sum(bootstraps)"
   ]
  },
  {
   "cell_type": "code",
   "execution_count": null,
   "id": "d60a01a6",
   "metadata": {},
   "outputs": [],
   "source": [
    "sf = bootstraps[1]\n",
    "sf.folded"
   ]
  },
  {
   "cell_type": "code",
   "execution_count": null,
   "id": "0a9d0e0e",
   "metadata": {},
   "outputs": [],
   "source": [
    "sf.shape"
   ]
  },
  {
   "cell_type": "code",
   "execution_count": null,
   "id": "7b3790fd",
   "metadata": {},
   "outputs": [],
   "source": [
    "sf.pop_ids"
   ]
  },
  {
   "cell_type": "markdown",
   "id": "ceff45bc",
   "metadata": {},
   "source": [
    "## Estimate CI: GIM method"
   ]
  },
  {
   "cell_type": "code",
   "execution_count": null,
   "id": "cf1ab9f9",
   "metadata": {},
   "outputs": [],
   "source": [
    "# I don want to infer the model, I just want to guet the params\n",
    "# and the likelihood.\n",
    "#ret = moments.Demes.Inference.optimize(\n",
    "#    best_guest, #best_guest\n",
    "#    options,\n",
    "#    data,\n",
    "#    maxiter=2,\n",
    "#    verbose=1,\n",
    "#    uL=mL,\n",
    "#    perturb=1,\n",
    "#    output=None,\n",
    "#    overwrite=False\n",
    "#)"
   ]
  },
  {
   "cell_type": "code",
   "execution_count": null,
   "id": "ed5030a6",
   "metadata": {},
   "outputs": [],
   "source": [
    "std_err = moments.Demes.Inference.uncerts(\n",
    "    best_guest,\n",
    "    options,\n",
    "    data,\n",
    "    bootstraps=bootstraps,\n",
    "    uL=mL,\n",
    "    bootstraps_uL=bootstraps_mL,\n",
    "    method=\"GIM\",\n",
    ")\n",
    "print(std_err)"
   ]
  }
 ],
 "metadata": {
  "kernelspec": {
   "display_name": "Python 3 (ipykernel)",
   "language": "python",
   "name": "python3"
  },
  "language_info": {
   "codemirror_mode": {
    "name": "ipython",
    "version": 3
   },
   "file_extension": ".py",
   "mimetype": "text/x-python",
   "name": "python",
   "nbconvert_exporter": "python",
   "pygments_lexer": "ipython3",
   "version": "3.10.2"
  }
 },
 "nbformat": 4,
 "nbformat_minor": 5
}
