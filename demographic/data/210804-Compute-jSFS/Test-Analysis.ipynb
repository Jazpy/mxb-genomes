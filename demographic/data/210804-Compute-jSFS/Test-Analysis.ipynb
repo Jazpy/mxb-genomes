{
 "cells": [
  {
   "cell_type": "code",
   "execution_count": 1,
   "id": "2aa33588",
   "metadata": {},
   "outputs": [],
   "source": [
    "import numpy as np\n",
    "import moments\n",
    "import os\n",
    "import pandas as pd\n",
    "import gzip\n",
    "import pickle\n",
    "import matplotlib.pyplot as plt\n",
    "%matplotlib inline"
   ]
  },
  {
   "cell_type": "code",
   "execution_count": 2,
   "id": "4e0972d4",
   "metadata": {},
   "outputs": [
    {
     "name": "stdout",
     "output_type": "stream",
     "text": [
      "Total SNPs: 81487\r\n",
      "\r\n",
      "\r\n",
      "    SNPs discarded: 4935, 6.056 %\r\n",
      "        Why?:\r\n",
      "            - low confident (acgt): 2676\r\n",
      "            - failure (N): 79\r\n",
      "            - extant species contains insertion (-): 432\r\n",
      "            - no coverage in aligment (.): 1562\r\n",
      "            - ancestral high confidence but is not ALT or REF: 186\r\n",
      "\r\n",
      "\r\n",
      "    SNPs kept (only high confidence: ACGT): 76552,  93.944 %\r\n",
      "            - REF is AA: 70352\r\n",
      "            - ALT is AA: 6200\r\n",
      "\r\n",
      "    "
     ]
    }
   ],
   "source": [
    "!cat data/spectrums/5d-csq-synonymous-stats.txt"
   ]
  },
  {
   "cell_type": "code",
   "execution_count": 5,
   "id": "fe98b0d7",
   "metadata": {},
   "outputs": [
    {
     "name": "stdout",
     "output_type": "stream",
     "text": [
      "loading data/spectrums/5d-csq-synonymous-spectrum.pkl.gz ...\n",
      "loading data/spectrums/5d-csq-missense-spectrum.pkl.gz ...\n",
      "loading data/spectrums/5d-csq-lof-spectrum.pkl.gz ...\n"
     ]
    }
   ],
   "source": [
    "def load_spectrum(file, compresed=True):\n",
    "    \"\"\"Load the SFS\"\"\"\n",
    "    print(f'loading {file} ...')\n",
    "    if compresed:\n",
    "        with gzip.open(file, 'rb') as f:\n",
    "            return pickle.load(f)\n",
    "    else:\n",
    "        with open(file, 'rb') as f:\n",
    "            return pickle.load(f)\n",
    "\n",
    "        \n",
    "\n",
    "var_clas = ('synonymous', 'missense', 'lof')\n",
    "\n",
    "# load class\n",
    "catfile = lambda x: 'data/spectrums/' + '5d-csq-' + x + '-spectrum.pkl.gz'\n",
    "\n",
    "sfss = {x: load_spectrum(catfile(x)) for x in var_clas}"
   ]
  },
  {
   "cell_type": "code",
   "execution_count": 6,
   "id": "63f62845",
   "metadata": {},
   "outputs": [],
   "source": [
    "# marginalize for mxl\n",
    "mxl = {x: sfss[x].marginalize([0, 1, 2, 4]) for x in sfss}"
   ]
  },
  {
   "cell_type": "code",
   "execution_count": 7,
   "id": "f97f9e9f",
   "metadata": {},
   "outputs": [
    {
     "data": {
      "text/plain": [
       "['MXL']"
      ]
     },
     "execution_count": 7,
     "metadata": {},
     "output_type": "execute_result"
    }
   ],
   "source": [
    "mxl['lof'].pop_ids"
   ]
  },
  {
   "cell_type": "code",
   "execution_count": 8,
   "id": "d0da7837",
   "metadata": {},
   "outputs": [
    {
     "name": "stdout",
     "output_type": "stream",
     "text": [
      "loading data/spectrums/1d-csq-lof-spectrum.pkl ...\n"
     ]
    }
   ],
   "source": [
    "mxl_1d_lof = load_spectrum('data/spectrums/1d-csq-lof-spectrum.pkl', False)"
   ]
  },
  {
   "cell_type": "markdown",
   "id": "84a09a1f",
   "metadata": {},
   "source": [
    "## Test\n",
    "\n",
    "Marginalized spectrum matches values in spectrum computed with only one population SFS."
   ]
  },
  {
   "cell_type": "code",
   "execution_count": 9,
   "id": "f65d223c",
   "metadata": {},
   "outputs": [
    {
     "data": {
      "text/plain": [
       "Spectrum([-- True True True True True True True True True True True True True True\n",
       " True True True True True True True True True True True True True True\n",
       " True True True True True True True True True True True True True True\n",
       " True True True True True True True --], folded=False, pop_ids=['MXL'])"
      ]
     },
     "execution_count": 9,
     "metadata": {},
     "output_type": "execute_result"
    }
   ],
   "source": [
    "# test (all must be True)\n",
    "mxl_1d_lof == mxl['lof']"
   ]
  },
  {
   "cell_type": "code",
   "execution_count": 10,
   "id": "146ba8ae",
   "metadata": {},
   "outputs": [
    {
     "data": {
      "text/plain": [
       "(51,)"
      ]
     },
     "execution_count": 10,
     "metadata": {},
     "output_type": "execute_result"
    }
   ],
   "source": [
    "mxl['lof'].shape"
   ]
  },
  {
   "cell_type": "code",
   "execution_count": 11,
   "id": "09c90569",
   "metadata": {},
   "outputs": [
    {
     "data": {
      "text/plain": [
       "(49,)"
      ]
     },
     "execution_count": 11,
     "metadata": {},
     "output_type": "execute_result"
    }
   ],
   "source": [
    "mxl['lof'][1:-1].shape"
   ]
  },
  {
   "cell_type": "code",
   "execution_count": 12,
   "id": "81892e61",
   "metadata": {},
   "outputs": [],
   "source": [
    "mxl_df = pd.DataFrame({x: mxl[x][1:-1] for x in mxl})\n",
    "mxl_df['Frq'] = range(1, mxl_df.shape[0] + 1)"
   ]
  },
  {
   "cell_type": "code",
   "execution_count": 22,
   "id": "4c272485",
   "metadata": {},
   "outputs": [],
   "source": [
    "!mkdir -p results figures"
   ]
  },
  {
   "cell_type": "code",
   "execution_count": 15,
   "id": "c64b2941",
   "metadata": {},
   "outputs": [],
   "source": [
    "mxl_df.to_csv('results/mxl.csv', index=False)"
   ]
  },
  {
   "cell_type": "code",
   "execution_count": 16,
   "id": "a546b10f",
   "metadata": {},
   "outputs": [
    {
     "data": {
      "text/plain": [
       "nan"
      ]
     },
     "execution_count": 16,
     "metadata": {},
     "output_type": "execute_result"
    }
   ],
   "source": [
    "mxl['missense'].Fst()"
   ]
  },
  {
   "cell_type": "code",
   "execution_count": 17,
   "id": "8afc82cb",
   "metadata": {},
   "outputs": [
    {
     "data": {
      "text/plain": [
       "['CHB', 'IBS', 'MXB', 'MXL', 'YRI']"
      ]
     },
     "execution_count": 17,
     "metadata": {},
     "output_type": "execute_result"
    }
   ],
   "source": [
    "syn = sfss['synonymous']\n",
    "syn.pop_ids"
   ]
  },
  {
   "cell_type": "code",
   "execution_count": 23,
   "id": "5f0c4ac0",
   "metadata": {},
   "outputs": [
    {
     "data": {
      "image/png": "[encoded data removed]",
      "text/plain": [
       "<Figure size 432x288 with 2 Axes>"
      ]
     },
     "metadata": {
      "needs_background": "light"
     },
     "output_type": "display_data"
    },
    {
     "data": {
      "text/plain": [
       "<Figure size 432x288 with 0 Axes>"
      ]
     },
     "metadata": {},
     "output_type": "display_data"
    }
   ],
   "source": [
    "moments.Plotting.plot_single_2d_sfs(syn.marginalize([0, 1, 3]))\n",
    "plt.savefig('figures/2d-mxb-yri.png')"
   ]
  },
  {
   "cell_type": "code",
   "execution_count": 24,
   "id": "c4d3d994",
   "metadata": {},
   "outputs": [
    {
     "data": {
      "image/png": "[encoded data removed]",
      "text/plain": [
       "<Figure size 432x288 with 2 Axes>"
      ]
     },
     "metadata": {
      "needs_background": "light"
     },
     "output_type": "display_data"
    },
    {
     "data": {
      "text/plain": [
       "<Figure size 432x288 with 0 Axes>"
      ]
     },
     "metadata": {},
     "output_type": "display_data"
    }
   ],
   "source": [
    "moments.Plotting.plot_single_2d_sfs(syn.marginalize([1, 3, 4]))\n",
    "plt.savefig('figures/2d-mxb-chb.png')\n",
    "plt.show()"
   ]
  },
  {
   "cell_type": "code",
   "execution_count": 25,
   "id": "d9ca2b6a",
   "metadata": {},
   "outputs": [
    {
     "data": {
      "image/png": "[encoded data removed]",
      "text/plain": [
       "<Figure size 432x288 with 2 Axes>"
      ]
     },
     "metadata": {
      "needs_background": "light"
     },
     "output_type": "display_data"
    },
    {
     "data": {
      "text/plain": [
       "<Figure size 432x288 with 0 Axes>"
      ]
     },
     "metadata": {},
     "output_type": "display_data"
    }
   ],
   "source": [
    "moments.Plotting.plot_single_2d_sfs(syn.marginalize([0, 1, 4]))\n",
    "plt.savefig('figures/2d-mxb-mxl.png')\n",
    "plt.show()"
   ]
  }
 ],
 "metadata": {
  "kernelspec": {
   "display_name": "Python 3 (ipykernel)",
   "language": "python",
   "name": "python3"
  },
  "language_info": {
   "codemirror_mode": {
    "name": "ipython",
    "version": 3
   },
   "file_extension": ".py",
   "mimetype": "text/x-python",
   "name": "python",
   "nbconvert_exporter": "python",
   "pygments_lexer": "ipython3",
   "version": "3.10.0"
  }
 },
 "nbformat": 4,
 "nbformat_minor": 5
}
